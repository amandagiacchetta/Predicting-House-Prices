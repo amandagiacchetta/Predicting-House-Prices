{
 "cells": [
  {
   "source": [
    "# Predicting House Prices "
   ],
   "cell_type": "markdown",
   "metadata": {}
  },
  {
   "cell_type": "code",
   "execution_count": null,
   "metadata": {},
   "outputs": [],
   "source": [
    "## https://s3.amazonaws.com/dq-content/307/data_description.txt"
   ]
  },
  {
   "cell_type": "code",
   "execution_count": 98,
   "metadata": {
    "collapsed": true
   },
   "outputs": [],
   "source": [
    "import pandas as pd\n",
    "import numpy as np  \n",
    "import matplotlib.pyplot as plt\n",
    "import seaborn as sns\n",
    "from sklearn.linear_model import LinearRegression\n",
    "from sklearn.metrics import mean_squared_error\n",
    "from sklearn.preprocessing import MinMaxScaler\n",
    "from sklearn.model_selection import cross_val_score, KFold"
   ]
  },
  {
   "cell_type": "code",
   "execution_count": 3,
   "metadata": {},
   "outputs": [],
   "source": [
    "data = pd.read_csv('AmesHousing.tsv', delimiter='\\t')"
   ]
  },
  {
   "cell_type": "code",
   "execution_count": 70,
   "metadata": {},
   "outputs": [],
   "source": [
    "pd.options.display.max_columns = 999\n",
    "pd.options.display.max_rows = 100"
   ]
  },
  {
   "cell_type": "code",
   "execution_count": 5,
   "metadata": {},
   "outputs": [
    {
     "output_type": "execute_result",
     "data": {
      "text/plain": [
       "   Order        PID  MS SubClass MS Zoning  Lot Frontage  Lot Area Street  \\\n",
       "0      1  526301100           20        RL         141.0     31770   Pave   \n",
       "1      2  526350040           20        RH          80.0     11622   Pave   \n",
       "2      3  526351010           20        RL          81.0     14267   Pave   \n",
       "3      4  526353030           20        RL          93.0     11160   Pave   \n",
       "4      5  527105010           60        RL          74.0     13830   Pave   \n",
       "\n",
       "  Alley Lot Shape Land Contour Utilities Lot Config Land Slope Neighborhood  \\\n",
       "0   NaN       IR1          Lvl    AllPub     Corner        Gtl        NAmes   \n",
       "1   NaN       Reg          Lvl    AllPub     Inside        Gtl        NAmes   \n",
       "2   NaN       IR1          Lvl    AllPub     Corner        Gtl        NAmes   \n",
       "3   NaN       Reg          Lvl    AllPub     Corner        Gtl        NAmes   \n",
       "4   NaN       IR1          Lvl    AllPub     Inside        Gtl      Gilbert   \n",
       "\n",
       "  Condition 1 Condition 2 Bldg Type House Style  Overall Qual  Overall Cond  \\\n",
       "0        Norm        Norm      1Fam      1Story             6             5   \n",
       "1       Feedr        Norm      1Fam      1Story             5             6   \n",
       "2        Norm        Norm      1Fam      1Story             6             6   \n",
       "3        Norm        Norm      1Fam      1Story             7             5   \n",
       "4        Norm        Norm      1Fam      2Story             5             5   \n",
       "\n",
       "   Year Built  Year Remod/Add Roof Style Roof Matl Exterior 1st Exterior 2nd  \\\n",
       "0        1960            1960        Hip   CompShg      BrkFace      Plywood   \n",
       "1        1961            1961      Gable   CompShg      VinylSd      VinylSd   \n",
       "2        1958            1958        Hip   CompShg      Wd Sdng      Wd Sdng   \n",
       "3        1968            1968        Hip   CompShg      BrkFace      BrkFace   \n",
       "4        1997            1998      Gable   CompShg      VinylSd      VinylSd   \n",
       "\n",
       "  Mas Vnr Type  Mas Vnr Area Exter Qual Exter Cond Foundation Bsmt Qual  \\\n",
       "0        Stone         112.0         TA         TA     CBlock        TA   \n",
       "1         None           0.0         TA         TA     CBlock        TA   \n",
       "2      BrkFace         108.0         TA         TA     CBlock        TA   \n",
       "3         None           0.0         Gd         TA     CBlock        TA   \n",
       "4         None           0.0         TA         TA      PConc        Gd   \n",
       "\n",
       "  Bsmt Cond Bsmt Exposure BsmtFin Type 1  BsmtFin SF 1 BsmtFin Type 2  \\\n",
       "0        Gd            Gd            BLQ         639.0            Unf   \n",
       "1        TA            No            Rec         468.0            LwQ   \n",
       "2        TA            No            ALQ         923.0            Unf   \n",
       "3        TA            No            ALQ        1065.0            Unf   \n",
       "4        TA            No            GLQ         791.0            Unf   \n",
       "\n",
       "   BsmtFin SF 2  Bsmt Unf SF  Total Bsmt SF Heating Heating QC Central Air  \\\n",
       "0           0.0        441.0         1080.0    GasA         Fa           Y   \n",
       "1         144.0        270.0          882.0    GasA         TA           Y   \n",
       "2           0.0        406.0         1329.0    GasA         TA           Y   \n",
       "3           0.0       1045.0         2110.0    GasA         Ex           Y   \n",
       "4           0.0        137.0          928.0    GasA         Gd           Y   \n",
       "\n",
       "  Electrical  1st Flr SF  2nd Flr SF  Low Qual Fin SF  Gr Liv Area  \\\n",
       "0      SBrkr        1656           0                0         1656   \n",
       "1      SBrkr         896           0                0          896   \n",
       "2      SBrkr        1329           0                0         1329   \n",
       "3      SBrkr        2110           0                0         2110   \n",
       "4      SBrkr         928         701                0         1629   \n",
       "\n",
       "   Bsmt Full Bath  Bsmt Half Bath  Full Bath  Half Bath  Bedroom AbvGr  \\\n",
       "0             1.0             0.0          1          0              3   \n",
       "1             0.0             0.0          1          0              2   \n",
       "2             0.0             0.0          1          1              3   \n",
       "3             1.0             0.0          2          1              3   \n",
       "4             0.0             0.0          2          1              3   \n",
       "\n",
       "   Kitchen AbvGr Kitchen Qual  TotRms AbvGrd Functional  Fireplaces  \\\n",
       "0              1           TA              7        Typ           2   \n",
       "1              1           TA              5        Typ           0   \n",
       "2              1           Gd              6        Typ           0   \n",
       "3              1           Ex              8        Typ           2   \n",
       "4              1           TA              6        Typ           1   \n",
       "\n",
       "  Fireplace Qu Garage Type  Garage Yr Blt Garage Finish  Garage Cars  \\\n",
       "0           Gd      Attchd         1960.0           Fin          2.0   \n",
       "1          NaN      Attchd         1961.0           Unf          1.0   \n",
       "2          NaN      Attchd         1958.0           Unf          1.0   \n",
       "3           TA      Attchd         1968.0           Fin          2.0   \n",
       "4           TA      Attchd         1997.0           Fin          2.0   \n",
       "\n",
       "   Garage Area Garage Qual Garage Cond Paved Drive  Wood Deck SF  \\\n",
       "0        528.0          TA          TA           P           210   \n",
       "1        730.0          TA          TA           Y           140   \n",
       "2        312.0          TA          TA           Y           393   \n",
       "3        522.0          TA          TA           Y             0   \n",
       "4        482.0          TA          TA           Y           212   \n",
       "\n",
       "   Open Porch SF  Enclosed Porch  3Ssn Porch  Screen Porch  Pool Area Pool QC  \\\n",
       "0             62               0           0             0          0     NaN   \n",
       "1              0               0           0           120          0     NaN   \n",
       "2             36               0           0             0          0     NaN   \n",
       "3              0               0           0             0          0     NaN   \n",
       "4             34               0           0             0          0     NaN   \n",
       "\n",
       "   Fence Misc Feature  Misc Val  Mo Sold  Yr Sold Sale Type Sale Condition  \\\n",
       "0    NaN          NaN         0        5     2010       WD          Normal   \n",
       "1  MnPrv          NaN         0        6     2010       WD          Normal   \n",
       "2    NaN         Gar2     12500        6     2010       WD          Normal   \n",
       "3    NaN          NaN         0        4     2010       WD          Normal   \n",
       "4  MnPrv          NaN         0        3     2010       WD          Normal   \n",
       "\n",
       "   SalePrice  \n",
       "0     215000  \n",
       "1     105000  \n",
       "2     172000  \n",
       "3     244000  \n",
       "4     189900  "
      ],
      "text/html": "<div>\n<style scoped>\n    .dataframe tbody tr th:only-of-type {\n        vertical-align: middle;\n    }\n\n    .dataframe tbody tr th {\n        vertical-align: top;\n    }\n\n    .dataframe thead th {\n        text-align: right;\n    }\n</style>\n<table border=\"1\" class=\"dataframe\">\n  <thead>\n    <tr style=\"text-align: right;\">\n      <th></th>\n      <th>Order</th>\n      <th>PID</th>\n      <th>MS SubClass</th>\n      <th>MS Zoning</th>\n      <th>Lot Frontage</th>\n      <th>Lot Area</th>\n      <th>Street</th>\n      <th>Alley</th>\n      <th>Lot Shape</th>\n      <th>Land Contour</th>\n      <th>Utilities</th>\n      <th>Lot Config</th>\n      <th>Land Slope</th>\n      <th>Neighborhood</th>\n      <th>Condition 1</th>\n      <th>Condition 2</th>\n      <th>Bldg Type</th>\n      <th>House Style</th>\n      <th>Overall Qual</th>\n      <th>Overall Cond</th>\n      <th>Year Built</th>\n      <th>Year Remod/Add</th>\n      <th>Roof Style</th>\n      <th>Roof Matl</th>\n      <th>Exterior 1st</th>\n      <th>Exterior 2nd</th>\n      <th>Mas Vnr Type</th>\n      <th>Mas Vnr Area</th>\n      <th>Exter Qual</th>\n      <th>Exter Cond</th>\n      <th>Foundation</th>\n      <th>Bsmt Qual</th>\n      <th>Bsmt Cond</th>\n      <th>Bsmt Exposure</th>\n      <th>BsmtFin Type 1</th>\n      <th>BsmtFin SF 1</th>\n      <th>BsmtFin Type 2</th>\n      <th>BsmtFin SF 2</th>\n      <th>Bsmt Unf SF</th>\n      <th>Total Bsmt SF</th>\n      <th>Heating</th>\n      <th>Heating QC</th>\n      <th>Central Air</th>\n      <th>Electrical</th>\n      <th>1st Flr SF</th>\n      <th>2nd Flr SF</th>\n      <th>Low Qual Fin SF</th>\n      <th>Gr Liv Area</th>\n      <th>Bsmt Full Bath</th>\n      <th>Bsmt Half Bath</th>\n      <th>Full Bath</th>\n      <th>Half Bath</th>\n      <th>Bedroom AbvGr</th>\n      <th>Kitchen AbvGr</th>\n      <th>Kitchen Qual</th>\n      <th>TotRms AbvGrd</th>\n      <th>Functional</th>\n      <th>Fireplaces</th>\n      <th>Fireplace Qu</th>\n      <th>Garage Type</th>\n      <th>Garage Yr Blt</th>\n      <th>Garage Finish</th>\n      <th>Garage Cars</th>\n      <th>Garage Area</th>\n      <th>Garage Qual</th>\n      <th>Garage Cond</th>\n      <th>Paved Drive</th>\n      <th>Wood Deck SF</th>\n      <th>Open Porch SF</th>\n      <th>Enclosed Porch</th>\n      <th>3Ssn Porch</th>\n      <th>Screen Porch</th>\n      <th>Pool Area</th>\n      <th>Pool QC</th>\n      <th>Fence</th>\n      <th>Misc Feature</th>\n      <th>Misc Val</th>\n      <th>Mo Sold</th>\n      <th>Yr Sold</th>\n      <th>Sale Type</th>\n      <th>Sale Condition</th>\n      <th>SalePrice</th>\n    </tr>\n  </thead>\n  <tbody>\n    <tr>\n      <th>0</th>\n      <td>1</td>\n      <td>526301100</td>\n      <td>20</td>\n      <td>RL</td>\n      <td>141.0</td>\n      <td>31770</td>\n      <td>Pave</td>\n      <td>NaN</td>\n      <td>IR1</td>\n      <td>Lvl</td>\n      <td>AllPub</td>\n      <td>Corner</td>\n      <td>Gtl</td>\n      <td>NAmes</td>\n      <td>Norm</td>\n      <td>Norm</td>\n      <td>1Fam</td>\n      <td>1Story</td>\n      <td>6</td>\n      <td>5</td>\n      <td>1960</td>\n      <td>1960</td>\n      <td>Hip</td>\n      <td>CompShg</td>\n      <td>BrkFace</td>\n      <td>Plywood</td>\n      <td>Stone</td>\n      <td>112.0</td>\n      <td>TA</td>\n      <td>TA</td>\n      <td>CBlock</td>\n      <td>TA</td>\n      <td>Gd</td>\n      <td>Gd</td>\n      <td>BLQ</td>\n      <td>639.0</td>\n      <td>Unf</td>\n      <td>0.0</td>\n      <td>441.0</td>\n      <td>1080.0</td>\n      <td>GasA</td>\n      <td>Fa</td>\n      <td>Y</td>\n      <td>SBrkr</td>\n      <td>1656</td>\n      <td>0</td>\n      <td>0</td>\n      <td>1656</td>\n      <td>1.0</td>\n      <td>0.0</td>\n      <td>1</td>\n      <td>0</td>\n      <td>3</td>\n      <td>1</td>\n      <td>TA</td>\n      <td>7</td>\n      <td>Typ</td>\n      <td>2</td>\n      <td>Gd</td>\n      <td>Attchd</td>\n      <td>1960.0</td>\n      <td>Fin</td>\n      <td>2.0</td>\n      <td>528.0</td>\n      <td>TA</td>\n      <td>TA</td>\n      <td>P</td>\n      <td>210</td>\n      <td>62</td>\n      <td>0</td>\n      <td>0</td>\n      <td>0</td>\n      <td>0</td>\n      <td>NaN</td>\n      <td>NaN</td>\n      <td>NaN</td>\n      <td>0</td>\n      <td>5</td>\n      <td>2010</td>\n      <td>WD</td>\n      <td>Normal</td>\n      <td>215000</td>\n    </tr>\n    <tr>\n      <th>1</th>\n      <td>2</td>\n      <td>526350040</td>\n      <td>20</td>\n      <td>RH</td>\n      <td>80.0</td>\n      <td>11622</td>\n      <td>Pave</td>\n      <td>NaN</td>\n      <td>Reg</td>\n      <td>Lvl</td>\n      <td>AllPub</td>\n      <td>Inside</td>\n      <td>Gtl</td>\n      <td>NAmes</td>\n      <td>Feedr</td>\n      <td>Norm</td>\n      <td>1Fam</td>\n      <td>1Story</td>\n      <td>5</td>\n      <td>6</td>\n      <td>1961</td>\n      <td>1961</td>\n      <td>Gable</td>\n      <td>CompShg</td>\n      <td>VinylSd</td>\n      <td>VinylSd</td>\n      <td>None</td>\n      <td>0.0</td>\n      <td>TA</td>\n      <td>TA</td>\n      <td>CBlock</td>\n      <td>TA</td>\n      <td>TA</td>\n      <td>No</td>\n      <td>Rec</td>\n      <td>468.0</td>\n      <td>LwQ</td>\n      <td>144.0</td>\n      <td>270.0</td>\n      <td>882.0</td>\n      <td>GasA</td>\n      <td>TA</td>\n      <td>Y</td>\n      <td>SBrkr</td>\n      <td>896</td>\n      <td>0</td>\n      <td>0</td>\n      <td>896</td>\n      <td>0.0</td>\n      <td>0.0</td>\n      <td>1</td>\n      <td>0</td>\n      <td>2</td>\n      <td>1</td>\n      <td>TA</td>\n      <td>5</td>\n      <td>Typ</td>\n      <td>0</td>\n      <td>NaN</td>\n      <td>Attchd</td>\n      <td>1961.0</td>\n      <td>Unf</td>\n      <td>1.0</td>\n      <td>730.0</td>\n      <td>TA</td>\n      <td>TA</td>\n      <td>Y</td>\n      <td>140</td>\n      <td>0</td>\n      <td>0</td>\n      <td>0</td>\n      <td>120</td>\n      <td>0</td>\n      <td>NaN</td>\n      <td>MnPrv</td>\n      <td>NaN</td>\n      <td>0</td>\n      <td>6</td>\n      <td>2010</td>\n      <td>WD</td>\n      <td>Normal</td>\n      <td>105000</td>\n    </tr>\n    <tr>\n      <th>2</th>\n      <td>3</td>\n      <td>526351010</td>\n      <td>20</td>\n      <td>RL</td>\n      <td>81.0</td>\n      <td>14267</td>\n      <td>Pave</td>\n      <td>NaN</td>\n      <td>IR1</td>\n      <td>Lvl</td>\n      <td>AllPub</td>\n      <td>Corner</td>\n      <td>Gtl</td>\n      <td>NAmes</td>\n      <td>Norm</td>\n      <td>Norm</td>\n      <td>1Fam</td>\n      <td>1Story</td>\n      <td>6</td>\n      <td>6</td>\n      <td>1958</td>\n      <td>1958</td>\n      <td>Hip</td>\n      <td>CompShg</td>\n      <td>Wd Sdng</td>\n      <td>Wd Sdng</td>\n      <td>BrkFace</td>\n      <td>108.0</td>\n      <td>TA</td>\n      <td>TA</td>\n      <td>CBlock</td>\n      <td>TA</td>\n      <td>TA</td>\n      <td>No</td>\n      <td>ALQ</td>\n      <td>923.0</td>\n      <td>Unf</td>\n      <td>0.0</td>\n      <td>406.0</td>\n      <td>1329.0</td>\n      <td>GasA</td>\n      <td>TA</td>\n      <td>Y</td>\n      <td>SBrkr</td>\n      <td>1329</td>\n      <td>0</td>\n      <td>0</td>\n      <td>1329</td>\n      <td>0.0</td>\n      <td>0.0</td>\n      <td>1</td>\n      <td>1</td>\n      <td>3</td>\n      <td>1</td>\n      <td>Gd</td>\n      <td>6</td>\n      <td>Typ</td>\n      <td>0</td>\n      <td>NaN</td>\n      <td>Attchd</td>\n      <td>1958.0</td>\n      <td>Unf</td>\n      <td>1.0</td>\n      <td>312.0</td>\n      <td>TA</td>\n      <td>TA</td>\n      <td>Y</td>\n      <td>393</td>\n      <td>36</td>\n      <td>0</td>\n      <td>0</td>\n      <td>0</td>\n      <td>0</td>\n      <td>NaN</td>\n      <td>NaN</td>\n      <td>Gar2</td>\n      <td>12500</td>\n      <td>6</td>\n      <td>2010</td>\n      <td>WD</td>\n      <td>Normal</td>\n      <td>172000</td>\n    </tr>\n    <tr>\n      <th>3</th>\n      <td>4</td>\n      <td>526353030</td>\n      <td>20</td>\n      <td>RL</td>\n      <td>93.0</td>\n      <td>11160</td>\n      <td>Pave</td>\n      <td>NaN</td>\n      <td>Reg</td>\n      <td>Lvl</td>\n      <td>AllPub</td>\n      <td>Corner</td>\n      <td>Gtl</td>\n      <td>NAmes</td>\n      <td>Norm</td>\n      <td>Norm</td>\n      <td>1Fam</td>\n      <td>1Story</td>\n      <td>7</td>\n      <td>5</td>\n      <td>1968</td>\n      <td>1968</td>\n      <td>Hip</td>\n      <td>CompShg</td>\n      <td>BrkFace</td>\n      <td>BrkFace</td>\n      <td>None</td>\n      <td>0.0</td>\n      <td>Gd</td>\n      <td>TA</td>\n      <td>CBlock</td>\n      <td>TA</td>\n      <td>TA</td>\n      <td>No</td>\n      <td>ALQ</td>\n      <td>1065.0</td>\n      <td>Unf</td>\n      <td>0.0</td>\n      <td>1045.0</td>\n      <td>2110.0</td>\n      <td>GasA</td>\n      <td>Ex</td>\n      <td>Y</td>\n      <td>SBrkr</td>\n      <td>2110</td>\n      <td>0</td>\n      <td>0</td>\n      <td>2110</td>\n      <td>1.0</td>\n      <td>0.0</td>\n      <td>2</td>\n      <td>1</td>\n      <td>3</td>\n      <td>1</td>\n      <td>Ex</td>\n      <td>8</td>\n      <td>Typ</td>\n      <td>2</td>\n      <td>TA</td>\n      <td>Attchd</td>\n      <td>1968.0</td>\n      <td>Fin</td>\n      <td>2.0</td>\n      <td>522.0</td>\n      <td>TA</td>\n      <td>TA</td>\n      <td>Y</td>\n      <td>0</td>\n      <td>0</td>\n      <td>0</td>\n      <td>0</td>\n      <td>0</td>\n      <td>0</td>\n      <td>NaN</td>\n      <td>NaN</td>\n      <td>NaN</td>\n      <td>0</td>\n      <td>4</td>\n      <td>2010</td>\n      <td>WD</td>\n      <td>Normal</td>\n      <td>244000</td>\n    </tr>\n    <tr>\n      <th>4</th>\n      <td>5</td>\n      <td>527105010</td>\n      <td>60</td>\n      <td>RL</td>\n      <td>74.0</td>\n      <td>13830</td>\n      <td>Pave</td>\n      <td>NaN</td>\n      <td>IR1</td>\n      <td>Lvl</td>\n      <td>AllPub</td>\n      <td>Inside</td>\n      <td>Gtl</td>\n      <td>Gilbert</td>\n      <td>Norm</td>\n      <td>Norm</td>\n      <td>1Fam</td>\n      <td>2Story</td>\n      <td>5</td>\n      <td>5</td>\n      <td>1997</td>\n      <td>1998</td>\n      <td>Gable</td>\n      <td>CompShg</td>\n      <td>VinylSd</td>\n      <td>VinylSd</td>\n      <td>None</td>\n      <td>0.0</td>\n      <td>TA</td>\n      <td>TA</td>\n      <td>PConc</td>\n      <td>Gd</td>\n      <td>TA</td>\n      <td>No</td>\n      <td>GLQ</td>\n      <td>791.0</td>\n      <td>Unf</td>\n      <td>0.0</td>\n      <td>137.0</td>\n      <td>928.0</td>\n      <td>GasA</td>\n      <td>Gd</td>\n      <td>Y</td>\n      <td>SBrkr</td>\n      <td>928</td>\n      <td>701</td>\n      <td>0</td>\n      <td>1629</td>\n      <td>0.0</td>\n      <td>0.0</td>\n      <td>2</td>\n      <td>1</td>\n      <td>3</td>\n      <td>1</td>\n      <td>TA</td>\n      <td>6</td>\n      <td>Typ</td>\n      <td>1</td>\n      <td>TA</td>\n      <td>Attchd</td>\n      <td>1997.0</td>\n      <td>Fin</td>\n      <td>2.0</td>\n      <td>482.0</td>\n      <td>TA</td>\n      <td>TA</td>\n      <td>Y</td>\n      <td>212</td>\n      <td>34</td>\n      <td>0</td>\n      <td>0</td>\n      <td>0</td>\n      <td>0</td>\n      <td>NaN</td>\n      <td>MnPrv</td>\n      <td>NaN</td>\n      <td>0</td>\n      <td>3</td>\n      <td>2010</td>\n      <td>WD</td>\n      <td>Normal</td>\n      <td>189900</td>\n    </tr>\n  </tbody>\n</table>\n</div>"
     },
     "metadata": {},
     "execution_count": 5
    }
   ],
   "source": [
    "data.head()"
   ]
  },
  {
   "cell_type": "code",
   "execution_count": 6,
   "metadata": {},
   "outputs": [
    {
     "output_type": "execute_result",
     "data": {
      "text/plain": [
       "0"
      ]
     },
     "metadata": {},
     "execution_count": 6
    }
   ],
   "source": [
    "#Checking for duplicates\n",
    "data.duplicated().sum()"
   ]
  },
  {
   "cell_type": "code",
   "execution_count": 7,
   "metadata": {},
   "outputs": [],
   "source": [
    "#Percentage of null values\n",
    "null_values = data.isna().sum()* 100 / len(data)"
   ]
  },
  {
   "cell_type": "code",
   "execution_count": 71,
   "metadata": {},
   "outputs": [
    {
     "output_type": "execute_result",
     "data": {
      "text/plain": [
       "Order               0.000000\n",
       "PID                 0.000000\n",
       "MS SubClass         0.000000\n",
       "MS Zoning           0.000000\n",
       "Lot Frontage       16.723549\n",
       "Lot Area            0.000000\n",
       "Street              0.000000\n",
       "Alley              93.242321\n",
       "Lot Shape           0.000000\n",
       "Land Contour        0.000000\n",
       "Utilities           0.000000\n",
       "Lot Config          0.000000\n",
       "Land Slope          0.000000\n",
       "Neighborhood        0.000000\n",
       "Condition 1         0.000000\n",
       "Condition 2         0.000000\n",
       "Bldg Type           0.000000\n",
       "House Style         0.000000\n",
       "Overall Qual        0.000000\n",
       "Overall Cond        0.000000\n",
       "Year Built          0.000000\n",
       "Year Remod/Add      0.000000\n",
       "Roof Style          0.000000\n",
       "Roof Matl           0.000000\n",
       "Exterior 1st        0.000000\n",
       "Exterior 2nd        0.000000\n",
       "Mas Vnr Type        0.784983\n",
       "Mas Vnr Area        0.784983\n",
       "Exter Qual          0.000000\n",
       "Exter Cond          0.000000\n",
       "Foundation          0.000000\n",
       "Bsmt Qual           2.730375\n",
       "Bsmt Cond           2.730375\n",
       "Bsmt Exposure       2.832765\n",
       "BsmtFin Type 1      2.730375\n",
       "BsmtFin SF 1        0.034130\n",
       "BsmtFin Type 2      2.764505\n",
       "BsmtFin SF 2        0.034130\n",
       "Bsmt Unf SF         0.034130\n",
       "Total Bsmt SF       0.034130\n",
       "Heating             0.000000\n",
       "Heating QC          0.000000\n",
       "Central Air         0.000000\n",
       "Electrical          0.034130\n",
       "1st Flr SF          0.000000\n",
       "2nd Flr SF          0.000000\n",
       "Low Qual Fin SF     0.000000\n",
       "Gr Liv Area         0.000000\n",
       "Bsmt Full Bath      0.068259\n",
       "Bsmt Half Bath      0.068259\n",
       "Full Bath           0.000000\n",
       "Half Bath           0.000000\n",
       "Bedroom AbvGr       0.000000\n",
       "Kitchen AbvGr       0.000000\n",
       "Kitchen Qual        0.000000\n",
       "TotRms AbvGrd       0.000000\n",
       "Functional          0.000000\n",
       "Fireplaces          0.000000\n",
       "Fireplace Qu       48.532423\n",
       "Garage Type         5.358362\n",
       "Garage Yr Blt       5.426621\n",
       "Garage Finish       5.426621\n",
       "Garage Cars         0.034130\n",
       "Garage Area         0.034130\n",
       "Garage Qual         5.426621\n",
       "Garage Cond         5.426621\n",
       "Paved Drive         0.000000\n",
       "Wood Deck SF        0.000000\n",
       "Open Porch SF       0.000000\n",
       "Enclosed Porch      0.000000\n",
       "3Ssn Porch          0.000000\n",
       "Screen Porch        0.000000\n",
       "Pool Area           0.000000\n",
       "Pool QC            99.556314\n",
       "Fence              80.477816\n",
       "Misc Feature       96.382253\n",
       "Misc Val            0.000000\n",
       "Mo Sold             0.000000\n",
       "Yr Sold             0.000000\n",
       "Sale Type           0.000000\n",
       "Sale Condition      0.000000\n",
       "SalePrice           0.000000\n",
       "dtype: float64"
      ]
     },
     "metadata": {},
     "execution_count": 71
    }
   ],
   "source": [
    "null_values"
   ]
  },
  {
   "source": [
    "# Data Cleaning\n",
    "\n"
   ],
   "cell_type": "markdown",
   "metadata": {}
  },
  {
   "cell_type": "code",
   "execution_count": 9,
   "metadata": {},
   "outputs": [
    {
     "output_type": "execute_result",
     "data": {
      "text/plain": [
       "Index(['Lot Frontage', 'Alley', 'Fireplace Qu', 'Garage Type', 'Garage Yr Blt',\n",
       "       'Garage Finish', 'Garage Qual', 'Garage Cond', 'Pool QC', 'Fence',\n",
       "       'Misc Feature'],\n",
       "      dtype='object')"
      ]
     },
     "metadata": {},
     "execution_count": 9
    }
   ],
   "source": [
    "# Deleting columns with more with more than 5% of null values\n",
    "mask =  null_values > 5\n",
    "features_to_drop = null_values[mask].index\n",
    "features_to_drop"
   ]
  },
  {
   "cell_type": "code",
   "execution_count": 10,
   "metadata": {},
   "outputs": [],
   "source": [
    "data = data.drop(features_to_drop, axis=1)"
   ]
  },
  {
   "cell_type": "code",
   "execution_count": 11,
   "metadata": {},
   "outputs": [
    {
     "output_type": "execute_result",
     "data": {
      "text/plain": [
       "   Order        PID  MS SubClass MS Zoning  Lot Area Street Lot Shape  \\\n",
       "0      1  526301100           20        RL     31770   Pave       IR1   \n",
       "1      2  526350040           20        RH     11622   Pave       Reg   \n",
       "2      3  526351010           20        RL     14267   Pave       IR1   \n",
       "3      4  526353030           20        RL     11160   Pave       Reg   \n",
       "4      5  527105010           60        RL     13830   Pave       IR1   \n",
       "\n",
       "  Land Contour Utilities Lot Config Land Slope Neighborhood Condition 1  \\\n",
       "0          Lvl    AllPub     Corner        Gtl        NAmes        Norm   \n",
       "1          Lvl    AllPub     Inside        Gtl        NAmes       Feedr   \n",
       "2          Lvl    AllPub     Corner        Gtl        NAmes        Norm   \n",
       "3          Lvl    AllPub     Corner        Gtl        NAmes        Norm   \n",
       "4          Lvl    AllPub     Inside        Gtl      Gilbert        Norm   \n",
       "\n",
       "  Condition 2 Bldg Type House Style  Overall Qual  Overall Cond  Year Built  \\\n",
       "0        Norm      1Fam      1Story             6             5        1960   \n",
       "1        Norm      1Fam      1Story             5             6        1961   \n",
       "2        Norm      1Fam      1Story             6             6        1958   \n",
       "3        Norm      1Fam      1Story             7             5        1968   \n",
       "4        Norm      1Fam      2Story             5             5        1997   \n",
       "\n",
       "   Year Remod/Add Roof Style Roof Matl Exterior 1st Exterior 2nd Mas Vnr Type  \\\n",
       "0            1960        Hip   CompShg      BrkFace      Plywood        Stone   \n",
       "1            1961      Gable   CompShg      VinylSd      VinylSd         None   \n",
       "2            1958        Hip   CompShg      Wd Sdng      Wd Sdng      BrkFace   \n",
       "3            1968        Hip   CompShg      BrkFace      BrkFace         None   \n",
       "4            1998      Gable   CompShg      VinylSd      VinylSd         None   \n",
       "\n",
       "   Mas Vnr Area Exter Qual Exter Cond Foundation Bsmt Qual Bsmt Cond  \\\n",
       "0         112.0         TA         TA     CBlock        TA        Gd   \n",
       "1           0.0         TA         TA     CBlock        TA        TA   \n",
       "2         108.0         TA         TA     CBlock        TA        TA   \n",
       "3           0.0         Gd         TA     CBlock        TA        TA   \n",
       "4           0.0         TA         TA      PConc        Gd        TA   \n",
       "\n",
       "  Bsmt Exposure BsmtFin Type 1  BsmtFin SF 1 BsmtFin Type 2  BsmtFin SF 2  \\\n",
       "0            Gd            BLQ         639.0            Unf           0.0   \n",
       "1            No            Rec         468.0            LwQ         144.0   \n",
       "2            No            ALQ         923.0            Unf           0.0   \n",
       "3            No            ALQ        1065.0            Unf           0.0   \n",
       "4            No            GLQ         791.0            Unf           0.0   \n",
       "\n",
       "   Bsmt Unf SF  Total Bsmt SF Heating Heating QC Central Air Electrical  \\\n",
       "0        441.0         1080.0    GasA         Fa           Y      SBrkr   \n",
       "1        270.0          882.0    GasA         TA           Y      SBrkr   \n",
       "2        406.0         1329.0    GasA         TA           Y      SBrkr   \n",
       "3       1045.0         2110.0    GasA         Ex           Y      SBrkr   \n",
       "4        137.0          928.0    GasA         Gd           Y      SBrkr   \n",
       "\n",
       "   1st Flr SF  2nd Flr SF  Low Qual Fin SF  Gr Liv Area  Bsmt Full Bath  \\\n",
       "0        1656           0                0         1656             1.0   \n",
       "1         896           0                0          896             0.0   \n",
       "2        1329           0                0         1329             0.0   \n",
       "3        2110           0                0         2110             1.0   \n",
       "4         928         701                0         1629             0.0   \n",
       "\n",
       "   Bsmt Half Bath  Full Bath  Half Bath  Bedroom AbvGr  Kitchen AbvGr  \\\n",
       "0             0.0          1          0              3              1   \n",
       "1             0.0          1          0              2              1   \n",
       "2             0.0          1          1              3              1   \n",
       "3             0.0          2          1              3              1   \n",
       "4             0.0          2          1              3              1   \n",
       "\n",
       "  Kitchen Qual  TotRms AbvGrd Functional  Fireplaces  Garage Cars  \\\n",
       "0           TA              7        Typ           2          2.0   \n",
       "1           TA              5        Typ           0          1.0   \n",
       "2           Gd              6        Typ           0          1.0   \n",
       "3           Ex              8        Typ           2          2.0   \n",
       "4           TA              6        Typ           1          2.0   \n",
       "\n",
       "   Garage Area Paved Drive  Wood Deck SF  Open Porch SF  Enclosed Porch  \\\n",
       "0        528.0           P           210             62               0   \n",
       "1        730.0           Y           140              0               0   \n",
       "2        312.0           Y           393             36               0   \n",
       "3        522.0           Y             0              0               0   \n",
       "4        482.0           Y           212             34               0   \n",
       "\n",
       "   3Ssn Porch  Screen Porch  Pool Area  Misc Val  Mo Sold  Yr Sold Sale Type  \\\n",
       "0           0             0          0         0        5     2010       WD    \n",
       "1           0           120          0         0        6     2010       WD    \n",
       "2           0             0          0     12500        6     2010       WD    \n",
       "3           0             0          0         0        4     2010       WD    \n",
       "4           0             0          0         0        3     2010       WD    \n",
       "\n",
       "  Sale Condition  SalePrice  \n",
       "0         Normal     215000  \n",
       "1         Normal     105000  \n",
       "2         Normal     172000  \n",
       "3         Normal     244000  \n",
       "4         Normal     189900  "
      ],
      "text/html": "<div>\n<style scoped>\n    .dataframe tbody tr th:only-of-type {\n        vertical-align: middle;\n    }\n\n    .dataframe tbody tr th {\n        vertical-align: top;\n    }\n\n    .dataframe thead th {\n        text-align: right;\n    }\n</style>\n<table border=\"1\" class=\"dataframe\">\n  <thead>\n    <tr style=\"text-align: right;\">\n      <th></th>\n      <th>Order</th>\n      <th>PID</th>\n      <th>MS SubClass</th>\n      <th>MS Zoning</th>\n      <th>Lot Area</th>\n      <th>Street</th>\n      <th>Lot Shape</th>\n      <th>Land Contour</th>\n      <th>Utilities</th>\n      <th>Lot Config</th>\n      <th>Land Slope</th>\n      <th>Neighborhood</th>\n      <th>Condition 1</th>\n      <th>Condition 2</th>\n      <th>Bldg Type</th>\n      <th>House Style</th>\n      <th>Overall Qual</th>\n      <th>Overall Cond</th>\n      <th>Year Built</th>\n      <th>Year Remod/Add</th>\n      <th>Roof Style</th>\n      <th>Roof Matl</th>\n      <th>Exterior 1st</th>\n      <th>Exterior 2nd</th>\n      <th>Mas Vnr Type</th>\n      <th>Mas Vnr Area</th>\n      <th>Exter Qual</th>\n      <th>Exter Cond</th>\n      <th>Foundation</th>\n      <th>Bsmt Qual</th>\n      <th>Bsmt Cond</th>\n      <th>Bsmt Exposure</th>\n      <th>BsmtFin Type 1</th>\n      <th>BsmtFin SF 1</th>\n      <th>BsmtFin Type 2</th>\n      <th>BsmtFin SF 2</th>\n      <th>Bsmt Unf SF</th>\n      <th>Total Bsmt SF</th>\n      <th>Heating</th>\n      <th>Heating QC</th>\n      <th>Central Air</th>\n      <th>Electrical</th>\n      <th>1st Flr SF</th>\n      <th>2nd Flr SF</th>\n      <th>Low Qual Fin SF</th>\n      <th>Gr Liv Area</th>\n      <th>Bsmt Full Bath</th>\n      <th>Bsmt Half Bath</th>\n      <th>Full Bath</th>\n      <th>Half Bath</th>\n      <th>Bedroom AbvGr</th>\n      <th>Kitchen AbvGr</th>\n      <th>Kitchen Qual</th>\n      <th>TotRms AbvGrd</th>\n      <th>Functional</th>\n      <th>Fireplaces</th>\n      <th>Garage Cars</th>\n      <th>Garage Area</th>\n      <th>Paved Drive</th>\n      <th>Wood Deck SF</th>\n      <th>Open Porch SF</th>\n      <th>Enclosed Porch</th>\n      <th>3Ssn Porch</th>\n      <th>Screen Porch</th>\n      <th>Pool Area</th>\n      <th>Misc Val</th>\n      <th>Mo Sold</th>\n      <th>Yr Sold</th>\n      <th>Sale Type</th>\n      <th>Sale Condition</th>\n      <th>SalePrice</th>\n    </tr>\n  </thead>\n  <tbody>\n    <tr>\n      <th>0</th>\n      <td>1</td>\n      <td>526301100</td>\n      <td>20</td>\n      <td>RL</td>\n      <td>31770</td>\n      <td>Pave</td>\n      <td>IR1</td>\n      <td>Lvl</td>\n      <td>AllPub</td>\n      <td>Corner</td>\n      <td>Gtl</td>\n      <td>NAmes</td>\n      <td>Norm</td>\n      <td>Norm</td>\n      <td>1Fam</td>\n      <td>1Story</td>\n      <td>6</td>\n      <td>5</td>\n      <td>1960</td>\n      <td>1960</td>\n      <td>Hip</td>\n      <td>CompShg</td>\n      <td>BrkFace</td>\n      <td>Plywood</td>\n      <td>Stone</td>\n      <td>112.0</td>\n      <td>TA</td>\n      <td>TA</td>\n      <td>CBlock</td>\n      <td>TA</td>\n      <td>Gd</td>\n      <td>Gd</td>\n      <td>BLQ</td>\n      <td>639.0</td>\n      <td>Unf</td>\n      <td>0.0</td>\n      <td>441.0</td>\n      <td>1080.0</td>\n      <td>GasA</td>\n      <td>Fa</td>\n      <td>Y</td>\n      <td>SBrkr</td>\n      <td>1656</td>\n      <td>0</td>\n      <td>0</td>\n      <td>1656</td>\n      <td>1.0</td>\n      <td>0.0</td>\n      <td>1</td>\n      <td>0</td>\n      <td>3</td>\n      <td>1</td>\n      <td>TA</td>\n      <td>7</td>\n      <td>Typ</td>\n      <td>2</td>\n      <td>2.0</td>\n      <td>528.0</td>\n      <td>P</td>\n      <td>210</td>\n      <td>62</td>\n      <td>0</td>\n      <td>0</td>\n      <td>0</td>\n      <td>0</td>\n      <td>0</td>\n      <td>5</td>\n      <td>2010</td>\n      <td>WD</td>\n      <td>Normal</td>\n      <td>215000</td>\n    </tr>\n    <tr>\n      <th>1</th>\n      <td>2</td>\n      <td>526350040</td>\n      <td>20</td>\n      <td>RH</td>\n      <td>11622</td>\n      <td>Pave</td>\n      <td>Reg</td>\n      <td>Lvl</td>\n      <td>AllPub</td>\n      <td>Inside</td>\n      <td>Gtl</td>\n      <td>NAmes</td>\n      <td>Feedr</td>\n      <td>Norm</td>\n      <td>1Fam</td>\n      <td>1Story</td>\n      <td>5</td>\n      <td>6</td>\n      <td>1961</td>\n      <td>1961</td>\n      <td>Gable</td>\n      <td>CompShg</td>\n      <td>VinylSd</td>\n      <td>VinylSd</td>\n      <td>None</td>\n      <td>0.0</td>\n      <td>TA</td>\n      <td>TA</td>\n      <td>CBlock</td>\n      <td>TA</td>\n      <td>TA</td>\n      <td>No</td>\n      <td>Rec</td>\n      <td>468.0</td>\n      <td>LwQ</td>\n      <td>144.0</td>\n      <td>270.0</td>\n      <td>882.0</td>\n      <td>GasA</td>\n      <td>TA</td>\n      <td>Y</td>\n      <td>SBrkr</td>\n      <td>896</td>\n      <td>0</td>\n      <td>0</td>\n      <td>896</td>\n      <td>0.0</td>\n      <td>0.0</td>\n      <td>1</td>\n      <td>0</td>\n      <td>2</td>\n      <td>1</td>\n      <td>TA</td>\n      <td>5</td>\n      <td>Typ</td>\n      <td>0</td>\n      <td>1.0</td>\n      <td>730.0</td>\n      <td>Y</td>\n      <td>140</td>\n      <td>0</td>\n      <td>0</td>\n      <td>0</td>\n      <td>120</td>\n      <td>0</td>\n      <td>0</td>\n      <td>6</td>\n      <td>2010</td>\n      <td>WD</td>\n      <td>Normal</td>\n      <td>105000</td>\n    </tr>\n    <tr>\n      <th>2</th>\n      <td>3</td>\n      <td>526351010</td>\n      <td>20</td>\n      <td>RL</td>\n      <td>14267</td>\n      <td>Pave</td>\n      <td>IR1</td>\n      <td>Lvl</td>\n      <td>AllPub</td>\n      <td>Corner</td>\n      <td>Gtl</td>\n      <td>NAmes</td>\n      <td>Norm</td>\n      <td>Norm</td>\n      <td>1Fam</td>\n      <td>1Story</td>\n      <td>6</td>\n      <td>6</td>\n      <td>1958</td>\n      <td>1958</td>\n      <td>Hip</td>\n      <td>CompShg</td>\n      <td>Wd Sdng</td>\n      <td>Wd Sdng</td>\n      <td>BrkFace</td>\n      <td>108.0</td>\n      <td>TA</td>\n      <td>TA</td>\n      <td>CBlock</td>\n      <td>TA</td>\n      <td>TA</td>\n      <td>No</td>\n      <td>ALQ</td>\n      <td>923.0</td>\n      <td>Unf</td>\n      <td>0.0</td>\n      <td>406.0</td>\n      <td>1329.0</td>\n      <td>GasA</td>\n      <td>TA</td>\n      <td>Y</td>\n      <td>SBrkr</td>\n      <td>1329</td>\n      <td>0</td>\n      <td>0</td>\n      <td>1329</td>\n      <td>0.0</td>\n      <td>0.0</td>\n      <td>1</td>\n      <td>1</td>\n      <td>3</td>\n      <td>1</td>\n      <td>Gd</td>\n      <td>6</td>\n      <td>Typ</td>\n      <td>0</td>\n      <td>1.0</td>\n      <td>312.0</td>\n      <td>Y</td>\n      <td>393</td>\n      <td>36</td>\n      <td>0</td>\n      <td>0</td>\n      <td>0</td>\n      <td>0</td>\n      <td>12500</td>\n      <td>6</td>\n      <td>2010</td>\n      <td>WD</td>\n      <td>Normal</td>\n      <td>172000</td>\n    </tr>\n    <tr>\n      <th>3</th>\n      <td>4</td>\n      <td>526353030</td>\n      <td>20</td>\n      <td>RL</td>\n      <td>11160</td>\n      <td>Pave</td>\n      <td>Reg</td>\n      <td>Lvl</td>\n      <td>AllPub</td>\n      <td>Corner</td>\n      <td>Gtl</td>\n      <td>NAmes</td>\n      <td>Norm</td>\n      <td>Norm</td>\n      <td>1Fam</td>\n      <td>1Story</td>\n      <td>7</td>\n      <td>5</td>\n      <td>1968</td>\n      <td>1968</td>\n      <td>Hip</td>\n      <td>CompShg</td>\n      <td>BrkFace</td>\n      <td>BrkFace</td>\n      <td>None</td>\n      <td>0.0</td>\n      <td>Gd</td>\n      <td>TA</td>\n      <td>CBlock</td>\n      <td>TA</td>\n      <td>TA</td>\n      <td>No</td>\n      <td>ALQ</td>\n      <td>1065.0</td>\n      <td>Unf</td>\n      <td>0.0</td>\n      <td>1045.0</td>\n      <td>2110.0</td>\n      <td>GasA</td>\n      <td>Ex</td>\n      <td>Y</td>\n      <td>SBrkr</td>\n      <td>2110</td>\n      <td>0</td>\n      <td>0</td>\n      <td>2110</td>\n      <td>1.0</td>\n      <td>0.0</td>\n      <td>2</td>\n      <td>1</td>\n      <td>3</td>\n      <td>1</td>\n      <td>Ex</td>\n      <td>8</td>\n      <td>Typ</td>\n      <td>2</td>\n      <td>2.0</td>\n      <td>522.0</td>\n      <td>Y</td>\n      <td>0</td>\n      <td>0</td>\n      <td>0</td>\n      <td>0</td>\n      <td>0</td>\n      <td>0</td>\n      <td>0</td>\n      <td>4</td>\n      <td>2010</td>\n      <td>WD</td>\n      <td>Normal</td>\n      <td>244000</td>\n    </tr>\n    <tr>\n      <th>4</th>\n      <td>5</td>\n      <td>527105010</td>\n      <td>60</td>\n      <td>RL</td>\n      <td>13830</td>\n      <td>Pave</td>\n      <td>IR1</td>\n      <td>Lvl</td>\n      <td>AllPub</td>\n      <td>Inside</td>\n      <td>Gtl</td>\n      <td>Gilbert</td>\n      <td>Norm</td>\n      <td>Norm</td>\n      <td>1Fam</td>\n      <td>2Story</td>\n      <td>5</td>\n      <td>5</td>\n      <td>1997</td>\n      <td>1998</td>\n      <td>Gable</td>\n      <td>CompShg</td>\n      <td>VinylSd</td>\n      <td>VinylSd</td>\n      <td>None</td>\n      <td>0.0</td>\n      <td>TA</td>\n      <td>TA</td>\n      <td>PConc</td>\n      <td>Gd</td>\n      <td>TA</td>\n      <td>No</td>\n      <td>GLQ</td>\n      <td>791.0</td>\n      <td>Unf</td>\n      <td>0.0</td>\n      <td>137.0</td>\n      <td>928.0</td>\n      <td>GasA</td>\n      <td>Gd</td>\n      <td>Y</td>\n      <td>SBrkr</td>\n      <td>928</td>\n      <td>701</td>\n      <td>0</td>\n      <td>1629</td>\n      <td>0.0</td>\n      <td>0.0</td>\n      <td>2</td>\n      <td>1</td>\n      <td>3</td>\n      <td>1</td>\n      <td>TA</td>\n      <td>6</td>\n      <td>Typ</td>\n      <td>1</td>\n      <td>2.0</td>\n      <td>482.0</td>\n      <td>Y</td>\n      <td>212</td>\n      <td>34</td>\n      <td>0</td>\n      <td>0</td>\n      <td>0</td>\n      <td>0</td>\n      <td>0</td>\n      <td>3</td>\n      <td>2010</td>\n      <td>WD</td>\n      <td>Normal</td>\n      <td>189900</td>\n    </tr>\n  </tbody>\n</table>\n</div>"
     },
     "metadata": {},
     "execution_count": 11
    }
   ],
   "source": [
    "data.head()"
   ]
  },
  {
   "source": [
    "## Selecting Numerical Variables"
   ],
   "cell_type": "markdown",
   "metadata": {}
  },
  {
   "cell_type": "code",
   "execution_count": 12,
   "metadata": {},
   "outputs": [],
   "source": [
    "#Selecting only numerical variables\n",
    "data_num = data.select_dtypes(include=['integer',\"float\"])"
   ]
  },
  {
   "cell_type": "code",
   "execution_count": 13,
   "metadata": {},
   "outputs": [
    {
     "output_type": "execute_result",
     "data": {
      "text/plain": [
       "Order               0\n",
       "PID                 0\n",
       "MS SubClass         0\n",
       "Lot Area            0\n",
       "Overall Qual        0\n",
       "Overall Cond        0\n",
       "Year Built          0\n",
       "Year Remod/Add      0\n",
       "Mas Vnr Area       23\n",
       "BsmtFin SF 1        1\n",
       "BsmtFin SF 2        1\n",
       "Bsmt Unf SF         1\n",
       "Total Bsmt SF       1\n",
       "1st Flr SF          0\n",
       "2nd Flr SF          0\n",
       "Low Qual Fin SF     0\n",
       "Gr Liv Area         0\n",
       "Bsmt Full Bath      2\n",
       "Bsmt Half Bath      2\n",
       "Full Bath           0\n",
       "Half Bath           0\n",
       "Bedroom AbvGr       0\n",
       "Kitchen AbvGr       0\n",
       "TotRms AbvGrd       0\n",
       "Fireplaces          0\n",
       "Garage Cars         1\n",
       "Garage Area         1\n",
       "Wood Deck SF        0\n",
       "Open Porch SF       0\n",
       "Enclosed Porch      0\n",
       "3Ssn Porch          0\n",
       "Screen Porch        0\n",
       "Pool Area           0\n",
       "Misc Val            0\n",
       "Mo Sold             0\n",
       "Yr Sold             0\n",
       "SalePrice           0\n",
       "dtype: int64"
      ]
     },
     "metadata": {},
     "execution_count": 13
    }
   ],
   "source": [
    "data_num.isnull().sum()"
   ]
  },
  {
   "cell_type": "code",
   "execution_count": 14,
   "metadata": {},
   "outputs": [],
   "source": [
    "### Fill in null with most popular value\n",
    "data_num = data_num.fillna(data_num.mode().iloc[0])"
   ]
  },
  {
   "cell_type": "code",
   "execution_count": 15,
   "metadata": {},
   "outputs": [
    {
     "output_type": "execute_result",
     "data": {
      "text/plain": [
       "Order              0\n",
       "PID                0\n",
       "MS SubClass        0\n",
       "Lot Area           0\n",
       "Overall Qual       0\n",
       "Overall Cond       0\n",
       "Year Built         0\n",
       "Year Remod/Add     0\n",
       "Mas Vnr Area       0\n",
       "BsmtFin SF 1       0\n",
       "BsmtFin SF 2       0\n",
       "Bsmt Unf SF        0\n",
       "Total Bsmt SF      0\n",
       "1st Flr SF         0\n",
       "2nd Flr SF         0\n",
       "Low Qual Fin SF    0\n",
       "Gr Liv Area        0\n",
       "Bsmt Full Bath     0\n",
       "Bsmt Half Bath     0\n",
       "Full Bath          0\n",
       "Half Bath          0\n",
       "Bedroom AbvGr      0\n",
       "Kitchen AbvGr      0\n",
       "TotRms AbvGrd      0\n",
       "Fireplaces         0\n",
       "Garage Cars        0\n",
       "Garage Area        0\n",
       "Wood Deck SF       0\n",
       "Open Porch SF      0\n",
       "Enclosed Porch     0\n",
       "3Ssn Porch         0\n",
       "Screen Porch       0\n",
       "Pool Area          0\n",
       "Misc Val           0\n",
       "Mo Sold            0\n",
       "Yr Sold            0\n",
       "SalePrice          0\n",
       "dtype: int64"
      ]
     },
     "metadata": {},
     "execution_count": 15
    }
   ],
   "source": [
    "data_num.isnull().sum()"
   ]
  },
  {
   "cell_type": "code",
   "execution_count": 16,
   "metadata": {},
   "outputs": [],
   "source": [
    "# Adding new numerial columns\n",
    "data_num[\"Year Range\"] = data_num[\"Year Remod/Add\"] - data_num[\"Year Built\"]"
   ]
  },
  {
   "source": [
    "## Selecting Categorical Variables"
   ],
   "cell_type": "markdown",
   "metadata": {}
  },
  {
   "cell_type": "code",
   "execution_count": 17,
   "metadata": {},
   "outputs": [],
   "source": [
    "#Selecting only categorical columns\n",
    "data_cat = data.select_dtypes(include='object')"
   ]
  },
  {
   "cell_type": "code",
   "execution_count": 41,
   "metadata": {},
   "outputs": [],
   "source": [
    "cat_null = data_cat.isnull().sum()"
   ]
  },
  {
   "cell_type": "code",
   "execution_count": 40,
   "metadata": {},
   "outputs": [
    {
     "output_type": "execute_result",
     "data": {
      "text/plain": [
       "  MS Zoning Street Lot Shape Land Contour Utilities Lot Config Land Slope  \\\n",
       "0        RL   Pave       IR1          Lvl    AllPub     Corner        Gtl   \n",
       "1        RH   Pave       Reg          Lvl    AllPub     Inside        Gtl   \n",
       "2        RL   Pave       IR1          Lvl    AllPub     Corner        Gtl   \n",
       "3        RL   Pave       Reg          Lvl    AllPub     Corner        Gtl   \n",
       "4        RL   Pave       IR1          Lvl    AllPub     Inside        Gtl   \n",
       "\n",
       "  Neighborhood Condition 1 Condition 2 Bldg Type House Style Roof Style  \\\n",
       "0        NAmes        Norm        Norm      1Fam      1Story        Hip   \n",
       "1        NAmes       Feedr        Norm      1Fam      1Story      Gable   \n",
       "2        NAmes        Norm        Norm      1Fam      1Story        Hip   \n",
       "3        NAmes        Norm        Norm      1Fam      1Story        Hip   \n",
       "4      Gilbert        Norm        Norm      1Fam      2Story      Gable   \n",
       "\n",
       "  Roof Matl Exterior 1st Exterior 2nd Mas Vnr Type Exter Qual Exter Cond  \\\n",
       "0   CompShg      BrkFace      Plywood        Stone         TA         TA   \n",
       "1   CompShg      VinylSd      VinylSd         None         TA         TA   \n",
       "2   CompShg      Wd Sdng      Wd Sdng      BrkFace         TA         TA   \n",
       "3   CompShg      BrkFace      BrkFace         None         Gd         TA   \n",
       "4   CompShg      VinylSd      VinylSd         None         TA         TA   \n",
       "\n",
       "  Foundation Bsmt Qual Bsmt Cond Bsmt Exposure BsmtFin Type 1 BsmtFin Type 2  \\\n",
       "0     CBlock        TA        Gd            Gd            BLQ            Unf   \n",
       "1     CBlock        TA        TA            No            Rec            LwQ   \n",
       "2     CBlock        TA        TA            No            ALQ            Unf   \n",
       "3     CBlock        TA        TA            No            ALQ            Unf   \n",
       "4      PConc        Gd        TA            No            GLQ            Unf   \n",
       "\n",
       "  Heating Heating QC Central Air Electrical Kitchen Qual Functional  \\\n",
       "0    GasA         Fa           Y      SBrkr           TA        Typ   \n",
       "1    GasA         TA           Y      SBrkr           TA        Typ   \n",
       "2    GasA         TA           Y      SBrkr           Gd        Typ   \n",
       "3    GasA         Ex           Y      SBrkr           Ex        Typ   \n",
       "4    GasA         Gd           Y      SBrkr           TA        Typ   \n",
       "\n",
       "  Paved Drive Sale Type Sale Condition  \n",
       "0           P       WD          Normal  \n",
       "1           Y       WD          Normal  \n",
       "2           Y       WD          Normal  \n",
       "3           Y       WD          Normal  \n",
       "4           Y       WD          Normal  "
      ],
      "text/html": "<div>\n<style scoped>\n    .dataframe tbody tr th:only-of-type {\n        vertical-align: middle;\n    }\n\n    .dataframe tbody tr th {\n        vertical-align: top;\n    }\n\n    .dataframe thead th {\n        text-align: right;\n    }\n</style>\n<table border=\"1\" class=\"dataframe\">\n  <thead>\n    <tr style=\"text-align: right;\">\n      <th></th>\n      <th>MS Zoning</th>\n      <th>Street</th>\n      <th>Lot Shape</th>\n      <th>Land Contour</th>\n      <th>Utilities</th>\n      <th>Lot Config</th>\n      <th>Land Slope</th>\n      <th>Neighborhood</th>\n      <th>Condition 1</th>\n      <th>Condition 2</th>\n      <th>Bldg Type</th>\n      <th>House Style</th>\n      <th>Roof Style</th>\n      <th>Roof Matl</th>\n      <th>Exterior 1st</th>\n      <th>Exterior 2nd</th>\n      <th>Mas Vnr Type</th>\n      <th>Exter Qual</th>\n      <th>Exter Cond</th>\n      <th>Foundation</th>\n      <th>Bsmt Qual</th>\n      <th>Bsmt Cond</th>\n      <th>Bsmt Exposure</th>\n      <th>BsmtFin Type 1</th>\n      <th>BsmtFin Type 2</th>\n      <th>Heating</th>\n      <th>Heating QC</th>\n      <th>Central Air</th>\n      <th>Electrical</th>\n      <th>Kitchen Qual</th>\n      <th>Functional</th>\n      <th>Paved Drive</th>\n      <th>Sale Type</th>\n      <th>Sale Condition</th>\n    </tr>\n  </thead>\n  <tbody>\n    <tr>\n      <th>0</th>\n      <td>RL</td>\n      <td>Pave</td>\n      <td>IR1</td>\n      <td>Lvl</td>\n      <td>AllPub</td>\n      <td>Corner</td>\n      <td>Gtl</td>\n      <td>NAmes</td>\n      <td>Norm</td>\n      <td>Norm</td>\n      <td>1Fam</td>\n      <td>1Story</td>\n      <td>Hip</td>\n      <td>CompShg</td>\n      <td>BrkFace</td>\n      <td>Plywood</td>\n      <td>Stone</td>\n      <td>TA</td>\n      <td>TA</td>\n      <td>CBlock</td>\n      <td>TA</td>\n      <td>Gd</td>\n      <td>Gd</td>\n      <td>BLQ</td>\n      <td>Unf</td>\n      <td>GasA</td>\n      <td>Fa</td>\n      <td>Y</td>\n      <td>SBrkr</td>\n      <td>TA</td>\n      <td>Typ</td>\n      <td>P</td>\n      <td>WD</td>\n      <td>Normal</td>\n    </tr>\n    <tr>\n      <th>1</th>\n      <td>RH</td>\n      <td>Pave</td>\n      <td>Reg</td>\n      <td>Lvl</td>\n      <td>AllPub</td>\n      <td>Inside</td>\n      <td>Gtl</td>\n      <td>NAmes</td>\n      <td>Feedr</td>\n      <td>Norm</td>\n      <td>1Fam</td>\n      <td>1Story</td>\n      <td>Gable</td>\n      <td>CompShg</td>\n      <td>VinylSd</td>\n      <td>VinylSd</td>\n      <td>None</td>\n      <td>TA</td>\n      <td>TA</td>\n      <td>CBlock</td>\n      <td>TA</td>\n      <td>TA</td>\n      <td>No</td>\n      <td>Rec</td>\n      <td>LwQ</td>\n      <td>GasA</td>\n      <td>TA</td>\n      <td>Y</td>\n      <td>SBrkr</td>\n      <td>TA</td>\n      <td>Typ</td>\n      <td>Y</td>\n      <td>WD</td>\n      <td>Normal</td>\n    </tr>\n    <tr>\n      <th>2</th>\n      <td>RL</td>\n      <td>Pave</td>\n      <td>IR1</td>\n      <td>Lvl</td>\n      <td>AllPub</td>\n      <td>Corner</td>\n      <td>Gtl</td>\n      <td>NAmes</td>\n      <td>Norm</td>\n      <td>Norm</td>\n      <td>1Fam</td>\n      <td>1Story</td>\n      <td>Hip</td>\n      <td>CompShg</td>\n      <td>Wd Sdng</td>\n      <td>Wd Sdng</td>\n      <td>BrkFace</td>\n      <td>TA</td>\n      <td>TA</td>\n      <td>CBlock</td>\n      <td>TA</td>\n      <td>TA</td>\n      <td>No</td>\n      <td>ALQ</td>\n      <td>Unf</td>\n      <td>GasA</td>\n      <td>TA</td>\n      <td>Y</td>\n      <td>SBrkr</td>\n      <td>Gd</td>\n      <td>Typ</td>\n      <td>Y</td>\n      <td>WD</td>\n      <td>Normal</td>\n    </tr>\n    <tr>\n      <th>3</th>\n      <td>RL</td>\n      <td>Pave</td>\n      <td>Reg</td>\n      <td>Lvl</td>\n      <td>AllPub</td>\n      <td>Corner</td>\n      <td>Gtl</td>\n      <td>NAmes</td>\n      <td>Norm</td>\n      <td>Norm</td>\n      <td>1Fam</td>\n      <td>1Story</td>\n      <td>Hip</td>\n      <td>CompShg</td>\n      <td>BrkFace</td>\n      <td>BrkFace</td>\n      <td>None</td>\n      <td>Gd</td>\n      <td>TA</td>\n      <td>CBlock</td>\n      <td>TA</td>\n      <td>TA</td>\n      <td>No</td>\n      <td>ALQ</td>\n      <td>Unf</td>\n      <td>GasA</td>\n      <td>Ex</td>\n      <td>Y</td>\n      <td>SBrkr</td>\n      <td>Ex</td>\n      <td>Typ</td>\n      <td>Y</td>\n      <td>WD</td>\n      <td>Normal</td>\n    </tr>\n    <tr>\n      <th>4</th>\n      <td>RL</td>\n      <td>Pave</td>\n      <td>IR1</td>\n      <td>Lvl</td>\n      <td>AllPub</td>\n      <td>Inside</td>\n      <td>Gtl</td>\n      <td>Gilbert</td>\n      <td>Norm</td>\n      <td>Norm</td>\n      <td>1Fam</td>\n      <td>2Story</td>\n      <td>Gable</td>\n      <td>CompShg</td>\n      <td>VinylSd</td>\n      <td>VinylSd</td>\n      <td>None</td>\n      <td>TA</td>\n      <td>TA</td>\n      <td>PConc</td>\n      <td>Gd</td>\n      <td>TA</td>\n      <td>No</td>\n      <td>GLQ</td>\n      <td>Unf</td>\n      <td>GasA</td>\n      <td>Gd</td>\n      <td>Y</td>\n      <td>SBrkr</td>\n      <td>TA</td>\n      <td>Typ</td>\n      <td>Y</td>\n      <td>WD</td>\n      <td>Normal</td>\n    </tr>\n  </tbody>\n</table>\n</div>"
     },
     "metadata": {},
     "execution_count": 40
    }
   ],
   "source": [
    "data_cat.head()"
   ]
  },
  {
   "cell_type": "code",
   "execution_count": 42,
   "metadata": {},
   "outputs": [],
   "source": [
    "cat_mask = cat_null > 0\n",
    "\n",
    "null_cat_features = cat_null[cat_mask].index\n"
   ]
  },
  {
   "cell_type": "code",
   "execution_count": 43,
   "metadata": {},
   "outputs": [
    {
     "output_type": "execute_result",
     "data": {
      "text/plain": [
       "Index(['Mas Vnr Type', 'Bsmt Qual', 'Bsmt Cond', 'Bsmt Exposure',\n",
       "       'BsmtFin Type 1', 'BsmtFin Type 2', 'Electrical'],\n",
       "      dtype='object')"
      ]
     },
     "metadata": {},
     "execution_count": 43
    }
   ],
   "source": [
    "null_cat_features"
   ]
  },
  {
   "cell_type": "code",
   "execution_count": 49,
   "metadata": {},
   "outputs": [],
   "source": [
    "data_cat = data_cat.drop(null_cat_features, axis=1)"
   ]
  },
  {
   "cell_type": "code",
   "execution_count": 51,
   "metadata": {},
   "outputs": [
    {
     "output_type": "execute_result",
     "data": {
      "text/plain": [
       "MS Zoning         0\n",
       "Street            0\n",
       "Lot Shape         0\n",
       "Land Contour      0\n",
       "Utilities         0\n",
       "Lot Config        0\n",
       "Land Slope        0\n",
       "Neighborhood      0\n",
       "Condition 1       0\n",
       "Condition 2       0\n",
       "Bldg Type         0\n",
       "House Style       0\n",
       "Roof Style        0\n",
       "Roof Matl         0\n",
       "Exterior 1st      0\n",
       "Exterior 2nd      0\n",
       "Exter Qual        0\n",
       "Exter Cond        0\n",
       "Foundation        0\n",
       "Heating           0\n",
       "Heating QC        0\n",
       "Central Air       0\n",
       "Kitchen Qual      0\n",
       "Functional        0\n",
       "Paved Drive       0\n",
       "Sale Type         0\n",
       "Sale Condition    0\n",
       "dtype: int64"
      ]
     },
     "metadata": {},
     "execution_count": 51
    }
   ],
   "source": [
    "data_cat.isnull().sum()"
   ]
  },
  {
   "source": [
    "# Feature Selection"
   ],
   "cell_type": "markdown",
   "metadata": {}
  },
  {
   "source": [
    "## Numerical"
   ],
   "cell_type": "markdown",
   "metadata": {}
  },
  {
   "source": [
    "### Minimal value for correlation with Sale Price"
   ],
   "cell_type": "markdown",
   "metadata": {}
  },
  {
   "cell_type": "code",
   "execution_count": 19,
   "metadata": {},
   "outputs": [],
   "source": [
    "corr_saleprice = abs(data_num.corr())[\"SalePrice\"]\n",
    "corr_filter = corr_saleprice > 0.3\n",
    "num_features = corr_saleprice[corr_filter].index"
   ]
  },
  {
   "cell_type": "code",
   "execution_count": 20,
   "metadata": {},
   "outputs": [
    {
     "output_type": "execute_result",
     "data": {
      "text/plain": [
       "Index(['Overall Qual', 'Year Built', 'Year Remod/Add', 'Mas Vnr Area',\n",
       "       'BsmtFin SF 1', 'Total Bsmt SF', '1st Flr SF', 'Gr Liv Area',\n",
       "       'Full Bath', 'TotRms AbvGrd', 'Fireplaces', 'Garage Cars',\n",
       "       'Garage Area', 'Wood Deck SF', 'Open Porch SF', 'SalePrice'],\n",
       "      dtype='object')"
      ]
     },
     "metadata": {},
     "execution_count": 20
    }
   ],
   "source": [
    "num_features"
   ]
  },
  {
   "source": [
    "### Searching for collinearity"
   ],
   "cell_type": "markdown",
   "metadata": {}
  },
  {
   "cell_type": "code",
   "execution_count": 21,
   "metadata": {},
   "outputs": [
    {
     "output_type": "execute_result",
     "data": {
      "text/plain": [
       "<matplotlib.axes._subplots.AxesSubplot at 0x1fe32d9c310>"
      ]
     },
     "metadata": {},
     "execution_count": 21
    },
    {
     "output_type": "display_data",
     "data": {
      "text/plain": "<Figure size 1080x720 with 2 Axes>",
      "image/svg+xml": "<?xml version=\"1.0\" encoding=\"utf-8\" standalone=\"no\"?>\r\n<!DOCTYPE svg PUBLIC \"-//W3C//DTD SVG 1.1//EN\"\r\n  \"http://www.w3.org/Graphics/SVG/1.1/DTD/svg11.dtd\">\r\n<!-- Created with matplotlib (https://matplotlib.org/) -->\r\n<svg height=\"650.742969pt\" version=\"1.1\" viewBox=\"0 0 864.876875 650.742969\" width=\"864.876875pt\" xmlns=\"http://www.w3.org/2000/svg\" xmlns:xlink=\"http://www.w3.org/1999/xlink\">\r\n <defs>\r\n  <style type=\"text/css\">\r\n*{stroke-linecap:butt;stroke-linejoin:round;}\r\n  </style>\r\n </defs>\r\n <g id=\"figure_1\">\r\n  <g id=\"patch_1\">\r\n   <path d=\"M 0 650.742969 \r\nL 864.876875 650.742969 \r\nL 864.876875 0 \r\nL 0 0 \r\nz\r\n\" style=\"fill:none;\"/>\r\n  </g>\r\n  <g id=\"axes_1\">\r\n   <g id=\"patch_2\">\r\n    <path d=\"M 96.14375 554.599219 \r\nL 765.74375 554.599219 \r\nL 765.74375 10.999219 \r\nL 96.14375 10.999219 \r\nz\r\n\" style=\"fill:#ffffff;\"/>\r\n   </g>\r\n   <g id=\"QuadMesh_1\">\r\n    <path clip-path=\"url(#p7e007545ef)\" d=\"M 96.14375 10.999219 \r\nL 137.99375 10.999219 \r\nL 137.99375 44.974219 \r\nL 96.14375 44.974219 \r\nL 96.14375 10.999219 \r\n\" style=\"fill:#faebdd;\"/>\r\n    <path clip-path=\"url(#p7e007545ef)\" d=\"M 137.99375 10.999219 \r\nL 179.84375 10.999219 \r\nL 179.84375 44.974219 \r\nL 137.99375 44.974219 \r\nL 137.99375 10.999219 \r\n\" style=\"fill:#e33641;\"/>\r\n    <path clip-path=\"url(#p7e007545ef)\" d=\"M 179.84375 10.999219 \r\nL 221.69375 10.999219 \r\nL 221.69375 44.974219 \r\nL 179.84375 44.974219 \r\nL 179.84375 10.999219 \r\n\" style=\"fill:#dc2b46;\"/>\r\n    <path clip-path=\"url(#p7e007545ef)\" d=\"M 221.69375 10.999219 \r\nL 263.54375 10.999219 \r\nL 263.54375 44.974219 \r\nL 221.69375 44.974219 \r\nL 221.69375 10.999219 \r\n\" style=\"fill:#a11a5b;\"/>\r\n    <path clip-path=\"url(#p7e007545ef)\" d=\"M 263.54375 10.999219 \r\nL 305.39375 10.999219 \r\nL 305.39375 44.974219 \r\nL 263.54375 44.974219 \r\nL 263.54375 10.999219 \r\n\" style=\"fill:#631f53;\"/>\r\n    <path clip-path=\"url(#p7e007545ef)\" d=\"M 305.39375 10.999219 \r\nL 347.24375 10.999219 \r\nL 347.24375 44.974219 \r\nL 305.39375 44.974219 \r\nL 305.39375 10.999219 \r\n\" style=\"fill:#d5224a;\"/>\r\n    <path clip-path=\"url(#p7e007545ef)\" d=\"M 347.24375 10.999219 \r\nL 389.09375 10.999219 \r\nL 389.09375 44.974219 \r\nL 347.24375 44.974219 \r\nL 347.24375 10.999219 \r\n\" style=\"fill:#b91657;\"/>\r\n    <path clip-path=\"url(#p7e007545ef)\" d=\"M 389.09375 10.999219 \r\nL 430.94375 10.999219 \r\nL 430.94375 44.974219 \r\nL 389.09375 44.974219 \r\nL 389.09375 10.999219 \r\n\" style=\"fill:#dc2b46;\"/>\r\n    <path clip-path=\"url(#p7e007545ef)\" d=\"M 430.94375 10.999219 \r\nL 472.79375 10.999219 \r\nL 472.79375 44.974219 \r\nL 430.94375 44.974219 \r\nL 430.94375 10.999219 \r\n\" style=\"fill:#cb1b4f;\"/>\r\n    <path clip-path=\"url(#p7e007545ef)\" d=\"M 472.79375 10.999219 \r\nL 514.64375 10.999219 \r\nL 514.64375 44.974219 \r\nL 472.79375 44.974219 \r\nL 472.79375 10.999219 \r\n\" style=\"fill:#8c1d5b;\"/>\r\n    <path clip-path=\"url(#p7e007545ef)\" d=\"M 514.64375 10.999219 \r\nL 556.49375 10.999219 \r\nL 556.49375 44.974219 \r\nL 514.64375 44.974219 \r\nL 514.64375 10.999219 \r\n\" style=\"fill:#931c5b;\"/>\r\n    <path clip-path=\"url(#p7e007545ef)\" d=\"M 556.49375 10.999219 \r\nL 598.34375 10.999219 \r\nL 598.34375 44.974219 \r\nL 556.49375 44.974219 \r\nL 556.49375 10.999219 \r\n\" style=\"fill:#e43841;\"/>\r\n    <path clip-path=\"url(#p7e007545ef)\" d=\"M 598.34375 10.999219 \r\nL 640.19375 10.999219 \r\nL 640.19375 44.974219 \r\nL 598.34375 44.974219 \r\nL 598.34375 10.999219 \r\n\" style=\"fill:#d92847;\"/>\r\n    <path clip-path=\"url(#p7e007545ef)\" d=\"M 640.19375 10.999219 \r\nL 682.04375 10.999219 \r\nL 682.04375 44.974219 \r\nL 640.19375 44.974219 \r\nL 640.19375 10.999219 \r\n\" style=\"fill:#561e4f;\"/>\r\n    <path clip-path=\"url(#p7e007545ef)\" d=\"M 682.04375 10.999219 \r\nL 723.89375 10.999219 \r\nL 723.89375 44.974219 \r\nL 682.04375 44.974219 \r\nL 682.04375 10.999219 \r\n\" style=\"fill:#691f55;\"/>\r\n    <path clip-path=\"url(#p7e007545ef)\" d=\"M 723.89375 10.999219 \r\nL 765.74375 10.999219 \r\nL 765.74375 44.974219 \r\nL 723.89375 44.974219 \r\nL 723.89375 10.999219 \r\n\" style=\"fill:#f59970;\"/>\r\n    <path clip-path=\"url(#p7e007545ef)\" d=\"M 96.14375 44.974219 \r\nL 137.99375 44.974219 \r\nL 137.99375 78.949219 \r\nL 96.14375 78.949219 \r\nL 96.14375 44.974219 \r\n\" style=\"fill:#e33641;\"/>\r\n    <path clip-path=\"url(#p7e007545ef)\" d=\"M 137.99375 44.974219 \r\nL 179.84375 44.974219 \r\nL 179.84375 78.949219 \r\nL 137.99375 78.949219 \r\nL 137.99375 44.974219 \r\n\" style=\"fill:#faebdd;\"/>\r\n    <path clip-path=\"url(#p7e007545ef)\" d=\"M 179.84375 44.974219 \r\nL 221.69375 44.974219 \r\nL 221.69375 78.949219 \r\nL 179.84375 78.949219 \r\nL 179.84375 44.974219 \r\n\" style=\"fill:#e73d3f;\"/>\r\n    <path clip-path=\"url(#p7e007545ef)\" d=\"M 221.69375 44.974219 \r\nL 263.54375 44.974219 \r\nL 263.54375 78.949219 \r\nL 221.69375 78.949219 \r\nL 221.69375 44.974219 \r\n\" style=\"fill:#6d1f56;\"/>\r\n    <path clip-path=\"url(#p7e007545ef)\" d=\"M 263.54375 44.974219 \r\nL 305.39375 44.974219 \r\nL 305.39375 78.949219 \r\nL 263.54375 78.949219 \r\nL 263.54375 44.974219 \r\n\" style=\"fill:#611f53;\"/>\r\n    <path clip-path=\"url(#p7e007545ef)\" d=\"M 305.39375 44.974219 \r\nL 347.24375 44.974219 \r\nL 347.24375 78.949219 \r\nL 305.39375 78.949219 \r\nL 305.39375 44.974219 \r\n\" style=\"fill:#9a1b5b;\"/>\r\n    <path clip-path=\"url(#p7e007545ef)\" d=\"M 347.24375 44.974219 \r\nL 389.09375 44.974219 \r\nL 389.09375 78.949219 \r\nL 347.24375 78.949219 \r\nL 347.24375 44.974219 \r\n\" style=\"fill:#6e1f57;\"/>\r\n    <path clip-path=\"url(#p7e007545ef)\" d=\"M 389.09375 44.974219 \r\nL 430.94375 44.974219 \r\nL 430.94375 78.949219 \r\nL 389.09375 78.949219 \r\nL 389.09375 44.974219 \r\n\" style=\"fill:#501d4c;\"/>\r\n    <path clip-path=\"url(#p7e007545ef)\" d=\"M 430.94375 44.974219 \r\nL 472.79375 44.974219 \r\nL 472.79375 78.949219 \r\nL 430.94375 78.949219 \r\nL 430.94375 44.974219 \r\n\" style=\"fill:#b51657;\"/>\r\n    <path clip-path=\"url(#p7e007545ef)\" d=\"M 472.79375 44.974219 \r\nL 514.64375 44.974219 \r\nL 514.64375 78.949219 \r\nL 472.79375 78.949219 \r\nL 472.79375 44.974219 \r\n\" style=\"fill:#1d112c;\"/>\r\n    <path clip-path=\"url(#p7e007545ef)\" d=\"M 514.64375 44.974219 \r\nL 556.49375 44.974219 \r\nL 556.49375 78.949219 \r\nL 514.64375 78.949219 \r\nL 514.64375 44.974219 \r\n\" style=\"fill:#34193d;\"/>\r\n    <path clip-path=\"url(#p7e007545ef)\" d=\"M 556.49375 44.974219 \r\nL 598.34375 44.974219 \r\nL 598.34375 78.949219 \r\nL 556.49375 78.949219 \r\nL 556.49375 44.974219 \r\n\" style=\"fill:#d11f4c;\"/>\r\n    <path clip-path=\"url(#p7e007545ef)\" d=\"M 598.34375 44.974219 \r\nL 640.19375 44.974219 \r\nL 640.19375 78.949219 \r\nL 598.34375 78.949219 \r\nL 598.34375 44.974219 \r\n\" style=\"fill:#ba1656;\"/>\r\n    <path clip-path=\"url(#p7e007545ef)\" d=\"M 640.19375 44.974219 \r\nL 682.04375 44.974219 \r\nL 682.04375 78.949219 \r\nL 640.19375 78.949219 \r\nL 640.19375 44.974219 \r\n\" style=\"fill:#4b1d4a;\"/>\r\n    <path clip-path=\"url(#p7e007545ef)\" d=\"M 682.04375 44.974219 \r\nL 723.89375 44.974219 \r\nL 723.89375 78.949219 \r\nL 682.04375 78.949219 \r\nL 682.04375 44.974219 \r\n\" style=\"fill:#3f1b43;\"/>\r\n    <path clip-path=\"url(#p7e007545ef)\" d=\"M 723.89375 44.974219 \r\nL 765.74375 44.974219 \r\nL 765.74375 78.949219 \r\nL 723.89375 78.949219 \r\nL 723.89375 44.974219 \r\n\" style=\"fill:#d82748;\"/>\r\n    <path clip-path=\"url(#p7e007545ef)\" d=\"M 96.14375 78.949219 \r\nL 137.99375 78.949219 \r\nL 137.99375 112.924219 \r\nL 96.14375 112.924219 \r\nL 96.14375 78.949219 \r\n\" style=\"fill:#dc2b46;\"/>\r\n    <path clip-path=\"url(#p7e007545ef)\" d=\"M 137.99375 78.949219 \r\nL 179.84375 78.949219 \r\nL 179.84375 112.924219 \r\nL 137.99375 112.924219 \r\nL 137.99375 78.949219 \r\n\" style=\"fill:#e73d3f;\"/>\r\n    <path clip-path=\"url(#p7e007545ef)\" d=\"M 179.84375 78.949219 \r\nL 221.69375 78.949219 \r\nL 221.69375 112.924219 \r\nL 179.84375 112.924219 \r\nL 179.84375 78.949219 \r\n\" style=\"fill:#faebdd;\"/>\r\n    <path clip-path=\"url(#p7e007545ef)\" d=\"M 221.69375 78.949219 \r\nL 263.54375 78.949219 \r\nL 263.54375 112.924219 \r\nL 221.69375 112.924219 \r\nL 221.69375 78.949219 \r\n\" style=\"fill:#3c1a42;\"/>\r\n    <path clip-path=\"url(#p7e007545ef)\" d=\"M 263.54375 78.949219 \r\nL 305.39375 78.949219 \r\nL 305.39375 112.924219 \r\nL 263.54375 112.924219 \r\nL 263.54375 78.949219 \r\n\" style=\"fill:#2d1738;\"/>\r\n    <path clip-path=\"url(#p7e007545ef)\" d=\"M 305.39375 78.949219 \r\nL 347.24375 78.949219 \r\nL 347.24375 112.924219 \r\nL 305.39375 112.924219 \r\nL 305.39375 78.949219 \r\n\" style=\"fill:#691f55;\"/>\r\n    <path clip-path=\"url(#p7e007545ef)\" d=\"M 347.24375 78.949219 \r\nL 389.09375 78.949219 \r\nL 389.09375 112.924219 \r\nL 347.24375 112.924219 \r\nL 347.24375 78.949219 \r\n\" style=\"fill:#511e4d;\"/>\r\n    <path clip-path=\"url(#p7e007545ef)\" d=\"M 389.09375 78.949219 \r\nL 430.94375 78.949219 \r\nL 430.94375 112.924219 \r\nL 389.09375 112.924219 \r\nL 389.09375 78.949219 \r\n\" style=\"fill:#701f57;\"/>\r\n    <path clip-path=\"url(#p7e007545ef)\" d=\"M 430.94375 78.949219 \r\nL 472.79375 78.949219 \r\nL 472.79375 112.924219 \r\nL 430.94375 112.924219 \r\nL 430.94375 78.949219 \r\n\" style=\"fill:#b01759;\"/>\r\n    <path clip-path=\"url(#p7e007545ef)\" d=\"M 472.79375 78.949219 \r\nL 514.64375 78.949219 \r\nL 514.64375 112.924219 \r\nL 472.79375 112.924219 \r\nL 472.79375 78.949219 \r\n\" style=\"fill:#3f1b43;\"/>\r\n    <path clip-path=\"url(#p7e007545ef)\" d=\"M 514.64375 78.949219 \r\nL 556.49375 78.949219 \r\nL 556.49375 112.924219 \r\nL 514.64375 112.924219 \r\nL 514.64375 78.949219 \r\n\" style=\"fill:#251433;\"/>\r\n    <path clip-path=\"url(#p7e007545ef)\" d=\"M 556.49375 78.949219 \r\nL 598.34375 78.949219 \r\nL 598.34375 112.924219 \r\nL 556.49375 112.924219 \r\nL 556.49375 78.949219 \r\n\" style=\"fill:#a11a5b;\"/>\r\n    <path clip-path=\"url(#p7e007545ef)\" d=\"M 598.34375 78.949219 \r\nL 640.19375 78.949219 \r\nL 640.19375 112.924219 \r\nL 598.34375 112.924219 \r\nL 598.34375 78.949219 \r\n\" style=\"fill:#8b1d5b;\"/>\r\n    <path clip-path=\"url(#p7e007545ef)\" d=\"M 640.19375 78.949219 \r\nL 682.04375 78.949219 \r\nL 682.04375 112.924219 \r\nL 640.19375 112.924219 \r\nL 640.19375 78.949219 \r\n\" style=\"fill:#461c48;\"/>\r\n    <path clip-path=\"url(#p7e007545ef)\" d=\"M 682.04375 78.949219 \r\nL 723.89375 78.949219 \r\nL 723.89375 112.924219 \r\nL 682.04375 112.924219 \r\nL 682.04375 78.949219 \r\n\" style=\"fill:#501d4c;\"/>\r\n    <path clip-path=\"url(#p7e007545ef)\" d=\"M 723.89375 78.949219 \r\nL 765.74375 78.949219 \r\nL 765.74375 112.924219 \r\nL 723.89375 112.924219 \r\nL 723.89375 78.949219 \r\n\" style=\"fill:#cf1e4d;\"/>\r\n    <path clip-path=\"url(#p7e007545ef)\" d=\"M 96.14375 112.924219 \r\nL 137.99375 112.924219 \r\nL 137.99375 146.899219 \r\nL 96.14375 146.899219 \r\nL 96.14375 112.924219 \r\n\" style=\"fill:#a11a5b;\"/>\r\n    <path clip-path=\"url(#p7e007545ef)\" d=\"M 137.99375 112.924219 \r\nL 179.84375 112.924219 \r\nL 179.84375 146.899219 \r\nL 137.99375 146.899219 \r\nL 137.99375 112.924219 \r\n\" style=\"fill:#6d1f56;\"/>\r\n    <path clip-path=\"url(#p7e007545ef)\" d=\"M 179.84375 112.924219 \r\nL 221.69375 112.924219 \r\nL 221.69375 146.899219 \r\nL 179.84375 146.899219 \r\nL 179.84375 112.924219 \r\n\" style=\"fill:#3c1a42;\"/>\r\n    <path clip-path=\"url(#p7e007545ef)\" d=\"M 221.69375 112.924219 \r\nL 263.54375 112.924219 \r\nL 263.54375 146.899219 \r\nL 221.69375 146.899219 \r\nL 221.69375 112.924219 \r\n\" style=\"fill:#faebdd;\"/>\r\n    <path clip-path=\"url(#p7e007545ef)\" d=\"M 263.54375 112.924219 \r\nL 305.39375 112.924219 \r\nL 305.39375 146.899219 \r\nL 263.54375 146.899219 \r\nL 263.54375 112.924219 \r\n\" style=\"fill:#691f55;\"/>\r\n    <path clip-path=\"url(#p7e007545ef)\" d=\"M 305.39375 112.924219 \r\nL 347.24375 112.924219 \r\nL 347.24375 146.899219 \r\nL 305.39375 146.899219 \r\nL 305.39375 112.924219 \r\n\" style=\"fill:#931c5b;\"/>\r\n    <path clip-path=\"url(#p7e007545ef)\" d=\"M 347.24375 112.924219 \r\nL 389.09375 112.924219 \r\nL 389.09375 146.899219 \r\nL 347.24375 146.899219 \r\nL 347.24375 112.924219 \r\n\" style=\"fill:#931c5b;\"/>\r\n    <path clip-path=\"url(#p7e007545ef)\" d=\"M 389.09375 112.924219 \r\nL 430.94375 112.924219 \r\nL 430.94375 146.899219 \r\nL 389.09375 146.899219 \r\nL 389.09375 112.924219 \r\n\" style=\"fill:#971c5b;\"/>\r\n    <path clip-path=\"url(#p7e007545ef)\" d=\"M 430.94375 112.924219 \r\nL 472.79375 112.924219 \r\nL 472.79375 146.899219 \r\nL 430.94375 146.899219 \r\nL 430.94375 112.924219 \r\n\" style=\"fill:#561e4f;\"/>\r\n    <path clip-path=\"url(#p7e007545ef)\" d=\"M 472.79375 112.924219 \r\nL 514.64375 112.924219 \r\nL 514.64375 146.899219 \r\nL 472.79375 146.899219 \r\nL 472.79375 112.924219 \r\n\" style=\"fill:#601f52;\"/>\r\n    <path clip-path=\"url(#p7e007545ef)\" d=\"M 514.64375 112.924219 \r\nL 556.49375 112.924219 \r\nL 556.49375 146.899219 \r\nL 514.64375 146.899219 \r\nL 514.64375 112.924219 \r\n\" style=\"fill:#5c1e51;\"/>\r\n    <path clip-path=\"url(#p7e007545ef)\" d=\"M 556.49375 112.924219 \r\nL 598.34375 112.924219 \r\nL 598.34375 146.899219 \r\nL 556.49375 146.899219 \r\nL 556.49375 112.924219 \r\n\" style=\"fill:#821e5a;\"/>\r\n    <path clip-path=\"url(#p7e007545ef)\" d=\"M 598.34375 112.924219 \r\nL 640.19375 112.924219 \r\nL 640.19375 146.899219 \r\nL 598.34375 146.899219 \r\nL 598.34375 112.924219 \r\n\" style=\"fill:#891e5b;\"/>\r\n    <path clip-path=\"url(#p7e007545ef)\" d=\"M 640.19375 112.924219 \r\nL 682.04375 112.924219 \r\nL 682.04375 146.899219 \r\nL 640.19375 146.899219 \r\nL 640.19375 112.924219 \r\n\" style=\"fill:#31183b;\"/>\r\n    <path clip-path=\"url(#p7e007545ef)\" d=\"M 682.04375 112.924219 \r\nL 723.89375 112.924219 \r\nL 723.89375 146.899219 \r\nL 682.04375 146.899219 \r\nL 682.04375 112.924219 \r\n\" style=\"fill:#271534;\"/>\r\n    <path clip-path=\"url(#p7e007545ef)\" d=\"M 723.89375 112.924219 \r\nL 765.74375 112.924219 \r\nL 765.74375 146.899219 \r\nL 723.89375 146.899219 \r\nL 723.89375 112.924219 \r\n\" style=\"fill:#c41753;\"/>\r\n    <path clip-path=\"url(#p7e007545ef)\" d=\"M 96.14375 146.899219 \r\nL 137.99375 146.899219 \r\nL 137.99375 180.874219 \r\nL 96.14375 180.874219 \r\nL 96.14375 146.899219 \r\n\" style=\"fill:#631f53;\"/>\r\n    <path clip-path=\"url(#p7e007545ef)\" d=\"M 137.99375 146.899219 \r\nL 179.84375 146.899219 \r\nL 179.84375 180.874219 \r\nL 137.99375 180.874219 \r\nL 137.99375 146.899219 \r\n\" style=\"fill:#611f53;\"/>\r\n    <path clip-path=\"url(#p7e007545ef)\" d=\"M 179.84375 146.899219 \r\nL 221.69375 146.899219 \r\nL 221.69375 180.874219 \r\nL 179.84375 180.874219 \r\nL 179.84375 146.899219 \r\n\" style=\"fill:#2d1738;\"/>\r\n    <path clip-path=\"url(#p7e007545ef)\" d=\"M 221.69375 146.899219 \r\nL 263.54375 146.899219 \r\nL 263.54375 180.874219 \r\nL 221.69375 180.874219 \r\nL 221.69375 146.899219 \r\n\" style=\"fill:#691f55;\"/>\r\n    <path clip-path=\"url(#p7e007545ef)\" d=\"M 263.54375 146.899219 \r\nL 305.39375 146.899219 \r\nL 305.39375 180.874219 \r\nL 263.54375 180.874219 \r\nL 263.54375 146.899219 \r\n\" style=\"fill:#faebdd;\"/>\r\n    <path clip-path=\"url(#p7e007545ef)\" d=\"M 305.39375 146.899219 \r\nL 347.24375 146.899219 \r\nL 347.24375 180.874219 \r\nL 305.39375 180.874219 \r\nL 305.39375 146.899219 \r\n\" style=\"fill:#d11f4c;\"/>\r\n    <path clip-path=\"url(#p7e007545ef)\" d=\"M 347.24375 146.899219 \r\nL 389.09375 146.899219 \r\nL 389.09375 180.874219 \r\nL 347.24375 180.874219 \r\nL 347.24375 146.899219 \r\n\" style=\"fill:#b01759;\"/>\r\n    <path clip-path=\"url(#p7e007545ef)\" d=\"M 389.09375 146.899219 \r\nL 430.94375 146.899219 \r\nL 430.94375 180.874219 \r\nL 389.09375 180.874219 \r\nL 389.09375 146.899219 \r\n\" style=\"fill:#431c46;\"/>\r\n    <path clip-path=\"url(#p7e007545ef)\" d=\"M 430.94375 146.899219 \r\nL 472.79375 146.899219 \r\nL 472.79375 180.874219 \r\nL 430.94375 180.874219 \r\nL 430.94375 146.899219 \r\n\" style=\"fill:#100b23;\"/>\r\n    <path clip-path=\"url(#p7e007545ef)\" d=\"M 472.79375 146.899219 \r\nL 514.64375 146.899219 \r\nL 514.64375 180.874219 \r\nL 472.79375 180.874219 \r\nL 472.79375 146.899219 \r\n\" style=\"fill:#05061b;\"/>\r\n    <path clip-path=\"url(#p7e007545ef)\" d=\"M 514.64375 146.899219 \r\nL 556.49375 146.899219 \r\nL 556.49375 180.874219 \r\nL 514.64375 180.874219 \r\nL 514.64375 146.899219 \r\n\" style=\"fill:#681f55;\"/>\r\n    <path clip-path=\"url(#p7e007545ef)\" d=\"M 556.49375 146.899219 \r\nL 598.34375 146.899219 \r\nL 598.34375 180.874219 \r\nL 556.49375 180.874219 \r\nL 556.49375 146.899219 \r\n\" style=\"fill:#561e4f;\"/>\r\n    <path clip-path=\"url(#p7e007545ef)\" d=\"M 598.34375 146.899219 \r\nL 640.19375 146.899219 \r\nL 640.19375 180.874219 \r\nL 598.34375 180.874219 \r\nL 598.34375 146.899219 \r\n\" style=\"fill:#6e1f57;\"/>\r\n    <path clip-path=\"url(#p7e007545ef)\" d=\"M 640.19375 146.899219 \r\nL 682.04375 146.899219 \r\nL 682.04375 180.874219 \r\nL 640.19375 180.874219 \r\nL 640.19375 146.899219 \r\n\" style=\"fill:#491d49;\"/>\r\n    <path clip-path=\"url(#p7e007545ef)\" d=\"M 682.04375 146.899219 \r\nL 723.89375 146.899219 \r\nL 723.89375 180.874219 \r\nL 682.04375 180.874219 \r\nL 682.04375 146.899219 \r\n\" style=\"fill:#211330;\"/>\r\n    <path clip-path=\"url(#p7e007545ef)\" d=\"M 723.89375 146.899219 \r\nL 765.74375 146.899219 \r\nL 765.74375 180.874219 \r\nL 723.89375 180.874219 \r\nL 723.89375 146.899219 \r\n\" style=\"fill:#a4195b;\"/>\r\n    <path clip-path=\"url(#p7e007545ef)\" d=\"M 96.14375 180.874219 \r\nL 137.99375 180.874219 \r\nL 137.99375 214.849219 \r\nL 96.14375 214.849219 \r\nL 96.14375 180.874219 \r\n\" style=\"fill:#d5224a;\"/>\r\n    <path clip-path=\"url(#p7e007545ef)\" d=\"M 137.99375 180.874219 \r\nL 179.84375 180.874219 \r\nL 179.84375 214.849219 \r\nL 137.99375 214.849219 \r\nL 137.99375 180.874219 \r\n\" style=\"fill:#9a1b5b;\"/>\r\n    <path clip-path=\"url(#p7e007545ef)\" d=\"M 179.84375 180.874219 \r\nL 221.69375 180.874219 \r\nL 221.69375 214.849219 \r\nL 179.84375 214.849219 \r\nL 179.84375 180.874219 \r\n\" style=\"fill:#691f55;\"/>\r\n    <path clip-path=\"url(#p7e007545ef)\" d=\"M 221.69375 180.874219 \r\nL 263.54375 180.874219 \r\nL 263.54375 214.849219 \r\nL 221.69375 214.849219 \r\nL 221.69375 180.874219 \r\n\" style=\"fill:#931c5b;\"/>\r\n    <path clip-path=\"url(#p7e007545ef)\" d=\"M 263.54375 180.874219 \r\nL 305.39375 180.874219 \r\nL 305.39375 214.849219 \r\nL 263.54375 214.849219 \r\nL 263.54375 180.874219 \r\n\" style=\"fill:#d11f4c;\"/>\r\n    <path clip-path=\"url(#p7e007545ef)\" d=\"M 305.39375 180.874219 \r\nL 347.24375 180.874219 \r\nL 347.24375 214.849219 \r\nL 305.39375 214.849219 \r\nL 305.39375 180.874219 \r\n\" style=\"fill:#faebdd;\"/>\r\n    <path clip-path=\"url(#p7e007545ef)\" d=\"M 347.24375 180.874219 \r\nL 389.09375 180.874219 \r\nL 389.09375 214.849219 \r\nL 347.24375 214.849219 \r\nL 347.24375 180.874219 \r\n\" style=\"fill:#f59970;\"/>\r\n    <path clip-path=\"url(#p7e007545ef)\" d=\"M 389.09375 180.874219 \r\nL 430.94375 180.874219 \r\nL 430.94375 214.849219 \r\nL 389.09375 214.849219 \r\nL 389.09375 180.874219 \r\n\" style=\"fill:#ab185a;\"/>\r\n    <path clip-path=\"url(#p7e007545ef)\" d=\"M 430.94375 180.874219 \r\nL 472.79375 180.874219 \r\nL 472.79375 214.849219 \r\nL 430.94375 214.849219 \r\nL 430.94375 180.874219 \r\n\" style=\"fill:#751f58;\"/>\r\n    <path clip-path=\"url(#p7e007545ef)\" d=\"M 472.79375 180.874219 \r\nL 514.64375 180.874219 \r\nL 514.64375 214.849219 \r\nL 472.79375 214.849219 \r\nL 472.79375 180.874219 \r\n\" style=\"fill:#611f53;\"/>\r\n    <path clip-path=\"url(#p7e007545ef)\" d=\"M 514.64375 180.874219 \r\nL 556.49375 180.874219 \r\nL 556.49375 214.849219 \r\nL 514.64375 214.849219 \r\nL 514.64375 180.874219 \r\n\" style=\"fill:#781f59;\"/>\r\n    <path clip-path=\"url(#p7e007545ef)\" d=\"M 556.49375 180.874219 \r\nL 598.34375 180.874219 \r\nL 598.34375 214.849219 \r\nL 556.49375 214.849219 \r\nL 556.49375 180.874219 \r\n\" style=\"fill:#a8185a;\"/>\r\n    <path clip-path=\"url(#p7e007545ef)\" d=\"M 598.34375 180.874219 \r\nL 640.19375 180.874219 \r\nL 640.19375 214.849219 \r\nL 598.34375 214.849219 \r\nL 598.34375 180.874219 \r\n\" style=\"fill:#bc1656;\"/>\r\n    <path clip-path=\"url(#p7e007545ef)\" d=\"M 640.19375 180.874219 \r\nL 682.04375 180.874219 \r\nL 682.04375 214.849219 \r\nL 640.19375 214.849219 \r\nL 640.19375 180.874219 \r\n\" style=\"fill:#4b1d4a;\"/>\r\n    <path clip-path=\"url(#p7e007545ef)\" d=\"M 682.04375 180.874219 \r\nL 723.89375 180.874219 \r\nL 723.89375 214.849219 \r\nL 682.04375 214.849219 \r\nL 682.04375 180.874219 \r\n\" style=\"fill:#531e4d;\"/>\r\n    <path clip-path=\"url(#p7e007545ef)\" d=\"M 723.89375 180.874219 \r\nL 765.74375 180.874219 \r\nL 765.74375 214.849219 \r\nL 723.89375 214.849219 \r\nL 723.89375 180.874219 \r\n\" style=\"fill:#eb483e;\"/>\r\n    <path clip-path=\"url(#p7e007545ef)\" d=\"M 96.14375 214.849219 \r\nL 137.99375 214.849219 \r\nL 137.99375 248.824219 \r\nL 96.14375 248.824219 \r\nL 96.14375 214.849219 \r\n\" style=\"fill:#b91657;\"/>\r\n    <path clip-path=\"url(#p7e007545ef)\" d=\"M 137.99375 214.849219 \r\nL 179.84375 214.849219 \r\nL 179.84375 248.824219 \r\nL 137.99375 248.824219 \r\nL 137.99375 214.849219 \r\n\" style=\"fill:#6e1f57;\"/>\r\n    <path clip-path=\"url(#p7e007545ef)\" d=\"M 179.84375 214.849219 \r\nL 221.69375 214.849219 \r\nL 221.69375 248.824219 \r\nL 179.84375 248.824219 \r\nL 179.84375 214.849219 \r\n\" style=\"fill:#511e4d;\"/>\r\n    <path clip-path=\"url(#p7e007545ef)\" d=\"M 221.69375 214.849219 \r\nL 263.54375 214.849219 \r\nL 263.54375 248.824219 \r\nL 221.69375 248.824219 \r\nL 221.69375 214.849219 \r\n\" style=\"fill:#931c5b;\"/>\r\n    <path clip-path=\"url(#p7e007545ef)\" d=\"M 263.54375 214.849219 \r\nL 305.39375 214.849219 \r\nL 305.39375 248.824219 \r\nL 263.54375 248.824219 \r\nL 263.54375 214.849219 \r\n\" style=\"fill:#b01759;\"/>\r\n    <path clip-path=\"url(#p7e007545ef)\" d=\"M 305.39375 214.849219 \r\nL 347.24375 214.849219 \r\nL 347.24375 248.824219 \r\nL 305.39375 248.824219 \r\nL 305.39375 214.849219 \r\n\" style=\"fill:#f59970;\"/>\r\n    <path clip-path=\"url(#p7e007545ef)\" d=\"M 347.24375 214.849219 \r\nL 389.09375 214.849219 \r\nL 389.09375 248.824219 \r\nL 347.24375 248.824219 \r\nL 347.24375 214.849219 \r\n\" style=\"fill:#faebdd;\"/>\r\n    <path clip-path=\"url(#p7e007545ef)\" d=\"M 389.09375 214.849219 \r\nL 430.94375 214.849219 \r\nL 430.94375 248.824219 \r\nL 389.09375 248.824219 \r\nL 389.09375 214.849219 \r\n\" style=\"fill:#d92847;\"/>\r\n    <path clip-path=\"url(#p7e007545ef)\" d=\"M 430.94375 214.849219 \r\nL 472.79375 214.849219 \r\nL 472.79375 248.824219 \r\nL 430.94375 248.824219 \r\nL 430.94375 214.849219 \r\n\" style=\"fill:#891e5b;\"/>\r\n    <path clip-path=\"url(#p7e007545ef)\" d=\"M 472.79375 214.849219 \r\nL 514.64375 214.849219 \r\nL 514.64375 248.824219 \r\nL 472.79375 248.824219 \r\nL 472.79375 214.849219 \r\n\" style=\"fill:#921c5b;\"/>\r\n    <path clip-path=\"url(#p7e007545ef)\" d=\"M 514.64375 214.849219 \r\nL 556.49375 214.849219 \r\nL 556.49375 248.824219 \r\nL 514.64375 248.824219 \r\nL 514.64375 214.849219 \r\n\" style=\"fill:#981b5b;\"/>\r\n    <path clip-path=\"url(#p7e007545ef)\" d=\"M 556.49375 214.849219 \r\nL 598.34375 214.849219 \r\nL 598.34375 248.824219 \r\nL 556.49375 248.824219 \r\nL 556.49375 214.849219 \r\n\" style=\"fill:#a8185a;\"/>\r\n    <path clip-path=\"url(#p7e007545ef)\" d=\"M 598.34375 214.849219 \r\nL 640.19375 214.849219 \r\nL 640.19375 248.824219 \r\nL 598.34375 248.824219 \r\nL 598.34375 214.849219 \r\n\" style=\"fill:#bf1654;\"/>\r\n    <path clip-path=\"url(#p7e007545ef)\" d=\"M 640.19375 214.849219 \r\nL 682.04375 214.849219 \r\nL 682.04375 248.824219 \r\nL 640.19375 248.824219 \r\nL 640.19375 214.849219 \r\n\" style=\"fill:#4b1d4a;\"/>\r\n    <path clip-path=\"url(#p7e007545ef)\" d=\"M 682.04375 214.849219 \r\nL 723.89375 214.849219 \r\nL 723.89375 248.824219 \r\nL 682.04375 248.824219 \r\nL 682.04375 214.849219 \r\n\" style=\"fill:#4e1d4b;\"/>\r\n    <path clip-path=\"url(#p7e007545ef)\" d=\"M 723.89375 214.849219 \r\nL 765.74375 214.849219 \r\nL 765.74375 248.824219 \r\nL 723.89375 248.824219 \r\nL 723.89375 214.849219 \r\n\" style=\"fill:#e9423e;\"/>\r\n    <path clip-path=\"url(#p7e007545ef)\" d=\"M 96.14375 248.824219 \r\nL 137.99375 248.824219 \r\nL 137.99375 282.799219 \r\nL 96.14375 282.799219 \r\nL 96.14375 248.824219 \r\n\" style=\"fill:#dc2b46;\"/>\r\n    <path clip-path=\"url(#p7e007545ef)\" d=\"M 137.99375 248.824219 \r\nL 179.84375 248.824219 \r\nL 179.84375 282.799219 \r\nL 137.99375 282.799219 \r\nL 137.99375 248.824219 \r\n\" style=\"fill:#501d4c;\"/>\r\n    <path clip-path=\"url(#p7e007545ef)\" d=\"M 179.84375 248.824219 \r\nL 221.69375 248.824219 \r\nL 221.69375 282.799219 \r\nL 179.84375 282.799219 \r\nL 179.84375 248.824219 \r\n\" style=\"fill:#701f57;\"/>\r\n    <path clip-path=\"url(#p7e007545ef)\" d=\"M 221.69375 248.824219 \r\nL 263.54375 248.824219 \r\nL 263.54375 282.799219 \r\nL 221.69375 282.799219 \r\nL 221.69375 248.824219 \r\n\" style=\"fill:#971c5b;\"/>\r\n    <path clip-path=\"url(#p7e007545ef)\" d=\"M 263.54375 248.824219 \r\nL 305.39375 248.824219 \r\nL 305.39375 282.799219 \r\nL 263.54375 282.799219 \r\nL 263.54375 248.824219 \r\n\" style=\"fill:#431c46;\"/>\r\n    <path clip-path=\"url(#p7e007545ef)\" d=\"M 305.39375 248.824219 \r\nL 347.24375 248.824219 \r\nL 347.24375 282.799219 \r\nL 305.39375 282.799219 \r\nL 305.39375 248.824219 \r\n\" style=\"fill:#ab185a;\"/>\r\n    <path clip-path=\"url(#p7e007545ef)\" d=\"M 347.24375 248.824219 \r\nL 389.09375 248.824219 \r\nL 389.09375 282.799219 \r\nL 347.24375 282.799219 \r\nL 347.24375 248.824219 \r\n\" style=\"fill:#d92847;\"/>\r\n    <path clip-path=\"url(#p7e007545ef)\" d=\"M 389.09375 248.824219 \r\nL 430.94375 248.824219 \r\nL 430.94375 282.799219 \r\nL 389.09375 282.799219 \r\nL 389.09375 248.824219 \r\n\" style=\"fill:#faebdd;\"/>\r\n    <path clip-path=\"url(#p7e007545ef)\" d=\"M 430.94375 248.824219 \r\nL 472.79375 248.824219 \r\nL 472.79375 282.799219 \r\nL 430.94375 282.799219 \r\nL 430.94375 248.824219 \r\n\" style=\"fill:#eb463e;\"/>\r\n    <path clip-path=\"url(#p7e007545ef)\" d=\"M 472.79375 248.824219 \r\nL 514.64375 248.824219 \r\nL 514.64375 282.799219 \r\nL 472.79375 282.799219 \r\nL 472.79375 248.824219 \r\n\" style=\"fill:#f69c73;\"/>\r\n    <path clip-path=\"url(#p7e007545ef)\" d=\"M 514.64375 248.824219 \r\nL 556.49375 248.824219 \r\nL 556.49375 282.799219 \r\nL 514.64375 282.799219 \r\nL 514.64375 248.824219 \r\n\" style=\"fill:#af1759;\"/>\r\n    <path clip-path=\"url(#p7e007545ef)\" d=\"M 556.49375 248.824219 \r\nL 598.34375 248.824219 \r\nL 598.34375 282.799219 \r\nL 556.49375 282.799219 \r\nL 556.49375 248.824219 \r\n\" style=\"fill:#bd1655;\"/>\r\n    <path clip-path=\"url(#p7e007545ef)\" d=\"M 598.34375 248.824219 \r\nL 640.19375 248.824219 \r\nL 640.19375 282.799219 \r\nL 598.34375 282.799219 \r\nL 598.34375 248.824219 \r\n\" style=\"fill:#bc1656;\"/>\r\n    <path clip-path=\"url(#p7e007545ef)\" d=\"M 640.19375 248.824219 \r\nL 682.04375 248.824219 \r\nL 682.04375 282.799219 \r\nL 640.19375 282.799219 \r\nL 640.19375 248.824219 \r\n\" style=\"fill:#541e4e;\"/>\r\n    <path clip-path=\"url(#p7e007545ef)\" d=\"M 682.04375 248.824219 \r\nL 723.89375 248.824219 \r\nL 723.89375 282.799219 \r\nL 682.04375 282.799219 \r\nL 682.04375 248.824219 \r\n\" style=\"fill:#7b1f59;\"/>\r\n    <path clip-path=\"url(#p7e007545ef)\" d=\"M 723.89375 248.824219 \r\nL 765.74375 248.824219 \r\nL 765.74375 282.799219 \r\nL 723.89375 282.799219 \r\nL 723.89375 248.824219 \r\n\" style=\"fill:#f26d4b;\"/>\r\n    <path clip-path=\"url(#p7e007545ef)\" d=\"M 96.14375 282.799219 \r\nL 137.99375 282.799219 \r\nL 137.99375 316.774219 \r\nL 96.14375 316.774219 \r\nL 96.14375 282.799219 \r\n\" style=\"fill:#cb1b4f;\"/>\r\n    <path clip-path=\"url(#p7e007545ef)\" d=\"M 137.99375 282.799219 \r\nL 179.84375 282.799219 \r\nL 179.84375 316.774219 \r\nL 137.99375 316.774219 \r\nL 137.99375 282.799219 \r\n\" style=\"fill:#b51657;\"/>\r\n    <path clip-path=\"url(#p7e007545ef)\" d=\"M 179.84375 282.799219 \r\nL 221.69375 282.799219 \r\nL 221.69375 316.774219 \r\nL 179.84375 316.774219 \r\nL 179.84375 282.799219 \r\n\" style=\"fill:#b01759;\"/>\r\n    <path clip-path=\"url(#p7e007545ef)\" d=\"M 221.69375 282.799219 \r\nL 263.54375 282.799219 \r\nL 263.54375 316.774219 \r\nL 221.69375 316.774219 \r\nL 221.69375 282.799219 \r\n\" style=\"fill:#561e4f;\"/>\r\n    <path clip-path=\"url(#p7e007545ef)\" d=\"M 263.54375 282.799219 \r\nL 305.39375 282.799219 \r\nL 305.39375 316.774219 \r\nL 263.54375 316.774219 \r\nL 263.54375 282.799219 \r\n\" style=\"fill:#100b23;\"/>\r\n    <path clip-path=\"url(#p7e007545ef)\" d=\"M 305.39375 282.799219 \r\nL 347.24375 282.799219 \r\nL 347.24375 316.774219 \r\nL 305.39375 316.774219 \r\nL 305.39375 282.799219 \r\n\" style=\"fill:#751f58;\"/>\r\n    <path clip-path=\"url(#p7e007545ef)\" d=\"M 347.24375 282.799219 \r\nL 389.09375 282.799219 \r\nL 389.09375 316.774219 \r\nL 347.24375 316.774219 \r\nL 347.24375 282.799219 \r\n\" style=\"fill:#891e5b;\"/>\r\n    <path clip-path=\"url(#p7e007545ef)\" d=\"M 389.09375 282.799219 \r\nL 430.94375 282.799219 \r\nL 430.94375 316.774219 \r\nL 389.09375 316.774219 \r\nL 389.09375 282.799219 \r\n\" style=\"fill:#eb463e;\"/>\r\n    <path clip-path=\"url(#p7e007545ef)\" d=\"M 430.94375 282.799219 \r\nL 472.79375 282.799219 \r\nL 472.79375 316.774219 \r\nL 430.94375 316.774219 \r\nL 430.94375 282.799219 \r\n\" style=\"fill:#faebdd;\"/>\r\n    <path clip-path=\"url(#p7e007545ef)\" d=\"M 472.79375 282.799219 \r\nL 514.64375 282.799219 \r\nL 514.64375 316.774219 \r\nL 472.79375 316.774219 \r\nL 472.79375 282.799219 \r\n\" style=\"fill:#ce1d4e;\"/>\r\n    <path clip-path=\"url(#p7e007545ef)\" d=\"M 514.64375 282.799219 \r\nL 556.49375 282.799219 \r\nL 556.49375 316.774219 \r\nL 514.64375 316.774219 \r\nL 514.64375 282.799219 \r\n\" style=\"fill:#4b1d4a;\"/>\r\n    <path clip-path=\"url(#p7e007545ef)\" d=\"M 556.49375 282.799219 \r\nL 598.34375 282.799219 \r\nL 598.34375 316.774219 \r\nL 556.49375 316.774219 \r\nL 556.49375 282.799219 \r\n\" style=\"fill:#b91657;\"/>\r\n    <path clip-path=\"url(#p7e007545ef)\" d=\"M 598.34375 282.799219 \r\nL 640.19375 282.799219 \r\nL 640.19375 316.774219 \r\nL 598.34375 316.774219 \r\nL 598.34375 282.799219 \r\n\" style=\"fill:#981b5b;\"/>\r\n    <path clip-path=\"url(#p7e007545ef)\" d=\"M 640.19375 282.799219 \r\nL 682.04375 282.799219 \r\nL 682.04375 316.774219 \r\nL 640.19375 316.774219 \r\nL 640.19375 282.799219 \r\n\" style=\"fill:#37193f;\"/>\r\n    <path clip-path=\"url(#p7e007545ef)\" d=\"M 682.04375 282.799219 \r\nL 723.89375 282.799219 \r\nL 723.89375 316.774219 \r\nL 682.04375 316.774219 \r\nL 682.04375 282.799219 \r\n\" style=\"fill:#581e4f;\"/>\r\n    <path clip-path=\"url(#p7e007545ef)\" d=\"M 723.89375 282.799219 \r\nL 765.74375 282.799219 \r\nL 765.74375 316.774219 \r\nL 723.89375 316.774219 \r\nL 723.89375 282.799219 \r\n\" style=\"fill:#d3214b;\"/>\r\n    <path clip-path=\"url(#p7e007545ef)\" d=\"M 96.14375 316.774219 \r\nL 137.99375 316.774219 \r\nL 137.99375 350.749219 \r\nL 96.14375 350.749219 \r\nL 96.14375 316.774219 \r\n\" style=\"fill:#8c1d5b;\"/>\r\n    <path clip-path=\"url(#p7e007545ef)\" d=\"M 137.99375 316.774219 \r\nL 179.84375 316.774219 \r\nL 179.84375 350.749219 \r\nL 137.99375 350.749219 \r\nL 137.99375 316.774219 \r\n\" style=\"fill:#1d112c;\"/>\r\n    <path clip-path=\"url(#p7e007545ef)\" d=\"M 179.84375 316.774219 \r\nL 221.69375 316.774219 \r\nL 221.69375 350.749219 \r\nL 179.84375 350.749219 \r\nL 179.84375 316.774219 \r\n\" style=\"fill:#3f1b43;\"/>\r\n    <path clip-path=\"url(#p7e007545ef)\" d=\"M 221.69375 316.774219 \r\nL 263.54375 316.774219 \r\nL 263.54375 350.749219 \r\nL 221.69375 350.749219 \r\nL 221.69375 316.774219 \r\n\" style=\"fill:#601f52;\"/>\r\n    <path clip-path=\"url(#p7e007545ef)\" d=\"M 263.54375 316.774219 \r\nL 305.39375 316.774219 \r\nL 305.39375 350.749219 \r\nL 263.54375 350.749219 \r\nL 263.54375 316.774219 \r\n\" style=\"fill:#05061b;\"/>\r\n    <path clip-path=\"url(#p7e007545ef)\" d=\"M 305.39375 316.774219 \r\nL 347.24375 316.774219 \r\nL 347.24375 350.749219 \r\nL 305.39375 350.749219 \r\nL 305.39375 316.774219 \r\n\" style=\"fill:#611f53;\"/>\r\n    <path clip-path=\"url(#p7e007545ef)\" d=\"M 347.24375 316.774219 \r\nL 389.09375 316.774219 \r\nL 389.09375 350.749219 \r\nL 347.24375 350.749219 \r\nL 347.24375 316.774219 \r\n\" style=\"fill:#921c5b;\"/>\r\n    <path clip-path=\"url(#p7e007545ef)\" d=\"M 389.09375 316.774219 \r\nL 430.94375 316.774219 \r\nL 430.94375 350.749219 \r\nL 389.09375 350.749219 \r\nL 389.09375 316.774219 \r\n\" style=\"fill:#f69c73;\"/>\r\n    <path clip-path=\"url(#p7e007545ef)\" d=\"M 430.94375 316.774219 \r\nL 472.79375 316.774219 \r\nL 472.79375 350.749219 \r\nL 430.94375 350.749219 \r\nL 430.94375 316.774219 \r\n\" style=\"fill:#ce1d4e;\"/>\r\n    <path clip-path=\"url(#p7e007545ef)\" d=\"M 472.79375 316.774219 \r\nL 514.64375 316.774219 \r\nL 514.64375 350.749219 \r\nL 472.79375 350.749219 \r\nL 472.79375 316.774219 \r\n\" style=\"fill:#faebdd;\"/>\r\n    <path clip-path=\"url(#p7e007545ef)\" d=\"M 514.64375 316.774219 \r\nL 556.49375 316.774219 \r\nL 556.49375 350.749219 \r\nL 514.64375 350.749219 \r\nL 514.64375 316.774219 \r\n\" style=\"fill:#6b1f56;\"/>\r\n    <path clip-path=\"url(#p7e007545ef)\" d=\"M 556.49375 316.774219 \r\nL 598.34375 316.774219 \r\nL 598.34375 350.749219 \r\nL 556.49375 350.749219 \r\nL 556.49375 316.774219 \r\n\" style=\"fill:#821e5a;\"/>\r\n    <path clip-path=\"url(#p7e007545ef)\" d=\"M 598.34375 316.774219 \r\nL 640.19375 316.774219 \r\nL 640.19375 350.749219 \r\nL 598.34375 350.749219 \r\nL 598.34375 316.774219 \r\n\" style=\"fill:#751f58;\"/>\r\n    <path clip-path=\"url(#p7e007545ef)\" d=\"M 640.19375 316.774219 \r\nL 682.04375 316.774219 \r\nL 682.04375 350.749219 \r\nL 640.19375 350.749219 \r\nL 640.19375 316.774219 \r\n\" style=\"fill:#2d1738;\"/>\r\n    <path clip-path=\"url(#p7e007545ef)\" d=\"M 682.04375 316.774219 \r\nL 723.89375 316.774219 \r\nL 723.89375 350.749219 \r\nL 682.04375 350.749219 \r\nL 682.04375 316.774219 \r\n\" style=\"fill:#4e1d4b;\"/>\r\n    <path clip-path=\"url(#p7e007545ef)\" d=\"M 723.89375 316.774219 \r\nL 765.74375 316.774219 \r\nL 765.74375 350.749219 \r\nL 723.89375 350.749219 \r\nL 723.89375 316.774219 \r\n\" style=\"fill:#c11754;\"/>\r\n    <path clip-path=\"url(#p7e007545ef)\" d=\"M 96.14375 350.749219 \r\nL 137.99375 350.749219 \r\nL 137.99375 384.724219 \r\nL 96.14375 384.724219 \r\nL 96.14375 350.749219 \r\n\" style=\"fill:#931c5b;\"/>\r\n    <path clip-path=\"url(#p7e007545ef)\" d=\"M 137.99375 350.749219 \r\nL 179.84375 350.749219 \r\nL 179.84375 384.724219 \r\nL 137.99375 384.724219 \r\nL 137.99375 350.749219 \r\n\" style=\"fill:#34193d;\"/>\r\n    <path clip-path=\"url(#p7e007545ef)\" d=\"M 179.84375 350.749219 \r\nL 221.69375 350.749219 \r\nL 221.69375 384.724219 \r\nL 179.84375 384.724219 \r\nL 179.84375 350.749219 \r\n\" style=\"fill:#251433;\"/>\r\n    <path clip-path=\"url(#p7e007545ef)\" d=\"M 221.69375 350.749219 \r\nL 263.54375 350.749219 \r\nL 263.54375 384.724219 \r\nL 221.69375 384.724219 \r\nL 221.69375 350.749219 \r\n\" style=\"fill:#5c1e51;\"/>\r\n    <path clip-path=\"url(#p7e007545ef)\" d=\"M 263.54375 350.749219 \r\nL 305.39375 350.749219 \r\nL 305.39375 384.724219 \r\nL 263.54375 384.724219 \r\nL 263.54375 350.749219 \r\n\" style=\"fill:#681f55;\"/>\r\n    <path clip-path=\"url(#p7e007545ef)\" d=\"M 305.39375 350.749219 \r\nL 347.24375 350.749219 \r\nL 347.24375 384.724219 \r\nL 305.39375 384.724219 \r\nL 305.39375 350.749219 \r\n\" style=\"fill:#781f59;\"/>\r\n    <path clip-path=\"url(#p7e007545ef)\" d=\"M 347.24375 350.749219 \r\nL 389.09375 350.749219 \r\nL 389.09375 384.724219 \r\nL 347.24375 384.724219 \r\nL 347.24375 350.749219 \r\n\" style=\"fill:#981b5b;\"/>\r\n    <path clip-path=\"url(#p7e007545ef)\" d=\"M 389.09375 350.749219 \r\nL 430.94375 350.749219 \r\nL 430.94375 384.724219 \r\nL 389.09375 384.724219 \r\nL 389.09375 350.749219 \r\n\" style=\"fill:#af1759;\"/>\r\n    <path clip-path=\"url(#p7e007545ef)\" d=\"M 430.94375 350.749219 \r\nL 472.79375 350.749219 \r\nL 472.79375 384.724219 \r\nL 430.94375 384.724219 \r\nL 430.94375 350.749219 \r\n\" style=\"fill:#4b1d4a;\"/>\r\n    <path clip-path=\"url(#p7e007545ef)\" d=\"M 472.79375 350.749219 \r\nL 514.64375 350.749219 \r\nL 514.64375 384.724219 \r\nL 472.79375 384.724219 \r\nL 472.79375 350.749219 \r\n\" style=\"fill:#6b1f56;\"/>\r\n    <path clip-path=\"url(#p7e007545ef)\" d=\"M 514.64375 350.749219 \r\nL 556.49375 350.749219 \r\nL 556.49375 384.724219 \r\nL 514.64375 384.724219 \r\nL 514.64375 350.749219 \r\n\" style=\"fill:#faebdd;\"/>\r\n    <path clip-path=\"url(#p7e007545ef)\" d=\"M 556.49375 350.749219 \r\nL 598.34375 350.749219 \r\nL 598.34375 384.724219 \r\nL 556.49375 384.724219 \r\nL 556.49375 350.749219 \r\n\" style=\"fill:#731f58;\"/>\r\n    <path clip-path=\"url(#p7e007545ef)\" d=\"M 598.34375 350.749219 \r\nL 640.19375 350.749219 \r\nL 640.19375 384.724219 \r\nL 598.34375 384.724219 \r\nL 598.34375 350.749219 \r\n\" style=\"fill:#661f54;\"/>\r\n    <path clip-path=\"url(#p7e007545ef)\" d=\"M 640.19375 350.749219 \r\nL 682.04375 350.749219 \r\nL 682.04375 384.724219 \r\nL 640.19375 384.724219 \r\nL 640.19375 350.749219 \r\n\" style=\"fill:#4b1d4a;\"/>\r\n    <path clip-path=\"url(#p7e007545ef)\" d=\"M 682.04375 350.749219 \r\nL 723.89375 350.749219 \r\nL 723.89375 384.724219 \r\nL 682.04375 384.724219 \r\nL 682.04375 350.749219 \r\n\" style=\"fill:#30173a;\"/>\r\n    <path clip-path=\"url(#p7e007545ef)\" d=\"M 723.89375 350.749219 \r\nL 765.74375 350.749219 \r\nL 765.74375 384.724219 \r\nL 723.89375 384.724219 \r\nL 723.89375 350.749219 \r\n\" style=\"fill:#b71657;\"/>\r\n    <path clip-path=\"url(#p7e007545ef)\" d=\"M 96.14375 384.724219 \r\nL 137.99375 384.724219 \r\nL 137.99375 418.699219 \r\nL 96.14375 418.699219 \r\nL 96.14375 384.724219 \r\n\" style=\"fill:#e43841;\"/>\r\n    <path clip-path=\"url(#p7e007545ef)\" d=\"M 137.99375 384.724219 \r\nL 179.84375 384.724219 \r\nL 179.84375 418.699219 \r\nL 137.99375 418.699219 \r\nL 137.99375 384.724219 \r\n\" style=\"fill:#d11f4c;\"/>\r\n    <path clip-path=\"url(#p7e007545ef)\" d=\"M 179.84375 384.724219 \r\nL 221.69375 384.724219 \r\nL 221.69375 418.699219 \r\nL 179.84375 418.699219 \r\nL 179.84375 384.724219 \r\n\" style=\"fill:#a11a5b;\"/>\r\n    <path clip-path=\"url(#p7e007545ef)\" d=\"M 221.69375 384.724219 \r\nL 263.54375 384.724219 \r\nL 263.54375 418.699219 \r\nL 221.69375 418.699219 \r\nL 221.69375 384.724219 \r\n\" style=\"fill:#821e5a;\"/>\r\n    <path clip-path=\"url(#p7e007545ef)\" d=\"M 263.54375 384.724219 \r\nL 305.39375 384.724219 \r\nL 305.39375 418.699219 \r\nL 263.54375 418.699219 \r\nL 263.54375 384.724219 \r\n\" style=\"fill:#561e4f;\"/>\r\n    <path clip-path=\"url(#p7e007545ef)\" d=\"M 305.39375 384.724219 \r\nL 347.24375 384.724219 \r\nL 347.24375 418.699219 \r\nL 305.39375 418.699219 \r\nL 305.39375 384.724219 \r\n\" style=\"fill:#a8185a;\"/>\r\n    <path clip-path=\"url(#p7e007545ef)\" d=\"M 347.24375 384.724219 \r\nL 389.09375 384.724219 \r\nL 389.09375 418.699219 \r\nL 347.24375 418.699219 \r\nL 347.24375 384.724219 \r\n\" style=\"fill:#a8185a;\"/>\r\n    <path clip-path=\"url(#p7e007545ef)\" d=\"M 389.09375 384.724219 \r\nL 430.94375 384.724219 \r\nL 430.94375 418.699219 \r\nL 389.09375 418.699219 \r\nL 389.09375 384.724219 \r\n\" style=\"fill:#bd1655;\"/>\r\n    <path clip-path=\"url(#p7e007545ef)\" d=\"M 430.94375 384.724219 \r\nL 472.79375 384.724219 \r\nL 472.79375 418.699219 \r\nL 430.94375 418.699219 \r\nL 430.94375 384.724219 \r\n\" style=\"fill:#b91657;\"/>\r\n    <path clip-path=\"url(#p7e007545ef)\" d=\"M 472.79375 384.724219 \r\nL 514.64375 384.724219 \r\nL 514.64375 418.699219 \r\nL 472.79375 418.699219 \r\nL 472.79375 384.724219 \r\n\" style=\"fill:#821e5a;\"/>\r\n    <path clip-path=\"url(#p7e007545ef)\" d=\"M 514.64375 384.724219 \r\nL 556.49375 384.724219 \r\nL 556.49375 418.699219 \r\nL 514.64375 418.699219 \r\nL 514.64375 384.724219 \r\n\" style=\"fill:#731f58;\"/>\r\n    <path clip-path=\"url(#p7e007545ef)\" d=\"M 556.49375 384.724219 \r\nL 598.34375 384.724219 \r\nL 598.34375 418.699219 \r\nL 556.49375 418.699219 \r\nL 556.49375 384.724219 \r\n\" style=\"fill:#faebdd;\"/>\r\n    <path clip-path=\"url(#p7e007545ef)\" d=\"M 598.34375 384.724219 \r\nL 640.19375 384.724219 \r\nL 640.19375 418.699219 \r\nL 598.34375 418.699219 \r\nL 598.34375 384.724219 \r\n\" style=\"fill:#f6bf9d;\"/>\r\n    <path clip-path=\"url(#p7e007545ef)\" d=\"M 640.19375 384.724219 \r\nL 682.04375 384.724219 \r\nL 682.04375 418.699219 \r\nL 640.19375 418.699219 \r\nL 640.19375 384.724219 \r\n\" style=\"fill:#501d4c;\"/>\r\n    <path clip-path=\"url(#p7e007545ef)\" d=\"M 682.04375 384.724219 \r\nL 723.89375 384.724219 \r\nL 723.89375 418.699219 \r\nL 682.04375 418.699219 \r\nL 682.04375 384.724219 \r\n\" style=\"fill:#401b44;\"/>\r\n    <path clip-path=\"url(#p7e007545ef)\" d=\"M 723.89375 384.724219 \r\nL 765.74375 384.724219 \r\nL 765.74375 418.699219 \r\nL 723.89375 418.699219 \r\nL 723.89375 384.724219 \r\n\" style=\"fill:#ed503e;\"/>\r\n    <path clip-path=\"url(#p7e007545ef)\" d=\"M 96.14375 418.699219 \r\nL 137.99375 418.699219 \r\nL 137.99375 452.674219 \r\nL 96.14375 452.674219 \r\nL 96.14375 418.699219 \r\n\" style=\"fill:#d92847;\"/>\r\n    <path clip-path=\"url(#p7e007545ef)\" d=\"M 137.99375 418.699219 \r\nL 179.84375 418.699219 \r\nL 179.84375 452.674219 \r\nL 137.99375 452.674219 \r\nL 137.99375 418.699219 \r\n\" style=\"fill:#ba1656;\"/>\r\n    <path clip-path=\"url(#p7e007545ef)\" d=\"M 179.84375 418.699219 \r\nL 221.69375 418.699219 \r\nL 221.69375 452.674219 \r\nL 179.84375 452.674219 \r\nL 179.84375 418.699219 \r\n\" style=\"fill:#8b1d5b;\"/>\r\n    <path clip-path=\"url(#p7e007545ef)\" d=\"M 221.69375 418.699219 \r\nL 263.54375 418.699219 \r\nL 263.54375 452.674219 \r\nL 221.69375 452.674219 \r\nL 221.69375 418.699219 \r\n\" style=\"fill:#891e5b;\"/>\r\n    <path clip-path=\"url(#p7e007545ef)\" d=\"M 263.54375 418.699219 \r\nL 305.39375 418.699219 \r\nL 305.39375 452.674219 \r\nL 263.54375 452.674219 \r\nL 263.54375 418.699219 \r\n\" style=\"fill:#6e1f57;\"/>\r\n    <path clip-path=\"url(#p7e007545ef)\" d=\"M 305.39375 418.699219 \r\nL 347.24375 418.699219 \r\nL 347.24375 452.674219 \r\nL 305.39375 452.674219 \r\nL 305.39375 418.699219 \r\n\" style=\"fill:#bc1656;\"/>\r\n    <path clip-path=\"url(#p7e007545ef)\" d=\"M 347.24375 418.699219 \r\nL 389.09375 418.699219 \r\nL 389.09375 452.674219 \r\nL 347.24375 452.674219 \r\nL 347.24375 418.699219 \r\n\" style=\"fill:#bf1654;\"/>\r\n    <path clip-path=\"url(#p7e007545ef)\" d=\"M 389.09375 418.699219 \r\nL 430.94375 418.699219 \r\nL 430.94375 452.674219 \r\nL 389.09375 452.674219 \r\nL 389.09375 418.699219 \r\n\" style=\"fill:#bc1656;\"/>\r\n    <path clip-path=\"url(#p7e007545ef)\" d=\"M 430.94375 418.699219 \r\nL 472.79375 418.699219 \r\nL 472.79375 452.674219 \r\nL 430.94375 452.674219 \r\nL 430.94375 418.699219 \r\n\" style=\"fill:#981b5b;\"/>\r\n    <path clip-path=\"url(#p7e007545ef)\" d=\"M 472.79375 418.699219 \r\nL 514.64375 418.699219 \r\nL 514.64375 452.674219 \r\nL 472.79375 452.674219 \r\nL 472.79375 418.699219 \r\n\" style=\"fill:#751f58;\"/>\r\n    <path clip-path=\"url(#p7e007545ef)\" d=\"M 514.64375 418.699219 \r\nL 556.49375 418.699219 \r\nL 556.49375 452.674219 \r\nL 514.64375 452.674219 \r\nL 514.64375 418.699219 \r\n\" style=\"fill:#661f54;\"/>\r\n    <path clip-path=\"url(#p7e007545ef)\" d=\"M 556.49375 418.699219 \r\nL 598.34375 418.699219 \r\nL 598.34375 452.674219 \r\nL 556.49375 452.674219 \r\nL 556.49375 418.699219 \r\n\" style=\"fill:#f6bf9d;\"/>\r\n    <path clip-path=\"url(#p7e007545ef)\" d=\"M 598.34375 418.699219 \r\nL 640.19375 418.699219 \r\nL 640.19375 452.674219 \r\nL 598.34375 452.674219 \r\nL 598.34375 418.699219 \r\n\" style=\"fill:#faebdd;\"/>\r\n    <path clip-path=\"url(#p7e007545ef)\" d=\"M 640.19375 418.699219 \r\nL 682.04375 418.699219 \r\nL 682.04375 452.674219 \r\nL 640.19375 452.674219 \r\nL 640.19375 418.699219 \r\n\" style=\"fill:#4e1d4b;\"/>\r\n    <path clip-path=\"url(#p7e007545ef)\" d=\"M 682.04375 418.699219 \r\nL 723.89375 418.699219 \r\nL 723.89375 452.674219 \r\nL 682.04375 452.674219 \r\nL 682.04375 418.699219 \r\n\" style=\"fill:#4c1d4b;\"/>\r\n    <path clip-path=\"url(#p7e007545ef)\" d=\"M 723.89375 418.699219 \r\nL 765.74375 418.699219 \r\nL 765.74375 452.674219 \r\nL 723.89375 452.674219 \r\nL 723.89375 418.699219 \r\n\" style=\"fill:#ec4c3e;\"/>\r\n    <path clip-path=\"url(#p7e007545ef)\" d=\"M 96.14375 452.674219 \r\nL 137.99375 452.674219 \r\nL 137.99375 486.649219 \r\nL 96.14375 486.649219 \r\nL 96.14375 452.674219 \r\n\" style=\"fill:#561e4f;\"/>\r\n    <path clip-path=\"url(#p7e007545ef)\" d=\"M 137.99375 452.674219 \r\nL 179.84375 452.674219 \r\nL 179.84375 486.649219 \r\nL 137.99375 486.649219 \r\nL 137.99375 452.674219 \r\n\" style=\"fill:#4b1d4a;\"/>\r\n    <path clip-path=\"url(#p7e007545ef)\" d=\"M 179.84375 452.674219 \r\nL 221.69375 452.674219 \r\nL 221.69375 486.649219 \r\nL 179.84375 486.649219 \r\nL 179.84375 452.674219 \r\n\" style=\"fill:#461c48;\"/>\r\n    <path clip-path=\"url(#p7e007545ef)\" d=\"M 221.69375 452.674219 \r\nL 263.54375 452.674219 \r\nL 263.54375 486.649219 \r\nL 221.69375 486.649219 \r\nL 221.69375 452.674219 \r\n\" style=\"fill:#31183b;\"/>\r\n    <path clip-path=\"url(#p7e007545ef)\" d=\"M 263.54375 452.674219 \r\nL 305.39375 452.674219 \r\nL 305.39375 486.649219 \r\nL 263.54375 486.649219 \r\nL 263.54375 452.674219 \r\n\" style=\"fill:#491d49;\"/>\r\n    <path clip-path=\"url(#p7e007545ef)\" d=\"M 305.39375 452.674219 \r\nL 347.24375 452.674219 \r\nL 347.24375 486.649219 \r\nL 305.39375 486.649219 \r\nL 305.39375 452.674219 \r\n\" style=\"fill:#4b1d4a;\"/>\r\n    <path clip-path=\"url(#p7e007545ef)\" d=\"M 347.24375 452.674219 \r\nL 389.09375 452.674219 \r\nL 389.09375 486.649219 \r\nL 347.24375 486.649219 \r\nL 347.24375 452.674219 \r\n\" style=\"fill:#4b1d4a;\"/>\r\n    <path clip-path=\"url(#p7e007545ef)\" d=\"M 389.09375 452.674219 \r\nL 430.94375 452.674219 \r\nL 430.94375 486.649219 \r\nL 389.09375 486.649219 \r\nL 389.09375 452.674219 \r\n\" style=\"fill:#541e4e;\"/>\r\n    <path clip-path=\"url(#p7e007545ef)\" d=\"M 430.94375 452.674219 \r\nL 472.79375 452.674219 \r\nL 472.79375 486.649219 \r\nL 430.94375 486.649219 \r\nL 430.94375 452.674219 \r\n\" style=\"fill:#37193f;\"/>\r\n    <path clip-path=\"url(#p7e007545ef)\" d=\"M 472.79375 452.674219 \r\nL 514.64375 452.674219 \r\nL 514.64375 486.649219 \r\nL 472.79375 486.649219 \r\nL 472.79375 452.674219 \r\n\" style=\"fill:#2d1738;\"/>\r\n    <path clip-path=\"url(#p7e007545ef)\" d=\"M 514.64375 452.674219 \r\nL 556.49375 452.674219 \r\nL 556.49375 486.649219 \r\nL 514.64375 486.649219 \r\nL 514.64375 452.674219 \r\n\" style=\"fill:#4b1d4a;\"/>\r\n    <path clip-path=\"url(#p7e007545ef)\" d=\"M 556.49375 452.674219 \r\nL 598.34375 452.674219 \r\nL 598.34375 486.649219 \r\nL 556.49375 486.649219 \r\nL 556.49375 452.674219 \r\n\" style=\"fill:#501d4c;\"/>\r\n    <path clip-path=\"url(#p7e007545ef)\" d=\"M 598.34375 452.674219 \r\nL 640.19375 452.674219 \r\nL 640.19375 486.649219 \r\nL 598.34375 486.649219 \r\nL 598.34375 452.674219 \r\n\" style=\"fill:#4e1d4b;\"/>\r\n    <path clip-path=\"url(#p7e007545ef)\" d=\"M 640.19375 452.674219 \r\nL 682.04375 452.674219 \r\nL 682.04375 486.649219 \r\nL 640.19375 486.649219 \r\nL 640.19375 452.674219 \r\n\" style=\"fill:#faebdd;\"/>\r\n    <path clip-path=\"url(#p7e007545ef)\" d=\"M 682.04375 452.674219 \r\nL 723.89375 452.674219 \r\nL 723.89375 486.649219 \r\nL 682.04375 486.649219 \r\nL 682.04375 452.674219 \r\n\" style=\"fill:#03051a;\"/>\r\n    <path clip-path=\"url(#p7e007545ef)\" d=\"M 723.89375 452.674219 \r\nL 765.74375 452.674219 \r\nL 765.74375 486.649219 \r\nL 723.89375 486.649219 \r\nL 723.89375 452.674219 \r\n\" style=\"fill:#751f58;\"/>\r\n    <path clip-path=\"url(#p7e007545ef)\" d=\"M 96.14375 486.649219 \r\nL 137.99375 486.649219 \r\nL 137.99375 520.624219 \r\nL 96.14375 520.624219 \r\nL 96.14375 486.649219 \r\n\" style=\"fill:#691f55;\"/>\r\n    <path clip-path=\"url(#p7e007545ef)\" d=\"M 137.99375 486.649219 \r\nL 179.84375 486.649219 \r\nL 179.84375 520.624219 \r\nL 137.99375 520.624219 \r\nL 137.99375 486.649219 \r\n\" style=\"fill:#3f1b43;\"/>\r\n    <path clip-path=\"url(#p7e007545ef)\" d=\"M 179.84375 486.649219 \r\nL 221.69375 486.649219 \r\nL 221.69375 520.624219 \r\nL 179.84375 520.624219 \r\nL 179.84375 486.649219 \r\n\" style=\"fill:#501d4c;\"/>\r\n    <path clip-path=\"url(#p7e007545ef)\" d=\"M 221.69375 486.649219 \r\nL 263.54375 486.649219 \r\nL 263.54375 520.624219 \r\nL 221.69375 520.624219 \r\nL 221.69375 486.649219 \r\n\" style=\"fill:#271534;\"/>\r\n    <path clip-path=\"url(#p7e007545ef)\" d=\"M 263.54375 486.649219 \r\nL 305.39375 486.649219 \r\nL 305.39375 520.624219 \r\nL 263.54375 520.624219 \r\nL 263.54375 486.649219 \r\n\" style=\"fill:#211330;\"/>\r\n    <path clip-path=\"url(#p7e007545ef)\" d=\"M 305.39375 486.649219 \r\nL 347.24375 486.649219 \r\nL 347.24375 520.624219 \r\nL 305.39375 520.624219 \r\nL 305.39375 486.649219 \r\n\" style=\"fill:#531e4d;\"/>\r\n    <path clip-path=\"url(#p7e007545ef)\" d=\"M 347.24375 486.649219 \r\nL 389.09375 486.649219 \r\nL 389.09375 520.624219 \r\nL 347.24375 520.624219 \r\nL 347.24375 486.649219 \r\n\" style=\"fill:#4e1d4b;\"/>\r\n    <path clip-path=\"url(#p7e007545ef)\" d=\"M 389.09375 486.649219 \r\nL 430.94375 486.649219 \r\nL 430.94375 520.624219 \r\nL 389.09375 520.624219 \r\nL 389.09375 486.649219 \r\n\" style=\"fill:#7b1f59;\"/>\r\n    <path clip-path=\"url(#p7e007545ef)\" d=\"M 430.94375 486.649219 \r\nL 472.79375 486.649219 \r\nL 472.79375 520.624219 \r\nL 430.94375 520.624219 \r\nL 430.94375 486.649219 \r\n\" style=\"fill:#581e4f;\"/>\r\n    <path clip-path=\"url(#p7e007545ef)\" d=\"M 472.79375 486.649219 \r\nL 514.64375 486.649219 \r\nL 514.64375 520.624219 \r\nL 472.79375 520.624219 \r\nL 472.79375 486.649219 \r\n\" style=\"fill:#4e1d4b;\"/>\r\n    <path clip-path=\"url(#p7e007545ef)\" d=\"M 514.64375 486.649219 \r\nL 556.49375 486.649219 \r\nL 556.49375 520.624219 \r\nL 514.64375 520.624219 \r\nL 514.64375 486.649219 \r\n\" style=\"fill:#30173a;\"/>\r\n    <path clip-path=\"url(#p7e007545ef)\" d=\"M 556.49375 486.649219 \r\nL 598.34375 486.649219 \r\nL 598.34375 520.624219 \r\nL 556.49375 520.624219 \r\nL 556.49375 486.649219 \r\n\" style=\"fill:#401b44;\"/>\r\n    <path clip-path=\"url(#p7e007545ef)\" d=\"M 598.34375 486.649219 \r\nL 640.19375 486.649219 \r\nL 640.19375 520.624219 \r\nL 598.34375 520.624219 \r\nL 598.34375 486.649219 \r\n\" style=\"fill:#4c1d4b;\"/>\r\n    <path clip-path=\"url(#p7e007545ef)\" d=\"M 640.19375 486.649219 \r\nL 682.04375 486.649219 \r\nL 682.04375 520.624219 \r\nL 640.19375 520.624219 \r\nL 640.19375 486.649219 \r\n\" style=\"fill:#03051a;\"/>\r\n    <path clip-path=\"url(#p7e007545ef)\" d=\"M 682.04375 486.649219 \r\nL 723.89375 486.649219 \r\nL 723.89375 520.624219 \r\nL 682.04375 520.624219 \r\nL 682.04375 486.649219 \r\n\" style=\"fill:#faebdd;\"/>\r\n    <path clip-path=\"url(#p7e007545ef)\" d=\"M 723.89375 486.649219 \r\nL 765.74375 486.649219 \r\nL 765.74375 520.624219 \r\nL 723.89375 520.624219 \r\nL 723.89375 486.649219 \r\n\" style=\"fill:#6e1f57;\"/>\r\n    <path clip-path=\"url(#p7e007545ef)\" d=\"M 96.14375 520.624219 \r\nL 137.99375 520.624219 \r\nL 137.99375 554.599219 \r\nL 96.14375 554.599219 \r\nL 96.14375 520.624219 \r\n\" style=\"fill:#f59970;\"/>\r\n    <path clip-path=\"url(#p7e007545ef)\" d=\"M 137.99375 520.624219 \r\nL 179.84375 520.624219 \r\nL 179.84375 554.599219 \r\nL 137.99375 554.599219 \r\nL 137.99375 520.624219 \r\n\" style=\"fill:#d82748;\"/>\r\n    <path clip-path=\"url(#p7e007545ef)\" d=\"M 179.84375 520.624219 \r\nL 221.69375 520.624219 \r\nL 221.69375 554.599219 \r\nL 179.84375 554.599219 \r\nL 179.84375 520.624219 \r\n\" style=\"fill:#cf1e4d;\"/>\r\n    <path clip-path=\"url(#p7e007545ef)\" d=\"M 221.69375 520.624219 \r\nL 263.54375 520.624219 \r\nL 263.54375 554.599219 \r\nL 221.69375 554.599219 \r\nL 221.69375 520.624219 \r\n\" style=\"fill:#c41753;\"/>\r\n    <path clip-path=\"url(#p7e007545ef)\" d=\"M 263.54375 520.624219 \r\nL 305.39375 520.624219 \r\nL 305.39375 554.599219 \r\nL 263.54375 554.599219 \r\nL 263.54375 520.624219 \r\n\" style=\"fill:#a4195b;\"/>\r\n    <path clip-path=\"url(#p7e007545ef)\" d=\"M 305.39375 520.624219 \r\nL 347.24375 520.624219 \r\nL 347.24375 554.599219 \r\nL 305.39375 554.599219 \r\nL 305.39375 520.624219 \r\n\" style=\"fill:#eb483e;\"/>\r\n    <path clip-path=\"url(#p7e007545ef)\" d=\"M 347.24375 520.624219 \r\nL 389.09375 520.624219 \r\nL 389.09375 554.599219 \r\nL 347.24375 554.599219 \r\nL 347.24375 520.624219 \r\n\" style=\"fill:#e9423e;\"/>\r\n    <path clip-path=\"url(#p7e007545ef)\" d=\"M 389.09375 520.624219 \r\nL 430.94375 520.624219 \r\nL 430.94375 554.599219 \r\nL 389.09375 554.599219 \r\nL 389.09375 520.624219 \r\n\" style=\"fill:#f26d4b;\"/>\r\n    <path clip-path=\"url(#p7e007545ef)\" d=\"M 430.94375 520.624219 \r\nL 472.79375 520.624219 \r\nL 472.79375 554.599219 \r\nL 430.94375 554.599219 \r\nL 430.94375 520.624219 \r\n\" style=\"fill:#d3214b;\"/>\r\n    <path clip-path=\"url(#p7e007545ef)\" d=\"M 472.79375 520.624219 \r\nL 514.64375 520.624219 \r\nL 514.64375 554.599219 \r\nL 472.79375 554.599219 \r\nL 472.79375 520.624219 \r\n\" style=\"fill:#c11754;\"/>\r\n    <path clip-path=\"url(#p7e007545ef)\" d=\"M 514.64375 520.624219 \r\nL 556.49375 520.624219 \r\nL 556.49375 554.599219 \r\nL 514.64375 554.599219 \r\nL 514.64375 520.624219 \r\n\" style=\"fill:#b71657;\"/>\r\n    <path clip-path=\"url(#p7e007545ef)\" d=\"M 556.49375 520.624219 \r\nL 598.34375 520.624219 \r\nL 598.34375 554.599219 \r\nL 556.49375 554.599219 \r\nL 556.49375 520.624219 \r\n\" style=\"fill:#ed503e;\"/>\r\n    <path clip-path=\"url(#p7e007545ef)\" d=\"M 598.34375 520.624219 \r\nL 640.19375 520.624219 \r\nL 640.19375 554.599219 \r\nL 598.34375 554.599219 \r\nL 598.34375 520.624219 \r\n\" style=\"fill:#ec4c3e;\"/>\r\n    <path clip-path=\"url(#p7e007545ef)\" d=\"M 640.19375 520.624219 \r\nL 682.04375 520.624219 \r\nL 682.04375 554.599219 \r\nL 640.19375 554.599219 \r\nL 640.19375 520.624219 \r\n\" style=\"fill:#751f58;\"/>\r\n    <path clip-path=\"url(#p7e007545ef)\" d=\"M 682.04375 520.624219 \r\nL 723.89375 520.624219 \r\nL 723.89375 554.599219 \r\nL 682.04375 554.599219 \r\nL 682.04375 520.624219 \r\n\" style=\"fill:#6e1f57;\"/>\r\n    <path clip-path=\"url(#p7e007545ef)\" d=\"M 723.89375 520.624219 \r\nL 765.74375 520.624219 \r\nL 765.74375 554.599219 \r\nL 723.89375 554.599219 \r\nL 723.89375 520.624219 \r\n\" style=\"fill:#faebdd;\"/>\r\n   </g>\r\n   <g id=\"matplotlib.axis_1\">\r\n    <g id=\"xtick_1\">\r\n     <g id=\"line2d_1\">\r\n      <defs>\r\n       <path d=\"M 0 0 \r\nL 0 3.5 \r\n\" id=\"m025b79b430\" style=\"stroke:#000000;stroke-width:0.8;\"/>\r\n      </defs>\r\n      <g>\r\n       <use style=\"stroke:#000000;stroke-width:0.8;\" x=\"117.06875\" xlink:href=\"#m025b79b430\" y=\"554.599219\"/>\r\n      </g>\r\n     </g>\r\n     <g id=\"text_1\">\r\n      <!-- Overall Qual -->\r\n      <defs>\r\n       <path d=\"M 39.40625 66.21875 \r\nQ 28.65625 66.21875 22.328125 58.203125 \r\nQ 16.015625 50.203125 16.015625 36.375 \r\nQ 16.015625 22.609375 22.328125 14.59375 \r\nQ 28.65625 6.59375 39.40625 6.59375 \r\nQ 50.140625 6.59375 56.421875 14.59375 \r\nQ 62.703125 22.609375 62.703125 36.375 \r\nQ 62.703125 50.203125 56.421875 58.203125 \r\nQ 50.140625 66.21875 39.40625 66.21875 \r\nz\r\nM 39.40625 74.21875 \r\nQ 54.734375 74.21875 63.90625 63.9375 \r\nQ 73.09375 53.65625 73.09375 36.375 \r\nQ 73.09375 19.140625 63.90625 8.859375 \r\nQ 54.734375 -1.421875 39.40625 -1.421875 \r\nQ 24.03125 -1.421875 14.8125 8.828125 \r\nQ 5.609375 19.09375 5.609375 36.375 \r\nQ 5.609375 53.65625 14.8125 63.9375 \r\nQ 24.03125 74.21875 39.40625 74.21875 \r\nz\r\n\" id=\"DejaVuSans-79\"/>\r\n       <path d=\"M 2.984375 54.6875 \r\nL 12.5 54.6875 \r\nL 29.59375 8.796875 \r\nL 46.6875 54.6875 \r\nL 56.203125 54.6875 \r\nL 35.6875 0 \r\nL 23.484375 0 \r\nz\r\n\" id=\"DejaVuSans-118\"/>\r\n       <path d=\"M 56.203125 29.59375 \r\nL 56.203125 25.203125 \r\nL 14.890625 25.203125 \r\nQ 15.484375 15.921875 20.484375 11.0625 \r\nQ 25.484375 6.203125 34.421875 6.203125 \r\nQ 39.59375 6.203125 44.453125 7.46875 \r\nQ 49.3125 8.734375 54.109375 11.28125 \r\nL 54.109375 2.78125 \r\nQ 49.265625 0.734375 44.1875 -0.34375 \r\nQ 39.109375 -1.421875 33.890625 -1.421875 \r\nQ 20.796875 -1.421875 13.15625 6.1875 \r\nQ 5.515625 13.8125 5.515625 26.8125 \r\nQ 5.515625 40.234375 12.765625 48.109375 \r\nQ 20.015625 56 32.328125 56 \r\nQ 43.359375 56 49.78125 48.890625 \r\nQ 56.203125 41.796875 56.203125 29.59375 \r\nz\r\nM 47.21875 32.234375 \r\nQ 47.125 39.59375 43.09375 43.984375 \r\nQ 39.0625 48.390625 32.421875 48.390625 \r\nQ 24.90625 48.390625 20.390625 44.140625 \r\nQ 15.875 39.890625 15.1875 32.171875 \r\nz\r\n\" id=\"DejaVuSans-101\"/>\r\n       <path d=\"M 41.109375 46.296875 \r\nQ 39.59375 47.171875 37.8125 47.578125 \r\nQ 36.03125 48 33.890625 48 \r\nQ 26.265625 48 22.1875 43.046875 \r\nQ 18.109375 38.09375 18.109375 28.8125 \r\nL 18.109375 0 \r\nL 9.078125 0 \r\nL 9.078125 54.6875 \r\nL 18.109375 54.6875 \r\nL 18.109375 46.1875 \r\nQ 20.953125 51.171875 25.484375 53.578125 \r\nQ 30.03125 56 36.53125 56 \r\nQ 37.453125 56 38.578125 55.875 \r\nQ 39.703125 55.765625 41.0625 55.515625 \r\nz\r\n\" id=\"DejaVuSans-114\"/>\r\n       <path d=\"M 34.28125 27.484375 \r\nQ 23.390625 27.484375 19.1875 25 \r\nQ 14.984375 22.515625 14.984375 16.5 \r\nQ 14.984375 11.71875 18.140625 8.90625 \r\nQ 21.296875 6.109375 26.703125 6.109375 \r\nQ 34.1875 6.109375 38.703125 11.40625 \r\nQ 43.21875 16.703125 43.21875 25.484375 \r\nL 43.21875 27.484375 \r\nz\r\nM 52.203125 31.203125 \r\nL 52.203125 0 \r\nL 43.21875 0 \r\nL 43.21875 8.296875 \r\nQ 40.140625 3.328125 35.546875 0.953125 \r\nQ 30.953125 -1.421875 24.3125 -1.421875 \r\nQ 15.921875 -1.421875 10.953125 3.296875 \r\nQ 6 8.015625 6 15.921875 \r\nQ 6 25.140625 12.171875 29.828125 \r\nQ 18.359375 34.515625 30.609375 34.515625 \r\nL 43.21875 34.515625 \r\nL 43.21875 35.40625 \r\nQ 43.21875 41.609375 39.140625 45 \r\nQ 35.0625 48.390625 27.6875 48.390625 \r\nQ 23 48.390625 18.546875 47.265625 \r\nQ 14.109375 46.140625 10.015625 43.890625 \r\nL 10.015625 52.203125 \r\nQ 14.9375 54.109375 19.578125 55.046875 \r\nQ 24.21875 56 28.609375 56 \r\nQ 40.484375 56 46.34375 49.84375 \r\nQ 52.203125 43.703125 52.203125 31.203125 \r\nz\r\n\" id=\"DejaVuSans-97\"/>\r\n       <path d=\"M 9.421875 75.984375 \r\nL 18.40625 75.984375 \r\nL 18.40625 0 \r\nL 9.421875 0 \r\nz\r\n\" id=\"DejaVuSans-108\"/>\r\n       <path id=\"DejaVuSans-32\"/>\r\n       <path d=\"M 39.40625 66.21875 \r\nQ 28.65625 66.21875 22.328125 58.203125 \r\nQ 16.015625 50.203125 16.015625 36.375 \r\nQ 16.015625 22.609375 22.328125 14.59375 \r\nQ 28.65625 6.59375 39.40625 6.59375 \r\nQ 50.140625 6.59375 56.421875 14.59375 \r\nQ 62.703125 22.609375 62.703125 36.375 \r\nQ 62.703125 50.203125 56.421875 58.203125 \r\nQ 50.140625 66.21875 39.40625 66.21875 \r\nz\r\nM 53.21875 1.3125 \r\nL 66.21875 -12.890625 \r\nL 54.296875 -12.890625 \r\nL 43.5 -1.21875 \r\nQ 41.890625 -1.3125 41.03125 -1.359375 \r\nQ 40.1875 -1.421875 39.40625 -1.421875 \r\nQ 24.03125 -1.421875 14.8125 8.859375 \r\nQ 5.609375 19.140625 5.609375 36.375 \r\nQ 5.609375 53.65625 14.8125 63.9375 \r\nQ 24.03125 74.21875 39.40625 74.21875 \r\nQ 54.734375 74.21875 63.90625 63.9375 \r\nQ 73.09375 53.65625 73.09375 36.375 \r\nQ 73.09375 23.6875 67.984375 14.640625 \r\nQ 62.890625 5.609375 53.21875 1.3125 \r\nz\r\n\" id=\"DejaVuSans-81\"/>\r\n       <path d=\"M 8.5 21.578125 \r\nL 8.5 54.6875 \r\nL 17.484375 54.6875 \r\nL 17.484375 21.921875 \r\nQ 17.484375 14.15625 20.5 10.265625 \r\nQ 23.53125 6.390625 29.59375 6.390625 \r\nQ 36.859375 6.390625 41.078125 11.03125 \r\nQ 45.3125 15.671875 45.3125 23.6875 \r\nL 45.3125 54.6875 \r\nL 54.296875 54.6875 \r\nL 54.296875 0 \r\nL 45.3125 0 \r\nL 45.3125 8.40625 \r\nQ 42.046875 3.421875 37.71875 1 \r\nQ 33.40625 -1.421875 27.6875 -1.421875 \r\nQ 18.265625 -1.421875 13.375 4.4375 \r\nQ 8.5 10.296875 8.5 21.578125 \r\nz\r\nM 31.109375 56 \r\nz\r\n\" id=\"DejaVuSans-117\"/>\r\n      </defs>\r\n      <g transform=\"translate(119.828125 623.632031)rotate(-90)scale(0.1 -0.1)\">\r\n       <use xlink:href=\"#DejaVuSans-79\"/>\r\n       <use x=\"78.710938\" xlink:href=\"#DejaVuSans-118\"/>\r\n       <use x=\"137.890625\" xlink:href=\"#DejaVuSans-101\"/>\r\n       <use x=\"199.414062\" xlink:href=\"#DejaVuSans-114\"/>\r\n       <use x=\"240.527344\" xlink:href=\"#DejaVuSans-97\"/>\r\n       <use x=\"301.806641\" xlink:href=\"#DejaVuSans-108\"/>\r\n       <use x=\"329.589844\" xlink:href=\"#DejaVuSans-108\"/>\r\n       <use x=\"357.373047\" xlink:href=\"#DejaVuSans-32\"/>\r\n       <use x=\"389.160156\" xlink:href=\"#DejaVuSans-81\"/>\r\n       <use x=\"467.871094\" xlink:href=\"#DejaVuSans-117\"/>\r\n       <use x=\"531.25\" xlink:href=\"#DejaVuSans-97\"/>\r\n       <use x=\"592.529297\" xlink:href=\"#DejaVuSans-108\"/>\r\n      </g>\r\n     </g>\r\n    </g>\r\n    <g id=\"xtick_2\">\r\n     <g id=\"line2d_2\">\r\n      <g>\r\n       <use style=\"stroke:#000000;stroke-width:0.8;\" x=\"158.91875\" xlink:href=\"#m025b79b430\" y=\"554.599219\"/>\r\n      </g>\r\n     </g>\r\n     <g id=\"text_2\">\r\n      <!-- Year Built -->\r\n      <defs>\r\n       <path d=\"M -0.203125 72.90625 \r\nL 10.40625 72.90625 \r\nL 30.609375 42.921875 \r\nL 50.6875 72.90625 \r\nL 61.28125 72.90625 \r\nL 35.5 34.71875 \r\nL 35.5 0 \r\nL 25.59375 0 \r\nL 25.59375 34.71875 \r\nz\r\n\" id=\"DejaVuSans-89\"/>\r\n       <path d=\"M 19.671875 34.8125 \r\nL 19.671875 8.109375 \r\nL 35.5 8.109375 \r\nQ 43.453125 8.109375 47.28125 11.40625 \r\nQ 51.125 14.703125 51.125 21.484375 \r\nQ 51.125 28.328125 47.28125 31.5625 \r\nQ 43.453125 34.8125 35.5 34.8125 \r\nz\r\nM 19.671875 64.796875 \r\nL 19.671875 42.828125 \r\nL 34.28125 42.828125 \r\nQ 41.5 42.828125 45.03125 45.53125 \r\nQ 48.578125 48.25 48.578125 53.8125 \r\nQ 48.578125 59.328125 45.03125 62.0625 \r\nQ 41.5 64.796875 34.28125 64.796875 \r\nz\r\nM 9.8125 72.90625 \r\nL 35.015625 72.90625 \r\nQ 46.296875 72.90625 52.390625 68.21875 \r\nQ 58.5 63.53125 58.5 54.890625 \r\nQ 58.5 48.1875 55.375 44.234375 \r\nQ 52.25 40.28125 46.1875 39.3125 \r\nQ 53.46875 37.75 57.5 32.78125 \r\nQ 61.53125 27.828125 61.53125 20.40625 \r\nQ 61.53125 10.640625 54.890625 5.3125 \r\nQ 48.25 0 35.984375 0 \r\nL 9.8125 0 \r\nz\r\n\" id=\"DejaVuSans-66\"/>\r\n       <path d=\"M 9.421875 54.6875 \r\nL 18.40625 54.6875 \r\nL 18.40625 0 \r\nL 9.421875 0 \r\nz\r\nM 9.421875 75.984375 \r\nL 18.40625 75.984375 \r\nL 18.40625 64.59375 \r\nL 9.421875 64.59375 \r\nz\r\n\" id=\"DejaVuSans-105\"/>\r\n       <path d=\"M 18.3125 70.21875 \r\nL 18.3125 54.6875 \r\nL 36.8125 54.6875 \r\nL 36.8125 47.703125 \r\nL 18.3125 47.703125 \r\nL 18.3125 18.015625 \r\nQ 18.3125 11.328125 20.140625 9.421875 \r\nQ 21.96875 7.515625 27.59375 7.515625 \r\nL 36.8125 7.515625 \r\nL 36.8125 0 \r\nL 27.59375 0 \r\nQ 17.1875 0 13.234375 3.875 \r\nQ 9.28125 7.765625 9.28125 18.015625 \r\nL 9.28125 47.703125 \r\nL 2.6875 47.703125 \r\nL 2.6875 54.6875 \r\nL 9.28125 54.6875 \r\nL 9.28125 70.21875 \r\nz\r\n\" id=\"DejaVuSans-116\"/>\r\n      </defs>\r\n      <g transform=\"translate(161.678125 608.627344)rotate(-90)scale(0.1 -0.1)\">\r\n       <use xlink:href=\"#DejaVuSans-89\"/>\r\n       <use x=\"47.833984\" xlink:href=\"#DejaVuSans-101\"/>\r\n       <use x=\"109.357422\" xlink:href=\"#DejaVuSans-97\"/>\r\n       <use x=\"170.636719\" xlink:href=\"#DejaVuSans-114\"/>\r\n       <use x=\"211.75\" xlink:href=\"#DejaVuSans-32\"/>\r\n       <use x=\"243.537109\" xlink:href=\"#DejaVuSans-66\"/>\r\n       <use x=\"312.140625\" xlink:href=\"#DejaVuSans-117\"/>\r\n       <use x=\"375.519531\" xlink:href=\"#DejaVuSans-105\"/>\r\n       <use x=\"403.302734\" xlink:href=\"#DejaVuSans-108\"/>\r\n       <use x=\"431.085938\" xlink:href=\"#DejaVuSans-116\"/>\r\n      </g>\r\n     </g>\r\n    </g>\r\n    <g id=\"xtick_3\">\r\n     <g id=\"line2d_3\">\r\n      <g>\r\n       <use style=\"stroke:#000000;stroke-width:0.8;\" x=\"200.76875\" xlink:href=\"#m025b79b430\" y=\"554.599219\"/>\r\n      </g>\r\n     </g>\r\n     <g id=\"text_3\">\r\n      <!-- Year Remod/Add -->\r\n      <defs>\r\n       <path d=\"M 44.390625 34.1875 \r\nQ 47.5625 33.109375 50.5625 29.59375 \r\nQ 53.5625 26.078125 56.59375 19.921875 \r\nL 66.609375 0 \r\nL 56 0 \r\nL 46.6875 18.703125 \r\nQ 43.0625 26.03125 39.671875 28.421875 \r\nQ 36.28125 30.8125 30.421875 30.8125 \r\nL 19.671875 30.8125 \r\nL 19.671875 0 \r\nL 9.8125 0 \r\nL 9.8125 72.90625 \r\nL 32.078125 72.90625 \r\nQ 44.578125 72.90625 50.734375 67.671875 \r\nQ 56.890625 62.453125 56.890625 51.90625 \r\nQ 56.890625 45.015625 53.6875 40.46875 \r\nQ 50.484375 35.9375 44.390625 34.1875 \r\nz\r\nM 19.671875 64.796875 \r\nL 19.671875 38.921875 \r\nL 32.078125 38.921875 \r\nQ 39.203125 38.921875 42.84375 42.21875 \r\nQ 46.484375 45.515625 46.484375 51.90625 \r\nQ 46.484375 58.296875 42.84375 61.546875 \r\nQ 39.203125 64.796875 32.078125 64.796875 \r\nz\r\n\" id=\"DejaVuSans-82\"/>\r\n       <path d=\"M 52 44.1875 \r\nQ 55.375 50.25 60.0625 53.125 \r\nQ 64.75 56 71.09375 56 \r\nQ 79.640625 56 84.28125 50.015625 \r\nQ 88.921875 44.046875 88.921875 33.015625 \r\nL 88.921875 0 \r\nL 79.890625 0 \r\nL 79.890625 32.71875 \r\nQ 79.890625 40.578125 77.09375 44.375 \r\nQ 74.3125 48.1875 68.609375 48.1875 \r\nQ 61.625 48.1875 57.5625 43.546875 \r\nQ 53.515625 38.921875 53.515625 30.90625 \r\nL 53.515625 0 \r\nL 44.484375 0 \r\nL 44.484375 32.71875 \r\nQ 44.484375 40.625 41.703125 44.40625 \r\nQ 38.921875 48.1875 33.109375 48.1875 \r\nQ 26.21875 48.1875 22.15625 43.53125 \r\nQ 18.109375 38.875 18.109375 30.90625 \r\nL 18.109375 0 \r\nL 9.078125 0 \r\nL 9.078125 54.6875 \r\nL 18.109375 54.6875 \r\nL 18.109375 46.1875 \r\nQ 21.1875 51.21875 25.484375 53.609375 \r\nQ 29.78125 56 35.6875 56 \r\nQ 41.65625 56 45.828125 52.96875 \r\nQ 50 49.953125 52 44.1875 \r\nz\r\n\" id=\"DejaVuSans-109\"/>\r\n       <path d=\"M 30.609375 48.390625 \r\nQ 23.390625 48.390625 19.1875 42.75 \r\nQ 14.984375 37.109375 14.984375 27.296875 \r\nQ 14.984375 17.484375 19.15625 11.84375 \r\nQ 23.34375 6.203125 30.609375 6.203125 \r\nQ 37.796875 6.203125 41.984375 11.859375 \r\nQ 46.1875 17.53125 46.1875 27.296875 \r\nQ 46.1875 37.015625 41.984375 42.703125 \r\nQ 37.796875 48.390625 30.609375 48.390625 \r\nz\r\nM 30.609375 56 \r\nQ 42.328125 56 49.015625 48.375 \r\nQ 55.71875 40.765625 55.71875 27.296875 \r\nQ 55.71875 13.875 49.015625 6.21875 \r\nQ 42.328125 -1.421875 30.609375 -1.421875 \r\nQ 18.84375 -1.421875 12.171875 6.21875 \r\nQ 5.515625 13.875 5.515625 27.296875 \r\nQ 5.515625 40.765625 12.171875 48.375 \r\nQ 18.84375 56 30.609375 56 \r\nz\r\n\" id=\"DejaVuSans-111\"/>\r\n       <path d=\"M 45.40625 46.390625 \r\nL 45.40625 75.984375 \r\nL 54.390625 75.984375 \r\nL 54.390625 0 \r\nL 45.40625 0 \r\nL 45.40625 8.203125 \r\nQ 42.578125 3.328125 38.25 0.953125 \r\nQ 33.9375 -1.421875 27.875 -1.421875 \r\nQ 17.96875 -1.421875 11.734375 6.484375 \r\nQ 5.515625 14.40625 5.515625 27.296875 \r\nQ 5.515625 40.1875 11.734375 48.09375 \r\nQ 17.96875 56 27.875 56 \r\nQ 33.9375 56 38.25 53.625 \r\nQ 42.578125 51.265625 45.40625 46.390625 \r\nz\r\nM 14.796875 27.296875 \r\nQ 14.796875 17.390625 18.875 11.75 \r\nQ 22.953125 6.109375 30.078125 6.109375 \r\nQ 37.203125 6.109375 41.296875 11.75 \r\nQ 45.40625 17.390625 45.40625 27.296875 \r\nQ 45.40625 37.203125 41.296875 42.84375 \r\nQ 37.203125 48.484375 30.078125 48.484375 \r\nQ 22.953125 48.484375 18.875 42.84375 \r\nQ 14.796875 37.203125 14.796875 27.296875 \r\nz\r\n\" id=\"DejaVuSans-100\"/>\r\n       <path d=\"M 25.390625 72.90625 \r\nL 33.6875 72.90625 \r\nL 8.296875 -9.28125 \r\nL 0 -9.28125 \r\nz\r\n\" id=\"DejaVuSans-47\"/>\r\n       <path d=\"M 34.1875 63.1875 \r\nL 20.796875 26.90625 \r\nL 47.609375 26.90625 \r\nz\r\nM 28.609375 72.90625 \r\nL 39.796875 72.90625 \r\nL 67.578125 0 \r\nL 57.328125 0 \r\nL 50.6875 18.703125 \r\nL 17.828125 18.703125 \r\nL 11.1875 0 \r\nL 0.78125 0 \r\nz\r\n\" id=\"DejaVuSans-65\"/>\r\n      </defs>\r\n      <g transform=\"translate(203.528125 643.542969)rotate(-90)scale(0.1 -0.1)\">\r\n       <use xlink:href=\"#DejaVuSans-89\"/>\r\n       <use x=\"47.833984\" xlink:href=\"#DejaVuSans-101\"/>\r\n       <use x=\"109.357422\" xlink:href=\"#DejaVuSans-97\"/>\r\n       <use x=\"170.636719\" xlink:href=\"#DejaVuSans-114\"/>\r\n       <use x=\"211.75\" xlink:href=\"#DejaVuSans-32\"/>\r\n       <use x=\"243.537109\" xlink:href=\"#DejaVuSans-82\"/>\r\n       <use x=\"308.519531\" xlink:href=\"#DejaVuSans-101\"/>\r\n       <use x=\"370.042969\" xlink:href=\"#DejaVuSans-109\"/>\r\n       <use x=\"467.455078\" xlink:href=\"#DejaVuSans-111\"/>\r\n       <use x=\"528.636719\" xlink:href=\"#DejaVuSans-100\"/>\r\n       <use x=\"592.113281\" xlink:href=\"#DejaVuSans-47\"/>\r\n       <use x=\"625.804688\" xlink:href=\"#DejaVuSans-65\"/>\r\n       <use x=\"692.462891\" xlink:href=\"#DejaVuSans-100\"/>\r\n       <use x=\"755.939453\" xlink:href=\"#DejaVuSans-100\"/>\r\n      </g>\r\n     </g>\r\n    </g>\r\n    <g id=\"xtick_4\">\r\n     <g id=\"line2d_4\">\r\n      <g>\r\n       <use style=\"stroke:#000000;stroke-width:0.8;\" x=\"242.61875\" xlink:href=\"#m025b79b430\" y=\"554.599219\"/>\r\n      </g>\r\n     </g>\r\n     <g id=\"text_4\">\r\n      <!-- Mas Vnr Area -->\r\n      <defs>\r\n       <path d=\"M 9.8125 72.90625 \r\nL 24.515625 72.90625 \r\nL 43.109375 23.296875 \r\nL 61.8125 72.90625 \r\nL 76.515625 72.90625 \r\nL 76.515625 0 \r\nL 66.890625 0 \r\nL 66.890625 64.015625 \r\nL 48.09375 14.015625 \r\nL 38.1875 14.015625 \r\nL 19.390625 64.015625 \r\nL 19.390625 0 \r\nL 9.8125 0 \r\nz\r\n\" id=\"DejaVuSans-77\"/>\r\n       <path d=\"M 44.28125 53.078125 \r\nL 44.28125 44.578125 \r\nQ 40.484375 46.53125 36.375 47.5 \r\nQ 32.28125 48.484375 27.875 48.484375 \r\nQ 21.1875 48.484375 17.84375 46.4375 \r\nQ 14.5 44.390625 14.5 40.28125 \r\nQ 14.5 37.15625 16.890625 35.375 \r\nQ 19.28125 33.59375 26.515625 31.984375 \r\nL 29.59375 31.296875 \r\nQ 39.15625 29.25 43.1875 25.515625 \r\nQ 47.21875 21.78125 47.21875 15.09375 \r\nQ 47.21875 7.46875 41.1875 3.015625 \r\nQ 35.15625 -1.421875 24.609375 -1.421875 \r\nQ 20.21875 -1.421875 15.453125 -0.5625 \r\nQ 10.6875 0.296875 5.421875 2 \r\nL 5.421875 11.28125 \r\nQ 10.40625 8.6875 15.234375 7.390625 \r\nQ 20.0625 6.109375 24.8125 6.109375 \r\nQ 31.15625 6.109375 34.5625 8.28125 \r\nQ 37.984375 10.453125 37.984375 14.40625 \r\nQ 37.984375 18.0625 35.515625 20.015625 \r\nQ 33.0625 21.96875 24.703125 23.78125 \r\nL 21.578125 24.515625 \r\nQ 13.234375 26.265625 9.515625 29.90625 \r\nQ 5.8125 33.546875 5.8125 39.890625 \r\nQ 5.8125 47.609375 11.28125 51.796875 \r\nQ 16.75 56 26.8125 56 \r\nQ 31.78125 56 36.171875 55.265625 \r\nQ 40.578125 54.546875 44.28125 53.078125 \r\nz\r\n\" id=\"DejaVuSans-115\"/>\r\n       <path d=\"M 28.609375 0 \r\nL 0.78125 72.90625 \r\nL 11.078125 72.90625 \r\nL 34.1875 11.53125 \r\nL 57.328125 72.90625 \r\nL 67.578125 72.90625 \r\nL 39.796875 0 \r\nz\r\n\" id=\"DejaVuSans-86\"/>\r\n       <path d=\"M 54.890625 33.015625 \r\nL 54.890625 0 \r\nL 45.90625 0 \r\nL 45.90625 32.71875 \r\nQ 45.90625 40.484375 42.875 44.328125 \r\nQ 39.84375 48.1875 33.796875 48.1875 \r\nQ 26.515625 48.1875 22.3125 43.546875 \r\nQ 18.109375 38.921875 18.109375 30.90625 \r\nL 18.109375 0 \r\nL 9.078125 0 \r\nL 9.078125 54.6875 \r\nL 18.109375 54.6875 \r\nL 18.109375 46.1875 \r\nQ 21.34375 51.125 25.703125 53.5625 \r\nQ 30.078125 56 35.796875 56 \r\nQ 45.21875 56 50.046875 50.171875 \r\nQ 54.890625 44.34375 54.890625 33.015625 \r\nz\r\n\" id=\"DejaVuSans-110\"/>\r\n      </defs>\r\n      <g transform=\"translate(245.378125 628.217969)rotate(-90)scale(0.1 -0.1)\">\r\n       <use xlink:href=\"#DejaVuSans-77\"/>\r\n       <use x=\"86.279297\" xlink:href=\"#DejaVuSans-97\"/>\r\n       <use x=\"147.558594\" xlink:href=\"#DejaVuSans-115\"/>\r\n       <use x=\"199.658203\" xlink:href=\"#DejaVuSans-32\"/>\r\n       <use x=\"231.445312\" xlink:href=\"#DejaVuSans-86\"/>\r\n       <use x=\"299.853516\" xlink:href=\"#DejaVuSans-110\"/>\r\n       <use x=\"363.232422\" xlink:href=\"#DejaVuSans-114\"/>\r\n       <use x=\"404.345703\" xlink:href=\"#DejaVuSans-32\"/>\r\n       <use x=\"436.132812\" xlink:href=\"#DejaVuSans-65\"/>\r\n       <use x=\"504.541016\" xlink:href=\"#DejaVuSans-114\"/>\r\n       <use x=\"543.404297\" xlink:href=\"#DejaVuSans-101\"/>\r\n       <use x=\"604.927734\" xlink:href=\"#DejaVuSans-97\"/>\r\n      </g>\r\n     </g>\r\n    </g>\r\n    <g id=\"xtick_5\">\r\n     <g id=\"line2d_5\">\r\n      <g>\r\n       <use style=\"stroke:#000000;stroke-width:0.8;\" x=\"284.46875\" xlink:href=\"#m025b79b430\" y=\"554.599219\"/>\r\n      </g>\r\n     </g>\r\n     <g id=\"text_5\">\r\n      <!-- BsmtFin SF 1 -->\r\n      <defs>\r\n       <path d=\"M 9.8125 72.90625 \r\nL 51.703125 72.90625 \r\nL 51.703125 64.59375 \r\nL 19.671875 64.59375 \r\nL 19.671875 43.109375 \r\nL 48.578125 43.109375 \r\nL 48.578125 34.8125 \r\nL 19.671875 34.8125 \r\nL 19.671875 0 \r\nL 9.8125 0 \r\nz\r\n\" id=\"DejaVuSans-70\"/>\r\n       <path d=\"M 53.515625 70.515625 \r\nL 53.515625 60.890625 \r\nQ 47.90625 63.578125 42.921875 64.890625 \r\nQ 37.9375 66.21875 33.296875 66.21875 \r\nQ 25.25 66.21875 20.875 63.09375 \r\nQ 16.5 59.96875 16.5 54.203125 \r\nQ 16.5 49.359375 19.40625 46.890625 \r\nQ 22.3125 44.4375 30.421875 42.921875 \r\nL 36.375 41.703125 \r\nQ 47.40625 39.59375 52.65625 34.296875 \r\nQ 57.90625 29 57.90625 20.125 \r\nQ 57.90625 9.515625 50.796875 4.046875 \r\nQ 43.703125 -1.421875 29.984375 -1.421875 \r\nQ 24.8125 -1.421875 18.96875 -0.25 \r\nQ 13.140625 0.921875 6.890625 3.21875 \r\nL 6.890625 13.375 \r\nQ 12.890625 10.015625 18.65625 8.296875 \r\nQ 24.421875 6.59375 29.984375 6.59375 \r\nQ 38.421875 6.59375 43.015625 9.90625 \r\nQ 47.609375 13.234375 47.609375 19.390625 \r\nQ 47.609375 24.75 44.3125 27.78125 \r\nQ 41.015625 30.8125 33.5 32.328125 \r\nL 27.484375 33.5 \r\nQ 16.453125 35.6875 11.515625 40.375 \r\nQ 6.59375 45.0625 6.59375 53.421875 \r\nQ 6.59375 63.09375 13.40625 68.65625 \r\nQ 20.21875 74.21875 32.171875 74.21875 \r\nQ 37.3125 74.21875 42.625 73.28125 \r\nQ 47.953125 72.359375 53.515625 70.515625 \r\nz\r\n\" id=\"DejaVuSans-83\"/>\r\n       <path d=\"M 12.40625 8.296875 \r\nL 28.515625 8.296875 \r\nL 28.515625 63.921875 \r\nL 10.984375 60.40625 \r\nL 10.984375 69.390625 \r\nL 28.421875 72.90625 \r\nL 38.28125 72.90625 \r\nL 38.28125 8.296875 \r\nL 54.390625 8.296875 \r\nL 54.390625 0 \r\nL 12.40625 0 \r\nz\r\n\" id=\"DejaVuSans-49\"/>\r\n      </defs>\r\n      <g transform=\"translate(287.228125 626.291406)rotate(-90)scale(0.1 -0.1)\">\r\n       <use xlink:href=\"#DejaVuSans-66\"/>\r\n       <use x=\"68.603516\" xlink:href=\"#DejaVuSans-115\"/>\r\n       <use x=\"120.703125\" xlink:href=\"#DejaVuSans-109\"/>\r\n       <use x=\"218.115234\" xlink:href=\"#DejaVuSans-116\"/>\r\n       <use x=\"257.324219\" xlink:href=\"#DejaVuSans-70\"/>\r\n       <use x=\"307.59375\" xlink:href=\"#DejaVuSans-105\"/>\r\n       <use x=\"335.376953\" xlink:href=\"#DejaVuSans-110\"/>\r\n       <use x=\"398.755859\" xlink:href=\"#DejaVuSans-32\"/>\r\n       <use x=\"430.542969\" xlink:href=\"#DejaVuSans-83\"/>\r\n       <use x=\"494.019531\" xlink:href=\"#DejaVuSans-70\"/>\r\n       <use x=\"551.539062\" xlink:href=\"#DejaVuSans-32\"/>\r\n       <use x=\"583.326172\" xlink:href=\"#DejaVuSans-49\"/>\r\n      </g>\r\n     </g>\r\n    </g>\r\n    <g id=\"xtick_6\">\r\n     <g id=\"line2d_6\">\r\n      <g>\r\n       <use style=\"stroke:#000000;stroke-width:0.8;\" x=\"326.31875\" xlink:href=\"#m025b79b430\" y=\"554.599219\"/>\r\n      </g>\r\n     </g>\r\n     <g id=\"text_6\">\r\n      <!-- Total Bsmt SF -->\r\n      <defs>\r\n       <path d=\"M -0.296875 72.90625 \r\nL 61.375 72.90625 \r\nL 61.375 64.59375 \r\nL 35.5 64.59375 \r\nL 35.5 0 \r\nL 25.59375 0 \r\nL 25.59375 64.59375 \r\nL -0.296875 64.59375 \r\nz\r\n\" id=\"DejaVuSans-84\"/>\r\n      </defs>\r\n      <g transform=\"translate(329.078125 629.139844)rotate(-90)scale(0.1 -0.1)\">\r\n       <use xlink:href=\"#DejaVuSans-84\"/>\r\n       <use x=\"44.083984\" xlink:href=\"#DejaVuSans-111\"/>\r\n       <use x=\"105.265625\" xlink:href=\"#DejaVuSans-116\"/>\r\n       <use x=\"144.474609\" xlink:href=\"#DejaVuSans-97\"/>\r\n       <use x=\"205.753906\" xlink:href=\"#DejaVuSans-108\"/>\r\n       <use x=\"233.537109\" xlink:href=\"#DejaVuSans-32\"/>\r\n       <use x=\"265.324219\" xlink:href=\"#DejaVuSans-66\"/>\r\n       <use x=\"333.927734\" xlink:href=\"#DejaVuSans-115\"/>\r\n       <use x=\"386.027344\" xlink:href=\"#DejaVuSans-109\"/>\r\n       <use x=\"483.439453\" xlink:href=\"#DejaVuSans-116\"/>\r\n       <use x=\"522.648438\" xlink:href=\"#DejaVuSans-32\"/>\r\n       <use x=\"554.435547\" xlink:href=\"#DejaVuSans-83\"/>\r\n       <use x=\"617.912109\" xlink:href=\"#DejaVuSans-70\"/>\r\n      </g>\r\n     </g>\r\n    </g>\r\n    <g id=\"xtick_7\">\r\n     <g id=\"line2d_7\">\r\n      <g>\r\n       <use style=\"stroke:#000000;stroke-width:0.8;\" x=\"368.16875\" xlink:href=\"#m025b79b430\" y=\"554.599219\"/>\r\n      </g>\r\n     </g>\r\n     <g id=\"text_7\">\r\n      <!-- 1st Flr SF -->\r\n      <g transform=\"translate(370.928125 608.188281)rotate(-90)scale(0.1 -0.1)\">\r\n       <use xlink:href=\"#DejaVuSans-49\"/>\r\n       <use x=\"63.623047\" xlink:href=\"#DejaVuSans-115\"/>\r\n       <use x=\"115.722656\" xlink:href=\"#DejaVuSans-116\"/>\r\n       <use x=\"154.931641\" xlink:href=\"#DejaVuSans-32\"/>\r\n       <use x=\"186.71875\" xlink:href=\"#DejaVuSans-70\"/>\r\n       <use x=\"244.238281\" xlink:href=\"#DejaVuSans-108\"/>\r\n       <use x=\"272.021484\" xlink:href=\"#DejaVuSans-114\"/>\r\n       <use x=\"313.134766\" xlink:href=\"#DejaVuSans-32\"/>\r\n       <use x=\"344.921875\" xlink:href=\"#DejaVuSans-83\"/>\r\n       <use x=\"408.398438\" xlink:href=\"#DejaVuSans-70\"/>\r\n      </g>\r\n     </g>\r\n    </g>\r\n    <g id=\"xtick_8\">\r\n     <g id=\"line2d_8\">\r\n      <g>\r\n       <use style=\"stroke:#000000;stroke-width:0.8;\" x=\"410.01875\" xlink:href=\"#m025b79b430\" y=\"554.599219\"/>\r\n      </g>\r\n     </g>\r\n     <g id=\"text_8\">\r\n      <!-- Gr Liv Area -->\r\n      <defs>\r\n       <path d=\"M 59.515625 10.40625 \r\nL 59.515625 29.984375 \r\nL 43.40625 29.984375 \r\nL 43.40625 38.09375 \r\nL 69.28125 38.09375 \r\nL 69.28125 6.78125 \r\nQ 63.578125 2.734375 56.6875 0.65625 \r\nQ 49.8125 -1.421875 42 -1.421875 \r\nQ 24.90625 -1.421875 15.25 8.5625 \r\nQ 5.609375 18.5625 5.609375 36.375 \r\nQ 5.609375 54.25 15.25 64.234375 \r\nQ 24.90625 74.21875 42 74.21875 \r\nQ 49.125 74.21875 55.546875 72.453125 \r\nQ 61.96875 70.703125 67.390625 67.28125 \r\nL 67.390625 56.78125 \r\nQ 61.921875 61.421875 55.765625 63.765625 \r\nQ 49.609375 66.109375 42.828125 66.109375 \r\nQ 29.4375 66.109375 22.71875 58.640625 \r\nQ 16.015625 51.171875 16.015625 36.375 \r\nQ 16.015625 21.625 22.71875 14.15625 \r\nQ 29.4375 6.6875 42.828125 6.6875 \r\nQ 48.046875 6.6875 52.140625 7.59375 \r\nQ 56.25 8.5 59.515625 10.40625 \r\nz\r\n\" id=\"DejaVuSans-71\"/>\r\n       <path d=\"M 9.8125 72.90625 \r\nL 19.671875 72.90625 \r\nL 19.671875 8.296875 \r\nL 55.171875 8.296875 \r\nL 55.171875 0 \r\nL 9.8125 0 \r\nz\r\n\" id=\"DejaVuSans-76\"/>\r\n      </defs>\r\n      <g transform=\"translate(412.778125 617.091406)rotate(-90)scale(0.1 -0.1)\">\r\n       <use xlink:href=\"#DejaVuSans-71\"/>\r\n       <use x=\"77.490234\" xlink:href=\"#DejaVuSans-114\"/>\r\n       <use x=\"118.603516\" xlink:href=\"#DejaVuSans-32\"/>\r\n       <use x=\"150.390625\" xlink:href=\"#DejaVuSans-76\"/>\r\n       <use x=\"206.103516\" xlink:href=\"#DejaVuSans-105\"/>\r\n       <use x=\"233.886719\" xlink:href=\"#DejaVuSans-118\"/>\r\n       <use x=\"293.066406\" xlink:href=\"#DejaVuSans-32\"/>\r\n       <use x=\"324.853516\" xlink:href=\"#DejaVuSans-65\"/>\r\n       <use x=\"393.261719\" xlink:href=\"#DejaVuSans-114\"/>\r\n       <use x=\"432.125\" xlink:href=\"#DejaVuSans-101\"/>\r\n       <use x=\"493.648438\" xlink:href=\"#DejaVuSans-97\"/>\r\n      </g>\r\n     </g>\r\n    </g>\r\n    <g id=\"xtick_9\">\r\n     <g id=\"line2d_9\">\r\n      <g>\r\n       <use style=\"stroke:#000000;stroke-width:0.8;\" x=\"451.86875\" xlink:href=\"#m025b79b430\" y=\"554.599219\"/>\r\n      </g>\r\n     </g>\r\n     <g id=\"text_9\">\r\n      <!-- Full Bath -->\r\n      <defs>\r\n       <path d=\"M 54.890625 33.015625 \r\nL 54.890625 0 \r\nL 45.90625 0 \r\nL 45.90625 32.71875 \r\nQ 45.90625 40.484375 42.875 44.328125 \r\nQ 39.84375 48.1875 33.796875 48.1875 \r\nQ 26.515625 48.1875 22.3125 43.546875 \r\nQ 18.109375 38.921875 18.109375 30.90625 \r\nL 18.109375 0 \r\nL 9.078125 0 \r\nL 9.078125 75.984375 \r\nL 18.109375 75.984375 \r\nL 18.109375 46.1875 \r\nQ 21.34375 51.125 25.703125 53.5625 \r\nQ 30.078125 56 35.796875 56 \r\nQ 45.21875 56 50.046875 50.171875 \r\nQ 54.890625 44.34375 54.890625 33.015625 \r\nz\r\n\" id=\"DejaVuSans-104\"/>\r\n      </defs>\r\n      <g transform=\"translate(454.628125 605.119531)rotate(-90)scale(0.1 -0.1)\">\r\n       <use xlink:href=\"#DejaVuSans-70\"/>\r\n       <use x=\"52.019531\" xlink:href=\"#DejaVuSans-117\"/>\r\n       <use x=\"115.398438\" xlink:href=\"#DejaVuSans-108\"/>\r\n       <use x=\"143.181641\" xlink:href=\"#DejaVuSans-108\"/>\r\n       <use x=\"170.964844\" xlink:href=\"#DejaVuSans-32\"/>\r\n       <use x=\"202.751953\" xlink:href=\"#DejaVuSans-66\"/>\r\n       <use x=\"271.355469\" xlink:href=\"#DejaVuSans-97\"/>\r\n       <use x=\"332.634766\" xlink:href=\"#DejaVuSans-116\"/>\r\n       <use x=\"371.84375\" xlink:href=\"#DejaVuSans-104\"/>\r\n      </g>\r\n     </g>\r\n    </g>\r\n    <g id=\"xtick_10\">\r\n     <g id=\"line2d_10\">\r\n      <g>\r\n       <use style=\"stroke:#000000;stroke-width:0.8;\" x=\"493.71875\" xlink:href=\"#m025b79b430\" y=\"554.599219\"/>\r\n      </g>\r\n     </g>\r\n     <g id=\"text_10\">\r\n      <!-- TotRms AbvGrd -->\r\n      <defs>\r\n       <path d=\"M 48.6875 27.296875 \r\nQ 48.6875 37.203125 44.609375 42.84375 \r\nQ 40.53125 48.484375 33.40625 48.484375 \r\nQ 26.265625 48.484375 22.1875 42.84375 \r\nQ 18.109375 37.203125 18.109375 27.296875 \r\nQ 18.109375 17.390625 22.1875 11.75 \r\nQ 26.265625 6.109375 33.40625 6.109375 \r\nQ 40.53125 6.109375 44.609375 11.75 \r\nQ 48.6875 17.390625 48.6875 27.296875 \r\nz\r\nM 18.109375 46.390625 \r\nQ 20.953125 51.265625 25.265625 53.625 \r\nQ 29.59375 56 35.59375 56 \r\nQ 45.5625 56 51.78125 48.09375 \r\nQ 58.015625 40.1875 58.015625 27.296875 \r\nQ 58.015625 14.40625 51.78125 6.484375 \r\nQ 45.5625 -1.421875 35.59375 -1.421875 \r\nQ 29.59375 -1.421875 25.265625 0.953125 \r\nQ 20.953125 3.328125 18.109375 8.203125 \r\nL 18.109375 0 \r\nL 9.078125 0 \r\nL 9.078125 75.984375 \r\nL 18.109375 75.984375 \r\nz\r\n\" id=\"DejaVuSans-98\"/>\r\n      </defs>\r\n      <g transform=\"translate(496.478125 638.263281)rotate(-90)scale(0.1 -0.1)\">\r\n       <use xlink:href=\"#DejaVuSans-84\"/>\r\n       <use x=\"44.083984\" xlink:href=\"#DejaVuSans-111\"/>\r\n       <use x=\"105.265625\" xlink:href=\"#DejaVuSans-116\"/>\r\n       <use x=\"144.474609\" xlink:href=\"#DejaVuSans-82\"/>\r\n       <use x=\"213.957031\" xlink:href=\"#DejaVuSans-109\"/>\r\n       <use x=\"311.369141\" xlink:href=\"#DejaVuSans-115\"/>\r\n       <use x=\"363.46875\" xlink:href=\"#DejaVuSans-32\"/>\r\n       <use x=\"395.255859\" xlink:href=\"#DejaVuSans-65\"/>\r\n       <use x=\"463.664062\" xlink:href=\"#DejaVuSans-98\"/>\r\n       <use x=\"527.140625\" xlink:href=\"#DejaVuSans-118\"/>\r\n       <use x=\"586.320312\" xlink:href=\"#DejaVuSans-71\"/>\r\n       <use x=\"663.810547\" xlink:href=\"#DejaVuSans-114\"/>\r\n       <use x=\"703.173828\" xlink:href=\"#DejaVuSans-100\"/>\r\n      </g>\r\n     </g>\r\n    </g>\r\n    <g id=\"xtick_11\">\r\n     <g id=\"line2d_11\">\r\n      <g>\r\n       <use style=\"stroke:#000000;stroke-width:0.8;\" x=\"535.56875\" xlink:href=\"#m025b79b430\" y=\"554.599219\"/>\r\n      </g>\r\n     </g>\r\n     <g id=\"text_11\">\r\n      <!-- Fireplaces -->\r\n      <defs>\r\n       <path d=\"M 18.109375 8.203125 \r\nL 18.109375 -20.796875 \r\nL 9.078125 -20.796875 \r\nL 9.078125 54.6875 \r\nL 18.109375 54.6875 \r\nL 18.109375 46.390625 \r\nQ 20.953125 51.265625 25.265625 53.625 \r\nQ 29.59375 56 35.59375 56 \r\nQ 45.5625 56 51.78125 48.09375 \r\nQ 58.015625 40.1875 58.015625 27.296875 \r\nQ 58.015625 14.40625 51.78125 6.484375 \r\nQ 45.5625 -1.421875 35.59375 -1.421875 \r\nQ 29.59375 -1.421875 25.265625 0.953125 \r\nQ 20.953125 3.328125 18.109375 8.203125 \r\nz\r\nM 48.6875 27.296875 \r\nQ 48.6875 37.203125 44.609375 42.84375 \r\nQ 40.53125 48.484375 33.40625 48.484375 \r\nQ 26.265625 48.484375 22.1875 42.84375 \r\nQ 18.109375 37.203125 18.109375 27.296875 \r\nQ 18.109375 17.390625 22.1875 11.75 \r\nQ 26.265625 6.109375 33.40625 6.109375 \r\nQ 40.53125 6.109375 44.609375 11.75 \r\nQ 48.6875 17.390625 48.6875 27.296875 \r\nz\r\n\" id=\"DejaVuSans-112\"/>\r\n       <path d=\"M 48.78125 52.59375 \r\nL 48.78125 44.1875 \r\nQ 44.96875 46.296875 41.140625 47.34375 \r\nQ 37.3125 48.390625 33.40625 48.390625 \r\nQ 24.65625 48.390625 19.8125 42.84375 \r\nQ 14.984375 37.3125 14.984375 27.296875 \r\nQ 14.984375 17.28125 19.8125 11.734375 \r\nQ 24.65625 6.203125 33.40625 6.203125 \r\nQ 37.3125 6.203125 41.140625 7.25 \r\nQ 44.96875 8.296875 48.78125 10.40625 \r\nL 48.78125 2.09375 \r\nQ 45.015625 0.34375 40.984375 -0.53125 \r\nQ 36.96875 -1.421875 32.421875 -1.421875 \r\nQ 20.0625 -1.421875 12.78125 6.34375 \r\nQ 5.515625 14.109375 5.515625 27.296875 \r\nQ 5.515625 40.671875 12.859375 48.328125 \r\nQ 20.21875 56 33.015625 56 \r\nQ 37.15625 56 41.109375 55.140625 \r\nQ 45.0625 54.296875 48.78125 52.59375 \r\nz\r\n\" id=\"DejaVuSans-99\"/>\r\n      </defs>\r\n      <g transform=\"translate(538.328125 611.558594)rotate(-90)scale(0.1 -0.1)\">\r\n       <use xlink:href=\"#DejaVuSans-70\"/>\r\n       <use x=\"50.269531\" xlink:href=\"#DejaVuSans-105\"/>\r\n       <use x=\"78.052734\" xlink:href=\"#DejaVuSans-114\"/>\r\n       <use x=\"116.916016\" xlink:href=\"#DejaVuSans-101\"/>\r\n       <use x=\"178.439453\" xlink:href=\"#DejaVuSans-112\"/>\r\n       <use x=\"241.916016\" xlink:href=\"#DejaVuSans-108\"/>\r\n       <use x=\"269.699219\" xlink:href=\"#DejaVuSans-97\"/>\r\n       <use x=\"330.978516\" xlink:href=\"#DejaVuSans-99\"/>\r\n       <use x=\"385.958984\" xlink:href=\"#DejaVuSans-101\"/>\r\n       <use x=\"447.482422\" xlink:href=\"#DejaVuSans-115\"/>\r\n      </g>\r\n     </g>\r\n    </g>\r\n    <g id=\"xtick_12\">\r\n     <g id=\"line2d_12\">\r\n      <g>\r\n       <use style=\"stroke:#000000;stroke-width:0.8;\" x=\"577.41875\" xlink:href=\"#m025b79b430\" y=\"554.599219\"/>\r\n      </g>\r\n     </g>\r\n     <g id=\"text_12\">\r\n      <!-- Garage Cars -->\r\n      <defs>\r\n       <path d=\"M 45.40625 27.984375 \r\nQ 45.40625 37.75 41.375 43.109375 \r\nQ 37.359375 48.484375 30.078125 48.484375 \r\nQ 22.859375 48.484375 18.828125 43.109375 \r\nQ 14.796875 37.75 14.796875 27.984375 \r\nQ 14.796875 18.265625 18.828125 12.890625 \r\nQ 22.859375 7.515625 30.078125 7.515625 \r\nQ 37.359375 7.515625 41.375 12.890625 \r\nQ 45.40625 18.265625 45.40625 27.984375 \r\nz\r\nM 54.390625 6.78125 \r\nQ 54.390625 -7.171875 48.1875 -13.984375 \r\nQ 42 -20.796875 29.203125 -20.796875 \r\nQ 24.46875 -20.796875 20.265625 -20.09375 \r\nQ 16.0625 -19.390625 12.109375 -17.921875 \r\nL 12.109375 -9.1875 \r\nQ 16.0625 -11.328125 19.921875 -12.34375 \r\nQ 23.78125 -13.375 27.78125 -13.375 \r\nQ 36.625 -13.375 41.015625 -8.765625 \r\nQ 45.40625 -4.15625 45.40625 5.171875 \r\nL 45.40625 9.625 \r\nQ 42.625 4.78125 38.28125 2.390625 \r\nQ 33.9375 0 27.875 0 \r\nQ 17.828125 0 11.671875 7.65625 \r\nQ 5.515625 15.328125 5.515625 27.984375 \r\nQ 5.515625 40.671875 11.671875 48.328125 \r\nQ 17.828125 56 27.875 56 \r\nQ 33.9375 56 38.28125 53.609375 \r\nQ 42.625 51.21875 45.40625 46.390625 \r\nL 45.40625 54.6875 \r\nL 54.390625 54.6875 \r\nz\r\n\" id=\"DejaVuSans-103\"/>\r\n       <path d=\"M 64.40625 67.28125 \r\nL 64.40625 56.890625 \r\nQ 59.421875 61.53125 53.78125 63.8125 \r\nQ 48.140625 66.109375 41.796875 66.109375 \r\nQ 29.296875 66.109375 22.65625 58.46875 \r\nQ 16.015625 50.828125 16.015625 36.375 \r\nQ 16.015625 21.96875 22.65625 14.328125 \r\nQ 29.296875 6.6875 41.796875 6.6875 \r\nQ 48.140625 6.6875 53.78125 8.984375 \r\nQ 59.421875 11.28125 64.40625 15.921875 \r\nL 64.40625 5.609375 \r\nQ 59.234375 2.09375 53.4375 0.328125 \r\nQ 47.65625 -1.421875 41.21875 -1.421875 \r\nQ 24.65625 -1.421875 15.125 8.703125 \r\nQ 5.609375 18.84375 5.609375 36.375 \r\nQ 5.609375 53.953125 15.125 64.078125 \r\nQ 24.65625 74.21875 41.21875 74.21875 \r\nQ 47.75 74.21875 53.53125 72.484375 \r\nQ 59.328125 70.75 64.40625 67.28125 \r\nz\r\n\" id=\"DejaVuSans-67\"/>\r\n      </defs>\r\n      <g transform=\"translate(580.178125 623.825781)rotate(-90)scale(0.1 -0.1)\">\r\n       <use xlink:href=\"#DejaVuSans-71\"/>\r\n       <use x=\"77.490234\" xlink:href=\"#DejaVuSans-97\"/>\r\n       <use x=\"138.769531\" xlink:href=\"#DejaVuSans-114\"/>\r\n       <use x=\"179.882812\" xlink:href=\"#DejaVuSans-97\"/>\r\n       <use x=\"241.162109\" xlink:href=\"#DejaVuSans-103\"/>\r\n       <use x=\"304.638672\" xlink:href=\"#DejaVuSans-101\"/>\r\n       <use x=\"366.162109\" xlink:href=\"#DejaVuSans-32\"/>\r\n       <use x=\"397.949219\" xlink:href=\"#DejaVuSans-67\"/>\r\n       <use x=\"467.773438\" xlink:href=\"#DejaVuSans-97\"/>\r\n       <use x=\"529.052734\" xlink:href=\"#DejaVuSans-114\"/>\r\n       <use x=\"570.166016\" xlink:href=\"#DejaVuSans-115\"/>\r\n      </g>\r\n     </g>\r\n    </g>\r\n    <g id=\"xtick_13\">\r\n     <g id=\"line2d_13\">\r\n      <g>\r\n       <use style=\"stroke:#000000;stroke-width:0.8;\" x=\"619.26875\" xlink:href=\"#m025b79b430\" y=\"554.599219\"/>\r\n      </g>\r\n     </g>\r\n     <g id=\"text_13\">\r\n      <!-- Garage Area -->\r\n      <g transform=\"translate(622.028125 624.402344)rotate(-90)scale(0.1 -0.1)\">\r\n       <use xlink:href=\"#DejaVuSans-71\"/>\r\n       <use x=\"77.490234\" xlink:href=\"#DejaVuSans-97\"/>\r\n       <use x=\"138.769531\" xlink:href=\"#DejaVuSans-114\"/>\r\n       <use x=\"179.882812\" xlink:href=\"#DejaVuSans-97\"/>\r\n       <use x=\"241.162109\" xlink:href=\"#DejaVuSans-103\"/>\r\n       <use x=\"304.638672\" xlink:href=\"#DejaVuSans-101\"/>\r\n       <use x=\"366.162109\" xlink:href=\"#DejaVuSans-32\"/>\r\n       <use x=\"397.949219\" xlink:href=\"#DejaVuSans-65\"/>\r\n       <use x=\"466.357422\" xlink:href=\"#DejaVuSans-114\"/>\r\n       <use x=\"505.220703\" xlink:href=\"#DejaVuSans-101\"/>\r\n       <use x=\"566.744141\" xlink:href=\"#DejaVuSans-97\"/>\r\n      </g>\r\n     </g>\r\n    </g>\r\n    <g id=\"xtick_14\">\r\n     <g id=\"line2d_14\">\r\n      <g>\r\n       <use style=\"stroke:#000000;stroke-width:0.8;\" x=\"661.11875\" xlink:href=\"#m025b79b430\" y=\"554.599219\"/>\r\n      </g>\r\n     </g>\r\n     <g id=\"text_14\">\r\n      <!-- Wood Deck SF -->\r\n      <defs>\r\n       <path d=\"M 3.328125 72.90625 \r\nL 13.28125 72.90625 \r\nL 28.609375 11.28125 \r\nL 43.890625 72.90625 \r\nL 54.984375 72.90625 \r\nL 70.3125 11.28125 \r\nL 85.59375 72.90625 \r\nL 95.609375 72.90625 \r\nL 77.296875 0 \r\nL 64.890625 0 \r\nL 49.515625 63.28125 \r\nL 33.984375 0 \r\nL 21.578125 0 \r\nz\r\n\" id=\"DejaVuSans-87\"/>\r\n       <path d=\"M 19.671875 64.796875 \r\nL 19.671875 8.109375 \r\nL 31.59375 8.109375 \r\nQ 46.6875 8.109375 53.6875 14.9375 \r\nQ 60.6875 21.78125 60.6875 36.53125 \r\nQ 60.6875 51.171875 53.6875 57.984375 \r\nQ 46.6875 64.796875 31.59375 64.796875 \r\nz\r\nM 9.8125 72.90625 \r\nL 30.078125 72.90625 \r\nQ 51.265625 72.90625 61.171875 64.09375 \r\nQ 71.09375 55.28125 71.09375 36.53125 \r\nQ 71.09375 17.671875 61.125 8.828125 \r\nQ 51.171875 0 30.078125 0 \r\nL 9.8125 0 \r\nz\r\n\" id=\"DejaVuSans-68\"/>\r\n       <path d=\"M 9.078125 75.984375 \r\nL 18.109375 75.984375 \r\nL 18.109375 31.109375 \r\nL 44.921875 54.6875 \r\nL 56.390625 54.6875 \r\nL 27.390625 29.109375 \r\nL 57.625 0 \r\nL 45.90625 0 \r\nL 18.109375 26.703125 \r\nL 18.109375 0 \r\nL 9.078125 0 \r\nz\r\n\" id=\"DejaVuSans-107\"/>\r\n      </defs>\r\n      <g transform=\"translate(663.878125 633.083594)rotate(-90)scale(0.1 -0.1)\">\r\n       <use xlink:href=\"#DejaVuSans-87\"/>\r\n       <use x=\"93.001953\" xlink:href=\"#DejaVuSans-111\"/>\r\n       <use x=\"154.183594\" xlink:href=\"#DejaVuSans-111\"/>\r\n       <use x=\"215.365234\" xlink:href=\"#DejaVuSans-100\"/>\r\n       <use x=\"278.841797\" xlink:href=\"#DejaVuSans-32\"/>\r\n       <use x=\"310.628906\" xlink:href=\"#DejaVuSans-68\"/>\r\n       <use x=\"387.630859\" xlink:href=\"#DejaVuSans-101\"/>\r\n       <use x=\"449.154297\" xlink:href=\"#DejaVuSans-99\"/>\r\n       <use x=\"504.134766\" xlink:href=\"#DejaVuSans-107\"/>\r\n       <use x=\"562.044922\" xlink:href=\"#DejaVuSans-32\"/>\r\n       <use x=\"593.832031\" xlink:href=\"#DejaVuSans-83\"/>\r\n       <use x=\"657.308594\" xlink:href=\"#DejaVuSans-70\"/>\r\n      </g>\r\n     </g>\r\n    </g>\r\n    <g id=\"xtick_15\">\r\n     <g id=\"line2d_15\">\r\n      <g>\r\n       <use style=\"stroke:#000000;stroke-width:0.8;\" x=\"702.96875\" xlink:href=\"#m025b79b430\" y=\"554.599219\"/>\r\n      </g>\r\n     </g>\r\n     <g id=\"text_15\">\r\n      <!-- Open Porch SF -->\r\n      <defs>\r\n       <path d=\"M 19.671875 64.796875 \r\nL 19.671875 37.40625 \r\nL 32.078125 37.40625 \r\nQ 38.96875 37.40625 42.71875 40.96875 \r\nQ 46.484375 44.53125 46.484375 51.125 \r\nQ 46.484375 57.671875 42.71875 61.234375 \r\nQ 38.96875 64.796875 32.078125 64.796875 \r\nz\r\nM 9.8125 72.90625 \r\nL 32.078125 72.90625 \r\nQ 44.34375 72.90625 50.609375 67.359375 \r\nQ 56.890625 61.8125 56.890625 51.125 \r\nQ 56.890625 40.328125 50.609375 34.8125 \r\nQ 44.34375 29.296875 32.078125 29.296875 \r\nL 19.671875 29.296875 \r\nL 19.671875 0 \r\nL 9.8125 0 \r\nz\r\n\" id=\"DejaVuSans-80\"/>\r\n      </defs>\r\n      <g transform=\"translate(705.728125 634.274219)rotate(-90)scale(0.1 -0.1)\">\r\n       <use xlink:href=\"#DejaVuSans-79\"/>\r\n       <use x=\"78.710938\" xlink:href=\"#DejaVuSans-112\"/>\r\n       <use x=\"142.1875\" xlink:href=\"#DejaVuSans-101\"/>\r\n       <use x=\"203.710938\" xlink:href=\"#DejaVuSans-110\"/>\r\n       <use x=\"267.089844\" xlink:href=\"#DejaVuSans-32\"/>\r\n       <use x=\"298.876953\" xlink:href=\"#DejaVuSans-80\"/>\r\n       <use x=\"355.554688\" xlink:href=\"#DejaVuSans-111\"/>\r\n       <use x=\"416.736328\" xlink:href=\"#DejaVuSans-114\"/>\r\n       <use x=\"455.599609\" xlink:href=\"#DejaVuSans-99\"/>\r\n       <use x=\"510.580078\" xlink:href=\"#DejaVuSans-104\"/>\r\n       <use x=\"573.958984\" xlink:href=\"#DejaVuSans-32\"/>\r\n       <use x=\"605.746094\" xlink:href=\"#DejaVuSans-83\"/>\r\n       <use x=\"669.222656\" xlink:href=\"#DejaVuSans-70\"/>\r\n      </g>\r\n     </g>\r\n    </g>\r\n    <g id=\"xtick_16\">\r\n     <g id=\"line2d_16\">\r\n      <g>\r\n       <use style=\"stroke:#000000;stroke-width:0.8;\" x=\"744.81875\" xlink:href=\"#m025b79b430\" y=\"554.599219\"/>\r\n      </g>\r\n     </g>\r\n     <g id=\"text_16\">\r\n      <!-- SalePrice -->\r\n      <g transform=\"translate(747.578125 607.402344)rotate(-90)scale(0.1 -0.1)\">\r\n       <use xlink:href=\"#DejaVuSans-83\"/>\r\n       <use x=\"63.476562\" xlink:href=\"#DejaVuSans-97\"/>\r\n       <use x=\"124.755859\" xlink:href=\"#DejaVuSans-108\"/>\r\n       <use x=\"152.539062\" xlink:href=\"#DejaVuSans-101\"/>\r\n       <use x=\"214.0625\" xlink:href=\"#DejaVuSans-80\"/>\r\n       <use x=\"272.615234\" xlink:href=\"#DejaVuSans-114\"/>\r\n       <use x=\"313.728516\" xlink:href=\"#DejaVuSans-105\"/>\r\n       <use x=\"341.511719\" xlink:href=\"#DejaVuSans-99\"/>\r\n       <use x=\"396.492188\" xlink:href=\"#DejaVuSans-101\"/>\r\n      </g>\r\n     </g>\r\n    </g>\r\n   </g>\r\n   <g id=\"matplotlib.axis_2\">\r\n    <g id=\"ytick_1\">\r\n     <g id=\"line2d_17\">\r\n      <defs>\r\n       <path d=\"M 0 0 \r\nL -3.5 0 \r\n\" id=\"m31d5c60e5d\" style=\"stroke:#000000;stroke-width:0.8;\"/>\r\n      </defs>\r\n      <g>\r\n       <use style=\"stroke:#000000;stroke-width:0.8;\" x=\"96.14375\" xlink:href=\"#m31d5c60e5d\" y=\"27.986719\"/>\r\n      </g>\r\n     </g>\r\n     <g id=\"text_17\">\r\n      <!-- Overall Qual -->\r\n      <g transform=\"translate(27.110938 31.785937)scale(0.1 -0.1)\">\r\n       <use xlink:href=\"#DejaVuSans-79\"/>\r\n       <use x=\"78.710938\" xlink:href=\"#DejaVuSans-118\"/>\r\n       <use x=\"137.890625\" xlink:href=\"#DejaVuSans-101\"/>\r\n       <use x=\"199.414062\" xlink:href=\"#DejaVuSans-114\"/>\r\n       <use x=\"240.527344\" xlink:href=\"#DejaVuSans-97\"/>\r\n       <use x=\"301.806641\" xlink:href=\"#DejaVuSans-108\"/>\r\n       <use x=\"329.589844\" xlink:href=\"#DejaVuSans-108\"/>\r\n       <use x=\"357.373047\" xlink:href=\"#DejaVuSans-32\"/>\r\n       <use x=\"389.160156\" xlink:href=\"#DejaVuSans-81\"/>\r\n       <use x=\"467.871094\" xlink:href=\"#DejaVuSans-117\"/>\r\n       <use x=\"531.25\" xlink:href=\"#DejaVuSans-97\"/>\r\n       <use x=\"592.529297\" xlink:href=\"#DejaVuSans-108\"/>\r\n      </g>\r\n     </g>\r\n    </g>\r\n    <g id=\"ytick_2\">\r\n     <g id=\"line2d_18\">\r\n      <g>\r\n       <use style=\"stroke:#000000;stroke-width:0.8;\" x=\"96.14375\" xlink:href=\"#m31d5c60e5d\" y=\"61.961719\"/>\r\n      </g>\r\n     </g>\r\n     <g id=\"text_18\">\r\n      <!-- Year Built -->\r\n      <g transform=\"translate(42.115625 65.760937)scale(0.1 -0.1)\">\r\n       <use xlink:href=\"#DejaVuSans-89\"/>\r\n       <use x=\"47.833984\" xlink:href=\"#DejaVuSans-101\"/>\r\n       <use x=\"109.357422\" xlink:href=\"#DejaVuSans-97\"/>\r\n       <use x=\"170.636719\" xlink:href=\"#DejaVuSans-114\"/>\r\n       <use x=\"211.75\" xlink:href=\"#DejaVuSans-32\"/>\r\n       <use x=\"243.537109\" xlink:href=\"#DejaVuSans-66\"/>\r\n       <use x=\"312.140625\" xlink:href=\"#DejaVuSans-117\"/>\r\n       <use x=\"375.519531\" xlink:href=\"#DejaVuSans-105\"/>\r\n       <use x=\"403.302734\" xlink:href=\"#DejaVuSans-108\"/>\r\n       <use x=\"431.085938\" xlink:href=\"#DejaVuSans-116\"/>\r\n      </g>\r\n     </g>\r\n    </g>\r\n    <g id=\"ytick_3\">\r\n     <g id=\"line2d_19\">\r\n      <g>\r\n       <use style=\"stroke:#000000;stroke-width:0.8;\" x=\"96.14375\" xlink:href=\"#m31d5c60e5d\" y=\"95.936719\"/>\r\n      </g>\r\n     </g>\r\n     <g id=\"text_19\">\r\n      <!-- Year Remod/Add -->\r\n      <g transform=\"translate(7.2 99.735937)scale(0.1 -0.1)\">\r\n       <use xlink:href=\"#DejaVuSans-89\"/>\r\n       <use x=\"47.833984\" xlink:href=\"#DejaVuSans-101\"/>\r\n       <use x=\"109.357422\" xlink:href=\"#DejaVuSans-97\"/>\r\n       <use x=\"170.636719\" xlink:href=\"#DejaVuSans-114\"/>\r\n       <use x=\"211.75\" xlink:href=\"#DejaVuSans-32\"/>\r\n       <use x=\"243.537109\" xlink:href=\"#DejaVuSans-82\"/>\r\n       <use x=\"308.519531\" xlink:href=\"#DejaVuSans-101\"/>\r\n       <use x=\"370.042969\" xlink:href=\"#DejaVuSans-109\"/>\r\n       <use x=\"467.455078\" xlink:href=\"#DejaVuSans-111\"/>\r\n       <use x=\"528.636719\" xlink:href=\"#DejaVuSans-100\"/>\r\n       <use x=\"592.113281\" xlink:href=\"#DejaVuSans-47\"/>\r\n       <use x=\"625.804688\" xlink:href=\"#DejaVuSans-65\"/>\r\n       <use x=\"692.462891\" xlink:href=\"#DejaVuSans-100\"/>\r\n       <use x=\"755.939453\" xlink:href=\"#DejaVuSans-100\"/>\r\n      </g>\r\n     </g>\r\n    </g>\r\n    <g id=\"ytick_4\">\r\n     <g id=\"line2d_20\">\r\n      <g>\r\n       <use style=\"stroke:#000000;stroke-width:0.8;\" x=\"96.14375\" xlink:href=\"#m31d5c60e5d\" y=\"129.911719\"/>\r\n      </g>\r\n     </g>\r\n     <g id=\"text_20\">\r\n      <!-- Mas Vnr Area -->\r\n      <g transform=\"translate(22.525 133.710938)scale(0.1 -0.1)\">\r\n       <use xlink:href=\"#DejaVuSans-77\"/>\r\n       <use x=\"86.279297\" xlink:href=\"#DejaVuSans-97\"/>\r\n       <use x=\"147.558594\" xlink:href=\"#DejaVuSans-115\"/>\r\n       <use x=\"199.658203\" xlink:href=\"#DejaVuSans-32\"/>\r\n       <use x=\"231.445312\" xlink:href=\"#DejaVuSans-86\"/>\r\n       <use x=\"299.853516\" xlink:href=\"#DejaVuSans-110\"/>\r\n       <use x=\"363.232422\" xlink:href=\"#DejaVuSans-114\"/>\r\n       <use x=\"404.345703\" xlink:href=\"#DejaVuSans-32\"/>\r\n       <use x=\"436.132812\" xlink:href=\"#DejaVuSans-65\"/>\r\n       <use x=\"504.541016\" xlink:href=\"#DejaVuSans-114\"/>\r\n       <use x=\"543.404297\" xlink:href=\"#DejaVuSans-101\"/>\r\n       <use x=\"604.927734\" xlink:href=\"#DejaVuSans-97\"/>\r\n      </g>\r\n     </g>\r\n    </g>\r\n    <g id=\"ytick_5\">\r\n     <g id=\"line2d_21\">\r\n      <g>\r\n       <use style=\"stroke:#000000;stroke-width:0.8;\" x=\"96.14375\" xlink:href=\"#m31d5c60e5d\" y=\"163.886719\"/>\r\n      </g>\r\n     </g>\r\n     <g id=\"text_21\">\r\n      <!-- BsmtFin SF 1 -->\r\n      <g transform=\"translate(24.451563 167.685937)scale(0.1 -0.1)\">\r\n       <use xlink:href=\"#DejaVuSans-66\"/>\r\n       <use x=\"68.603516\" xlink:href=\"#DejaVuSans-115\"/>\r\n       <use x=\"120.703125\" xlink:href=\"#DejaVuSans-109\"/>\r\n       <use x=\"218.115234\" xlink:href=\"#DejaVuSans-116\"/>\r\n       <use x=\"257.324219\" xlink:href=\"#DejaVuSans-70\"/>\r\n       <use x=\"307.59375\" xlink:href=\"#DejaVuSans-105\"/>\r\n       <use x=\"335.376953\" xlink:href=\"#DejaVuSans-110\"/>\r\n       <use x=\"398.755859\" xlink:href=\"#DejaVuSans-32\"/>\r\n       <use x=\"430.542969\" xlink:href=\"#DejaVuSans-83\"/>\r\n       <use x=\"494.019531\" xlink:href=\"#DejaVuSans-70\"/>\r\n       <use x=\"551.539062\" xlink:href=\"#DejaVuSans-32\"/>\r\n       <use x=\"583.326172\" xlink:href=\"#DejaVuSans-49\"/>\r\n      </g>\r\n     </g>\r\n    </g>\r\n    <g id=\"ytick_6\">\r\n     <g id=\"line2d_22\">\r\n      <g>\r\n       <use style=\"stroke:#000000;stroke-width:0.8;\" x=\"96.14375\" xlink:href=\"#m31d5c60e5d\" y=\"197.861719\"/>\r\n      </g>\r\n     </g>\r\n     <g id=\"text_22\">\r\n      <!-- Total Bsmt SF -->\r\n      <g transform=\"translate(21.603125 201.660937)scale(0.1 -0.1)\">\r\n       <use xlink:href=\"#DejaVuSans-84\"/>\r\n       <use x=\"44.083984\" xlink:href=\"#DejaVuSans-111\"/>\r\n       <use x=\"105.265625\" xlink:href=\"#DejaVuSans-116\"/>\r\n       <use x=\"144.474609\" xlink:href=\"#DejaVuSans-97\"/>\r\n       <use x=\"205.753906\" xlink:href=\"#DejaVuSans-108\"/>\r\n       <use x=\"233.537109\" xlink:href=\"#DejaVuSans-32\"/>\r\n       <use x=\"265.324219\" xlink:href=\"#DejaVuSans-66\"/>\r\n       <use x=\"333.927734\" xlink:href=\"#DejaVuSans-115\"/>\r\n       <use x=\"386.027344\" xlink:href=\"#DejaVuSans-109\"/>\r\n       <use x=\"483.439453\" xlink:href=\"#DejaVuSans-116\"/>\r\n       <use x=\"522.648438\" xlink:href=\"#DejaVuSans-32\"/>\r\n       <use x=\"554.435547\" xlink:href=\"#DejaVuSans-83\"/>\r\n       <use x=\"617.912109\" xlink:href=\"#DejaVuSans-70\"/>\r\n      </g>\r\n     </g>\r\n    </g>\r\n    <g id=\"ytick_7\">\r\n     <g id=\"line2d_23\">\r\n      <g>\r\n       <use style=\"stroke:#000000;stroke-width:0.8;\" x=\"96.14375\" xlink:href=\"#m31d5c60e5d\" y=\"231.836719\"/>\r\n      </g>\r\n     </g>\r\n     <g id=\"text_23\">\r\n      <!-- 1st Flr SF -->\r\n      <g transform=\"translate(42.554688 235.635937)scale(0.1 -0.1)\">\r\n       <use xlink:href=\"#DejaVuSans-49\"/>\r\n       <use x=\"63.623047\" xlink:href=\"#DejaVuSans-115\"/>\r\n       <use x=\"115.722656\" xlink:href=\"#DejaVuSans-116\"/>\r\n       <use x=\"154.931641\" xlink:href=\"#DejaVuSans-32\"/>\r\n       <use x=\"186.71875\" xlink:href=\"#DejaVuSans-70\"/>\r\n       <use x=\"244.238281\" xlink:href=\"#DejaVuSans-108\"/>\r\n       <use x=\"272.021484\" xlink:href=\"#DejaVuSans-114\"/>\r\n       <use x=\"313.134766\" xlink:href=\"#DejaVuSans-32\"/>\r\n       <use x=\"344.921875\" xlink:href=\"#DejaVuSans-83\"/>\r\n       <use x=\"408.398438\" xlink:href=\"#DejaVuSans-70\"/>\r\n      </g>\r\n     </g>\r\n    </g>\r\n    <g id=\"ytick_8\">\r\n     <g id=\"line2d_24\">\r\n      <g>\r\n       <use style=\"stroke:#000000;stroke-width:0.8;\" x=\"96.14375\" xlink:href=\"#m31d5c60e5d\" y=\"265.811719\"/>\r\n      </g>\r\n     </g>\r\n     <g id=\"text_24\">\r\n      <!-- Gr Liv Area -->\r\n      <g transform=\"translate(33.651563 269.610937)scale(0.1 -0.1)\">\r\n       <use xlink:href=\"#DejaVuSans-71\"/>\r\n       <use x=\"77.490234\" xlink:href=\"#DejaVuSans-114\"/>\r\n       <use x=\"118.603516\" xlink:href=\"#DejaVuSans-32\"/>\r\n       <use x=\"150.390625\" xlink:href=\"#DejaVuSans-76\"/>\r\n       <use x=\"206.103516\" xlink:href=\"#DejaVuSans-105\"/>\r\n       <use x=\"233.886719\" xlink:href=\"#DejaVuSans-118\"/>\r\n       <use x=\"293.066406\" xlink:href=\"#DejaVuSans-32\"/>\r\n       <use x=\"324.853516\" xlink:href=\"#DejaVuSans-65\"/>\r\n       <use x=\"393.261719\" xlink:href=\"#DejaVuSans-114\"/>\r\n       <use x=\"432.125\" xlink:href=\"#DejaVuSans-101\"/>\r\n       <use x=\"493.648438\" xlink:href=\"#DejaVuSans-97\"/>\r\n      </g>\r\n     </g>\r\n    </g>\r\n    <g id=\"ytick_9\">\r\n     <g id=\"line2d_25\">\r\n      <g>\r\n       <use style=\"stroke:#000000;stroke-width:0.8;\" x=\"96.14375\" xlink:href=\"#m31d5c60e5d\" y=\"299.786719\"/>\r\n      </g>\r\n     </g>\r\n     <g id=\"text_25\">\r\n      <!-- Full Bath -->\r\n      <g transform=\"translate(45.623438 303.585937)scale(0.1 -0.1)\">\r\n       <use xlink:href=\"#DejaVuSans-70\"/>\r\n       <use x=\"52.019531\" xlink:href=\"#DejaVuSans-117\"/>\r\n       <use x=\"115.398438\" xlink:href=\"#DejaVuSans-108\"/>\r\n       <use x=\"143.181641\" xlink:href=\"#DejaVuSans-108\"/>\r\n       <use x=\"170.964844\" xlink:href=\"#DejaVuSans-32\"/>\r\n       <use x=\"202.751953\" xlink:href=\"#DejaVuSans-66\"/>\r\n       <use x=\"271.355469\" xlink:href=\"#DejaVuSans-97\"/>\r\n       <use x=\"332.634766\" xlink:href=\"#DejaVuSans-116\"/>\r\n       <use x=\"371.84375\" xlink:href=\"#DejaVuSans-104\"/>\r\n      </g>\r\n     </g>\r\n    </g>\r\n    <g id=\"ytick_10\">\r\n     <g id=\"line2d_26\">\r\n      <g>\r\n       <use style=\"stroke:#000000;stroke-width:0.8;\" x=\"96.14375\" xlink:href=\"#m31d5c60e5d\" y=\"333.761719\"/>\r\n      </g>\r\n     </g>\r\n     <g id=\"text_26\">\r\n      <!-- TotRms AbvGrd -->\r\n      <g transform=\"translate(12.479688 337.560937)scale(0.1 -0.1)\">\r\n       <use xlink:href=\"#DejaVuSans-84\"/>\r\n       <use x=\"44.083984\" xlink:href=\"#DejaVuSans-111\"/>\r\n       <use x=\"105.265625\" xlink:href=\"#DejaVuSans-116\"/>\r\n       <use x=\"144.474609\" xlink:href=\"#DejaVuSans-82\"/>\r\n       <use x=\"213.957031\" xlink:href=\"#DejaVuSans-109\"/>\r\n       <use x=\"311.369141\" xlink:href=\"#DejaVuSans-115\"/>\r\n       <use x=\"363.46875\" xlink:href=\"#DejaVuSans-32\"/>\r\n       <use x=\"395.255859\" xlink:href=\"#DejaVuSans-65\"/>\r\n       <use x=\"463.664062\" xlink:href=\"#DejaVuSans-98\"/>\r\n       <use x=\"527.140625\" xlink:href=\"#DejaVuSans-118\"/>\r\n       <use x=\"586.320312\" xlink:href=\"#DejaVuSans-71\"/>\r\n       <use x=\"663.810547\" xlink:href=\"#DejaVuSans-114\"/>\r\n       <use x=\"703.173828\" xlink:href=\"#DejaVuSans-100\"/>\r\n      </g>\r\n     </g>\r\n    </g>\r\n    <g id=\"ytick_11\">\r\n     <g id=\"line2d_27\">\r\n      <g>\r\n       <use style=\"stroke:#000000;stroke-width:0.8;\" x=\"96.14375\" xlink:href=\"#m31d5c60e5d\" y=\"367.736719\"/>\r\n      </g>\r\n     </g>\r\n     <g id=\"text_27\">\r\n      <!-- Fireplaces -->\r\n      <g transform=\"translate(39.184375 371.535937)scale(0.1 -0.1)\">\r\n       <use xlink:href=\"#DejaVuSans-70\"/>\r\n       <use x=\"50.269531\" xlink:href=\"#DejaVuSans-105\"/>\r\n       <use x=\"78.052734\" xlink:href=\"#DejaVuSans-114\"/>\r\n       <use x=\"116.916016\" xlink:href=\"#DejaVuSans-101\"/>\r\n       <use x=\"178.439453\" xlink:href=\"#DejaVuSans-112\"/>\r\n       <use x=\"241.916016\" xlink:href=\"#DejaVuSans-108\"/>\r\n       <use x=\"269.699219\" xlink:href=\"#DejaVuSans-97\"/>\r\n       <use x=\"330.978516\" xlink:href=\"#DejaVuSans-99\"/>\r\n       <use x=\"385.958984\" xlink:href=\"#DejaVuSans-101\"/>\r\n       <use x=\"447.482422\" xlink:href=\"#DejaVuSans-115\"/>\r\n      </g>\r\n     </g>\r\n    </g>\r\n    <g id=\"ytick_12\">\r\n     <g id=\"line2d_28\">\r\n      <g>\r\n       <use style=\"stroke:#000000;stroke-width:0.8;\" x=\"96.14375\" xlink:href=\"#m31d5c60e5d\" y=\"401.711719\"/>\r\n      </g>\r\n     </g>\r\n     <g id=\"text_28\">\r\n      <!-- Garage Cars -->\r\n      <g transform=\"translate(26.917188 405.510937)scale(0.1 -0.1)\">\r\n       <use xlink:href=\"#DejaVuSans-71\"/>\r\n       <use x=\"77.490234\" xlink:href=\"#DejaVuSans-97\"/>\r\n       <use x=\"138.769531\" xlink:href=\"#DejaVuSans-114\"/>\r\n       <use x=\"179.882812\" xlink:href=\"#DejaVuSans-97\"/>\r\n       <use x=\"241.162109\" xlink:href=\"#DejaVuSans-103\"/>\r\n       <use x=\"304.638672\" xlink:href=\"#DejaVuSans-101\"/>\r\n       <use x=\"366.162109\" xlink:href=\"#DejaVuSans-32\"/>\r\n       <use x=\"397.949219\" xlink:href=\"#DejaVuSans-67\"/>\r\n       <use x=\"467.773438\" xlink:href=\"#DejaVuSans-97\"/>\r\n       <use x=\"529.052734\" xlink:href=\"#DejaVuSans-114\"/>\r\n       <use x=\"570.166016\" xlink:href=\"#DejaVuSans-115\"/>\r\n      </g>\r\n     </g>\r\n    </g>\r\n    <g id=\"ytick_13\">\r\n     <g id=\"line2d_29\">\r\n      <g>\r\n       <use style=\"stroke:#000000;stroke-width:0.8;\" x=\"96.14375\" xlink:href=\"#m31d5c60e5d\" y=\"435.686719\"/>\r\n      </g>\r\n     </g>\r\n     <g id=\"text_29\">\r\n      <!-- Garage Area -->\r\n      <g transform=\"translate(26.340625 439.485937)scale(0.1 -0.1)\">\r\n       <use xlink:href=\"#DejaVuSans-71\"/>\r\n       <use x=\"77.490234\" xlink:href=\"#DejaVuSans-97\"/>\r\n       <use x=\"138.769531\" xlink:href=\"#DejaVuSans-114\"/>\r\n       <use x=\"179.882812\" xlink:href=\"#DejaVuSans-97\"/>\r\n       <use x=\"241.162109\" xlink:href=\"#DejaVuSans-103\"/>\r\n       <use x=\"304.638672\" xlink:href=\"#DejaVuSans-101\"/>\r\n       <use x=\"366.162109\" xlink:href=\"#DejaVuSans-32\"/>\r\n       <use x=\"397.949219\" xlink:href=\"#DejaVuSans-65\"/>\r\n       <use x=\"466.357422\" xlink:href=\"#DejaVuSans-114\"/>\r\n       <use x=\"505.220703\" xlink:href=\"#DejaVuSans-101\"/>\r\n       <use x=\"566.744141\" xlink:href=\"#DejaVuSans-97\"/>\r\n      </g>\r\n     </g>\r\n    </g>\r\n    <g id=\"ytick_14\">\r\n     <g id=\"line2d_30\">\r\n      <g>\r\n       <use style=\"stroke:#000000;stroke-width:0.8;\" x=\"96.14375\" xlink:href=\"#m31d5c60e5d\" y=\"469.661719\"/>\r\n      </g>\r\n     </g>\r\n     <g id=\"text_30\">\r\n      <!-- Wood Deck SF -->\r\n      <g transform=\"translate(17.659375 473.460937)scale(0.1 -0.1)\">\r\n       <use xlink:href=\"#DejaVuSans-87\"/>\r\n       <use x=\"93.001953\" xlink:href=\"#DejaVuSans-111\"/>\r\n       <use x=\"154.183594\" xlink:href=\"#DejaVuSans-111\"/>\r\n       <use x=\"215.365234\" xlink:href=\"#DejaVuSans-100\"/>\r\n       <use x=\"278.841797\" xlink:href=\"#DejaVuSans-32\"/>\r\n       <use x=\"310.628906\" xlink:href=\"#DejaVuSans-68\"/>\r\n       <use x=\"387.630859\" xlink:href=\"#DejaVuSans-101\"/>\r\n       <use x=\"449.154297\" xlink:href=\"#DejaVuSans-99\"/>\r\n       <use x=\"504.134766\" xlink:href=\"#DejaVuSans-107\"/>\r\n       <use x=\"562.044922\" xlink:href=\"#DejaVuSans-32\"/>\r\n       <use x=\"593.832031\" xlink:href=\"#DejaVuSans-83\"/>\r\n       <use x=\"657.308594\" xlink:href=\"#DejaVuSans-70\"/>\r\n      </g>\r\n     </g>\r\n    </g>\r\n    <g id=\"ytick_15\">\r\n     <g id=\"line2d_31\">\r\n      <g>\r\n       <use style=\"stroke:#000000;stroke-width:0.8;\" x=\"96.14375\" xlink:href=\"#m31d5c60e5d\" y=\"503.636719\"/>\r\n      </g>\r\n     </g>\r\n     <g id=\"text_31\">\r\n      <!-- Open Porch SF -->\r\n      <g transform=\"translate(16.46875 507.435937)scale(0.1 -0.1)\">\r\n       <use xlink:href=\"#DejaVuSans-79\"/>\r\n       <use x=\"78.710938\" xlink:href=\"#DejaVuSans-112\"/>\r\n       <use x=\"142.1875\" xlink:href=\"#DejaVuSans-101\"/>\r\n       <use x=\"203.710938\" xlink:href=\"#DejaVuSans-110\"/>\r\n       <use x=\"267.089844\" xlink:href=\"#DejaVuSans-32\"/>\r\n       <use x=\"298.876953\" xlink:href=\"#DejaVuSans-80\"/>\r\n       <use x=\"355.554688\" xlink:href=\"#DejaVuSans-111\"/>\r\n       <use x=\"416.736328\" xlink:href=\"#DejaVuSans-114\"/>\r\n       <use x=\"455.599609\" xlink:href=\"#DejaVuSans-99\"/>\r\n       <use x=\"510.580078\" xlink:href=\"#DejaVuSans-104\"/>\r\n       <use x=\"573.958984\" xlink:href=\"#DejaVuSans-32\"/>\r\n       <use x=\"605.746094\" xlink:href=\"#DejaVuSans-83\"/>\r\n       <use x=\"669.222656\" xlink:href=\"#DejaVuSans-70\"/>\r\n      </g>\r\n     </g>\r\n    </g>\r\n    <g id=\"ytick_16\">\r\n     <g id=\"line2d_32\">\r\n      <g>\r\n       <use style=\"stroke:#000000;stroke-width:0.8;\" x=\"96.14375\" xlink:href=\"#m31d5c60e5d\" y=\"537.611719\"/>\r\n      </g>\r\n     </g>\r\n     <g id=\"text_32\">\r\n      <!-- SalePrice -->\r\n      <g transform=\"translate(43.340625 541.410937)scale(0.1 -0.1)\">\r\n       <use xlink:href=\"#DejaVuSans-83\"/>\r\n       <use x=\"63.476562\" xlink:href=\"#DejaVuSans-97\"/>\r\n       <use x=\"124.755859\" xlink:href=\"#DejaVuSans-108\"/>\r\n       <use x=\"152.539062\" xlink:href=\"#DejaVuSans-101\"/>\r\n       <use x=\"214.0625\" xlink:href=\"#DejaVuSans-80\"/>\r\n       <use x=\"272.615234\" xlink:href=\"#DejaVuSans-114\"/>\r\n       <use x=\"313.728516\" xlink:href=\"#DejaVuSans-105\"/>\r\n       <use x=\"341.511719\" xlink:href=\"#DejaVuSans-99\"/>\r\n       <use x=\"396.492188\" xlink:href=\"#DejaVuSans-101\"/>\r\n      </g>\r\n     </g>\r\n    </g>\r\n   </g>\r\n  </g>\r\n  <g id=\"axes_2\">\r\n   <g id=\"patch_3\">\r\n    <path clip-path=\"url(#p9a81007a64)\" d=\"M 807.59375 554.599219 \r\nL 807.59375 552.475781 \r\nL 807.59375 13.122656 \r\nL 807.59375 10.999219 \r\nL 834.77375 10.999219 \r\nL 834.77375 13.122656 \r\nL 834.77375 552.475781 \r\nL 834.77375 554.599219 \r\nz\r\n\" style=\"fill:#ffffff;stroke:#ffffff;stroke-linejoin:miter;stroke-width:0.01;\"/>\r\n   </g>\r\n   <image height=\"544\" id=\"image78598d3215\" transform=\"scale(1 -1)translate(0 -544)\" width=\"27\" x=\"808\" xlink:href=\"data:image/png;base64,\r\niVBORw0KGgoAAAANSUhEUgAAABsAAAIgCAYAAAB09hISAAAABHNCSVQICAgIfAhkiAAAAo1JREFUeJztnYttLUEIxYbNvCZe/30mTVhIY9kNIHIMbPbmMz///v+eJb6tQuecc2ex2HJns9dbnSHcOdrOtJl91s5SH8EriHmotTaKM9N2Js6sOQPosQChdYXgVb91hVBmCHdmr15b/71i5hNjFaTMEMoMocwQyuy9YurnRmtnZUbQukLIRoQye6+Y98so/oGhnogJmjOETgxCc/ZesbtZraFGaKgRmjMEs43iDbKH+Hia15W3sz2yEUFsY294CNog7xVTr6s9ygxBnFnHk6DMELxz1iJG8ArSukLIRoRsRMjG94qlPsJyZ2t/E6qhhlDP2R5tEASvjamPID4xWvXNNi4Wa84QmjOEOnuv2B3tUGsFMXemtbETQ5CNCF4bt9XfMyT1EcTrSjvU9/vVztlisWxE8G79TgzCHasg4nXl7SwbCcoMoeOJcL/Fx6vURzCvq8VPEbbnzNqZ+Pszb2bWzhIE4S7+7nbqM2QjQjYimG1cfOEoPp7iobYK0rpC2LZxr1g2Iqg3yF4x8/H0CuLtzKq+ObOOJ0CZIXjnLEEQ7mmoAeoMQdzZZrkyQ/BmliAIXkHuLP6UV5khlBnCdmfWzLQ2pj5C6iOUGYK4M++/JPNmZu5sr576scAqSMeTYPtDBOlQmzPTdjbWE+PNrHWF4BXE+9xozqw5A+h4Ingza6gRvIKYj6f45aY2M3FnWhutWz/1Ecyvba3qi20Ud9YDD0Ab5L1iZkG8nbWuAOoMwbuIywyh44mQIAjmzLydZSNAmSF4M0sQBK8gd+ZnrViZIZg7a4MAlNl7xe75tIvYKkhDjdADD0I2IpTZe8XUgmjXlTgza2dTZgDNGYJ3NyYIgnioW8QEzRlCixjhD1zwL/+PEyr7AAAAAElFTkSuQmCC\" y=\"-10\"/>\r\n   <g id=\"matplotlib.axis_3\"/>\r\n   <g id=\"matplotlib.axis_4\">\r\n    <g id=\"ytick_17\">\r\n     <g id=\"line2d_33\">\r\n      <defs>\r\n       <path d=\"M 0 0 \r\nL 3.5 0 \r\n\" id=\"m0fa0ae5819\" style=\"stroke:#000000;stroke-width:0.8;\"/>\r\n      </defs>\r\n      <g>\r\n       <use style=\"stroke:#000000;stroke-width:0.8;\" x=\"834.77375\" xlink:href=\"#m0fa0ae5819\" y=\"463.642152\"/>\r\n      </g>\r\n     </g>\r\n     <g id=\"text_33\">\r\n      <!-- 0.2 -->\r\n      <defs>\r\n       <path d=\"M 31.78125 66.40625 \r\nQ 24.171875 66.40625 20.328125 58.90625 \r\nQ 16.5 51.421875 16.5 36.375 \r\nQ 16.5 21.390625 20.328125 13.890625 \r\nQ 24.171875 6.390625 31.78125 6.390625 \r\nQ 39.453125 6.390625 43.28125 13.890625 \r\nQ 47.125 21.390625 47.125 36.375 \r\nQ 47.125 51.421875 43.28125 58.90625 \r\nQ 39.453125 66.40625 31.78125 66.40625 \r\nz\r\nM 31.78125 74.21875 \r\nQ 44.046875 74.21875 50.515625 64.515625 \r\nQ 56.984375 54.828125 56.984375 36.375 \r\nQ 56.984375 17.96875 50.515625 8.265625 \r\nQ 44.046875 -1.421875 31.78125 -1.421875 \r\nQ 19.53125 -1.421875 13.0625 8.265625 \r\nQ 6.59375 17.96875 6.59375 36.375 \r\nQ 6.59375 54.828125 13.0625 64.515625 \r\nQ 19.53125 74.21875 31.78125 74.21875 \r\nz\r\n\" id=\"DejaVuSans-48\"/>\r\n       <path d=\"M 10.6875 12.40625 \r\nL 21 12.40625 \r\nL 21 0 \r\nL 10.6875 0 \r\nz\r\n\" id=\"DejaVuSans-46\"/>\r\n       <path d=\"M 19.1875 8.296875 \r\nL 53.609375 8.296875 \r\nL 53.609375 0 \r\nL 7.328125 0 \r\nL 7.328125 8.296875 \r\nQ 12.9375 14.109375 22.625 23.890625 \r\nQ 32.328125 33.6875 34.8125 36.53125 \r\nQ 39.546875 41.84375 41.421875 45.53125 \r\nQ 43.3125 49.21875 43.3125 52.78125 \r\nQ 43.3125 58.59375 39.234375 62.25 \r\nQ 35.15625 65.921875 28.609375 65.921875 \r\nQ 23.96875 65.921875 18.8125 64.3125 \r\nQ 13.671875 62.703125 7.8125 59.421875 \r\nL 7.8125 69.390625 \r\nQ 13.765625 71.78125 18.9375 73 \r\nQ 24.125 74.21875 28.421875 74.21875 \r\nQ 39.75 74.21875 46.484375 68.546875 \r\nQ 53.21875 62.890625 53.21875 53.421875 \r\nQ 53.21875 48.921875 51.53125 44.890625 \r\nQ 49.859375 40.875 45.40625 35.40625 \r\nQ 44.1875 33.984375 37.640625 27.21875 \r\nQ 31.109375 20.453125 19.1875 8.296875 \r\nz\r\n\" id=\"DejaVuSans-50\"/>\r\n      </defs>\r\n      <g transform=\"translate(841.77375 467.441371)scale(0.1 -0.1)\">\r\n       <use xlink:href=\"#DejaVuSans-48\"/>\r\n       <use x=\"63.623047\" xlink:href=\"#DejaVuSans-46\"/>\r\n       <use x=\"95.410156\" xlink:href=\"#DejaVuSans-50\"/>\r\n      </g>\r\n     </g>\r\n    </g>\r\n    <g id=\"ytick_18\">\r\n     <g id=\"line2d_34\">\r\n      <g>\r\n       <use style=\"stroke:#000000;stroke-width:0.8;\" x=\"834.77375\" xlink:href=\"#m0fa0ae5819\" y=\"350.481419\"/>\r\n      </g>\r\n     </g>\r\n     <g id=\"text_34\">\r\n      <!-- 0.4 -->\r\n      <defs>\r\n       <path d=\"M 37.796875 64.3125 \r\nL 12.890625 25.390625 \r\nL 37.796875 25.390625 \r\nz\r\nM 35.203125 72.90625 \r\nL 47.609375 72.90625 \r\nL 47.609375 25.390625 \r\nL 58.015625 25.390625 \r\nL 58.015625 17.1875 \r\nL 47.609375 17.1875 \r\nL 47.609375 0 \r\nL 37.796875 0 \r\nL 37.796875 17.1875 \r\nL 4.890625 17.1875 \r\nL 4.890625 26.703125 \r\nz\r\n\" id=\"DejaVuSans-52\"/>\r\n      </defs>\r\n      <g transform=\"translate(841.77375 354.280637)scale(0.1 -0.1)\">\r\n       <use xlink:href=\"#DejaVuSans-48\"/>\r\n       <use x=\"63.623047\" xlink:href=\"#DejaVuSans-46\"/>\r\n       <use x=\"95.410156\" xlink:href=\"#DejaVuSans-52\"/>\r\n      </g>\r\n     </g>\r\n    </g>\r\n    <g id=\"ytick_19\">\r\n     <g id=\"line2d_35\">\r\n      <g>\r\n       <use style=\"stroke:#000000;stroke-width:0.8;\" x=\"834.77375\" xlink:href=\"#m0fa0ae5819\" y=\"237.320685\"/>\r\n      </g>\r\n     </g>\r\n     <g id=\"text_35\">\r\n      <!-- 0.6 -->\r\n      <defs>\r\n       <path d=\"M 33.015625 40.375 \r\nQ 26.375 40.375 22.484375 35.828125 \r\nQ 18.609375 31.296875 18.609375 23.390625 \r\nQ 18.609375 15.53125 22.484375 10.953125 \r\nQ 26.375 6.390625 33.015625 6.390625 \r\nQ 39.65625 6.390625 43.53125 10.953125 \r\nQ 47.40625 15.53125 47.40625 23.390625 \r\nQ 47.40625 31.296875 43.53125 35.828125 \r\nQ 39.65625 40.375 33.015625 40.375 \r\nz\r\nM 52.59375 71.296875 \r\nL 52.59375 62.3125 \r\nQ 48.875 64.0625 45.09375 64.984375 \r\nQ 41.3125 65.921875 37.59375 65.921875 \r\nQ 27.828125 65.921875 22.671875 59.328125 \r\nQ 17.53125 52.734375 16.796875 39.40625 \r\nQ 19.671875 43.65625 24.015625 45.921875 \r\nQ 28.375 48.1875 33.59375 48.1875 \r\nQ 44.578125 48.1875 50.953125 41.515625 \r\nQ 57.328125 34.859375 57.328125 23.390625 \r\nQ 57.328125 12.15625 50.6875 5.359375 \r\nQ 44.046875 -1.421875 33.015625 -1.421875 \r\nQ 20.359375 -1.421875 13.671875 8.265625 \r\nQ 6.984375 17.96875 6.984375 36.375 \r\nQ 6.984375 53.65625 15.1875 63.9375 \r\nQ 23.390625 74.21875 37.203125 74.21875 \r\nQ 40.921875 74.21875 44.703125 73.484375 \r\nQ 48.484375 72.75 52.59375 71.296875 \r\nz\r\n\" id=\"DejaVuSans-54\"/>\r\n      </defs>\r\n      <g transform=\"translate(841.77375 241.119904)scale(0.1 -0.1)\">\r\n       <use xlink:href=\"#DejaVuSans-48\"/>\r\n       <use x=\"63.623047\" xlink:href=\"#DejaVuSans-46\"/>\r\n       <use x=\"95.410156\" xlink:href=\"#DejaVuSans-54\"/>\r\n      </g>\r\n     </g>\r\n    </g>\r\n    <g id=\"ytick_20\">\r\n     <g id=\"line2d_36\">\r\n      <g>\r\n       <use style=\"stroke:#000000;stroke-width:0.8;\" x=\"834.77375\" xlink:href=\"#m0fa0ae5819\" y=\"124.159952\"/>\r\n      </g>\r\n     </g>\r\n     <g id=\"text_36\">\r\n      <!-- 0.8 -->\r\n      <defs>\r\n       <path d=\"M 31.78125 34.625 \r\nQ 24.75 34.625 20.71875 30.859375 \r\nQ 16.703125 27.09375 16.703125 20.515625 \r\nQ 16.703125 13.921875 20.71875 10.15625 \r\nQ 24.75 6.390625 31.78125 6.390625 \r\nQ 38.8125 6.390625 42.859375 10.171875 \r\nQ 46.921875 13.96875 46.921875 20.515625 \r\nQ 46.921875 27.09375 42.890625 30.859375 \r\nQ 38.875 34.625 31.78125 34.625 \r\nz\r\nM 21.921875 38.8125 \r\nQ 15.578125 40.375 12.03125 44.71875 \r\nQ 8.5 49.078125 8.5 55.328125 \r\nQ 8.5 64.0625 14.71875 69.140625 \r\nQ 20.953125 74.21875 31.78125 74.21875 \r\nQ 42.671875 74.21875 48.875 69.140625 \r\nQ 55.078125 64.0625 55.078125 55.328125 \r\nQ 55.078125 49.078125 51.53125 44.71875 \r\nQ 48 40.375 41.703125 38.8125 \r\nQ 48.828125 37.15625 52.796875 32.3125 \r\nQ 56.78125 27.484375 56.78125 20.515625 \r\nQ 56.78125 9.90625 50.3125 4.234375 \r\nQ 43.84375 -1.421875 31.78125 -1.421875 \r\nQ 19.734375 -1.421875 13.25 4.234375 \r\nQ 6.78125 9.90625 6.78125 20.515625 \r\nQ 6.78125 27.484375 10.78125 32.3125 \r\nQ 14.796875 37.15625 21.921875 38.8125 \r\nz\r\nM 18.3125 54.390625 \r\nQ 18.3125 48.734375 21.84375 45.5625 \r\nQ 25.390625 42.390625 31.78125 42.390625 \r\nQ 38.140625 42.390625 41.71875 45.5625 \r\nQ 45.3125 48.734375 45.3125 54.390625 \r\nQ 45.3125 60.0625 41.71875 63.234375 \r\nQ 38.140625 66.40625 31.78125 66.40625 \r\nQ 25.390625 66.40625 21.84375 63.234375 \r\nQ 18.3125 60.0625 18.3125 54.390625 \r\nz\r\n\" id=\"DejaVuSans-56\"/>\r\n      </defs>\r\n      <g transform=\"translate(841.77375 127.959171)scale(0.1 -0.1)\">\r\n       <use xlink:href=\"#DejaVuSans-48\"/>\r\n       <use x=\"63.623047\" xlink:href=\"#DejaVuSans-46\"/>\r\n       <use x=\"95.410156\" xlink:href=\"#DejaVuSans-56\"/>\r\n      </g>\r\n     </g>\r\n    </g>\r\n    <g id=\"ytick_21\">\r\n     <g id=\"line2d_37\">\r\n      <g>\r\n       <use style=\"stroke:#000000;stroke-width:0.8;\" x=\"834.77375\" xlink:href=\"#m0fa0ae5819\" y=\"10.999219\"/>\r\n      </g>\r\n     </g>\r\n     <g id=\"text_37\">\r\n      <!-- 1.0 -->\r\n      <g transform=\"translate(841.77375 14.798437)scale(0.1 -0.1)\">\r\n       <use xlink:href=\"#DejaVuSans-49\"/>\r\n       <use x=\"63.623047\" xlink:href=\"#DejaVuSans-46\"/>\r\n       <use x=\"95.410156\" xlink:href=\"#DejaVuSans-48\"/>\r\n      </g>\r\n     </g>\r\n    </g>\r\n   </g>\r\n   <g id=\"patch_4\">\r\n    <path d=\"M 807.59375 554.599219 \r\nL 807.59375 552.475781 \r\nL 807.59375 13.122656 \r\nL 807.59375 10.999219 \r\nL 834.77375 10.999219 \r\nL 834.77375 13.122656 \r\nL 834.77375 552.475781 \r\nL 834.77375 554.599219 \r\nz\r\n\" style=\"fill:none;\"/>\r\n   </g>\r\n  </g>\r\n </g>\r\n <defs>\r\n  <clipPath id=\"p7e007545ef\">\r\n   <rect height=\"543.6\" width=\"669.6\" x=\"96.14375\" y=\"10.999219\"/>\r\n  </clipPath>\r\n  <clipPath id=\"p9a81007a64\">\r\n   <rect height=\"543.6\" width=\"27.18\" x=\"807.59375\" y=\"10.999219\"/>\r\n  </clipPath>\r\n </defs>\r\n</svg>\r\n",
      "image/png": "[encoded data removed]"
     },
     "metadata": {
      "needs_background": "light"
     }
    }
   ],
   "source": [
    "fig, ax = plt.subplots(figsize=(15,10)) \n",
    "sns.heatmap(data_num[num_features].corr())"
   ]
  },
  {
   "cell_type": "code",
   "execution_count": 22,
   "metadata": {},
   "outputs": [],
   "source": [
    "#Preference for continous variables since this project will use a linear regression model\n",
    "columns_collinearity= [\"TotRms AbvGrd\", \"Garage Cars\", \"Total Bsmt SF\"]"
   ]
  },
  {
   "cell_type": "code",
   "execution_count": 23,
   "metadata": {},
   "outputs": [],
   "source": [
    "num_features = num_features.drop(columns_collinearity)\n"
   ]
  },
  {
   "cell_type": "code",
   "execution_count": 24,
   "metadata": {},
   "outputs": [
    {
     "output_type": "execute_result",
     "data": {
      "text/plain": [
       "      Overall Qual  Year Built  Year Remod/Add  Mas Vnr Area  BsmtFin SF 1  \\\n",
       "0                6        1960            1960         112.0         639.0   \n",
       "1                5        1961            1961           0.0         468.0   \n",
       "2                6        1958            1958         108.0         923.0   \n",
       "3                7        1968            1968           0.0        1065.0   \n",
       "4                5        1997            1998           0.0         791.0   \n",
       "...            ...         ...             ...           ...           ...   \n",
       "2925             6        1984            1984           0.0         819.0   \n",
       "2926             5        1983            1983           0.0         301.0   \n",
       "2927             5        1992            1992           0.0         337.0   \n",
       "2928             5        1974            1975           0.0        1071.0   \n",
       "2929             7        1993            1994          94.0         758.0   \n",
       "\n",
       "      1st Flr SF  Gr Liv Area  Full Bath  Fireplaces  Garage Area  \\\n",
       "0           1656         1656          1           2        528.0   \n",
       "1            896          896          1           0        730.0   \n",
       "2           1329         1329          1           0        312.0   \n",
       "3           2110         2110          2           2        522.0   \n",
       "4            928         1629          2           1        482.0   \n",
       "...          ...          ...        ...         ...          ...   \n",
       "2925        1003         1003          1           0        588.0   \n",
       "2926         902          902          1           0        484.0   \n",
       "2927         970          970          1           0          0.0   \n",
       "2928        1389         1389          1           1        418.0   \n",
       "2929         996         2000          2           1        650.0   \n",
       "\n",
       "      Wood Deck SF  Open Porch SF  SalePrice  \n",
       "0              210             62     215000  \n",
       "1              140              0     105000  \n",
       "2              393             36     172000  \n",
       "3                0              0     244000  \n",
       "4              212             34     189900  \n",
       "...            ...            ...        ...  \n",
       "2925           120              0     142500  \n",
       "2926           164              0     131000  \n",
       "2927            80             32     132000  \n",
       "2928           240             38     170000  \n",
       "2929           190             48     188000  \n",
       "\n",
       "[2930 rows x 13 columns]"
      ],
      "text/html": "<div>\n<style scoped>\n    .dataframe tbody tr th:only-of-type {\n        vertical-align: middle;\n    }\n\n    .dataframe tbody tr th {\n        vertical-align: top;\n    }\n\n    .dataframe thead th {\n        text-align: right;\n    }\n</style>\n<table border=\"1\" class=\"dataframe\">\n  <thead>\n    <tr style=\"text-align: right;\">\n      <th></th>\n      <th>Overall Qual</th>\n      <th>Year Built</th>\n      <th>Year Remod/Add</th>\n      <th>Mas Vnr Area</th>\n      <th>BsmtFin SF 1</th>\n      <th>1st Flr SF</th>\n      <th>Gr Liv Area</th>\n      <th>Full Bath</th>\n      <th>Fireplaces</th>\n      <th>Garage Area</th>\n      <th>Wood Deck SF</th>\n      <th>Open Porch SF</th>\n      <th>SalePrice</th>\n    </tr>\n  </thead>\n  <tbody>\n    <tr>\n      <th>0</th>\n      <td>6</td>\n      <td>1960</td>\n      <td>1960</td>\n      <td>112.0</td>\n      <td>639.0</td>\n      <td>1656</td>\n      <td>1656</td>\n      <td>1</td>\n      <td>2</td>\n      <td>528.0</td>\n      <td>210</td>\n      <td>62</td>\n      <td>215000</td>\n    </tr>\n    <tr>\n      <th>1</th>\n      <td>5</td>\n      <td>1961</td>\n      <td>1961</td>\n      <td>0.0</td>\n      <td>468.0</td>\n      <td>896</td>\n      <td>896</td>\n      <td>1</td>\n      <td>0</td>\n      <td>730.0</td>\n      <td>140</td>\n      <td>0</td>\n      <td>105000</td>\n    </tr>\n    <tr>\n      <th>2</th>\n      <td>6</td>\n      <td>1958</td>\n      <td>1958</td>\n      <td>108.0</td>\n      <td>923.0</td>\n      <td>1329</td>\n      <td>1329</td>\n      <td>1</td>\n      <td>0</td>\n      <td>312.0</td>\n      <td>393</td>\n      <td>36</td>\n      <td>172000</td>\n    </tr>\n    <tr>\n      <th>3</th>\n      <td>7</td>\n      <td>1968</td>\n      <td>1968</td>\n      <td>0.0</td>\n      <td>1065.0</td>\n      <td>2110</td>\n      <td>2110</td>\n      <td>2</td>\n      <td>2</td>\n      <td>522.0</td>\n      <td>0</td>\n      <td>0</td>\n      <td>244000</td>\n    </tr>\n    <tr>\n      <th>4</th>\n      <td>5</td>\n      <td>1997</td>\n      <td>1998</td>\n      <td>0.0</td>\n      <td>791.0</td>\n      <td>928</td>\n      <td>1629</td>\n      <td>2</td>\n      <td>1</td>\n      <td>482.0</td>\n      <td>212</td>\n      <td>34</td>\n      <td>189900</td>\n    </tr>\n    <tr>\n      <th>...</th>\n      <td>...</td>\n      <td>...</td>\n      <td>...</td>\n      <td>...</td>\n      <td>...</td>\n      <td>...</td>\n      <td>...</td>\n      <td>...</td>\n      <td>...</td>\n      <td>...</td>\n      <td>...</td>\n      <td>...</td>\n      <td>...</td>\n    </tr>\n    <tr>\n      <th>2925</th>\n      <td>6</td>\n      <td>1984</td>\n      <td>1984</td>\n      <td>0.0</td>\n      <td>819.0</td>\n      <td>1003</td>\n      <td>1003</td>\n      <td>1</td>\n      <td>0</td>\n      <td>588.0</td>\n      <td>120</td>\n      <td>0</td>\n      <td>142500</td>\n    </tr>\n    <tr>\n      <th>2926</th>\n      <td>5</td>\n      <td>1983</td>\n      <td>1983</td>\n      <td>0.0</td>\n      <td>301.0</td>\n      <td>902</td>\n      <td>902</td>\n      <td>1</td>\n      <td>0</td>\n      <td>484.0</td>\n      <td>164</td>\n      <td>0</td>\n      <td>131000</td>\n    </tr>\n    <tr>\n      <th>2927</th>\n      <td>5</td>\n      <td>1992</td>\n      <td>1992</td>\n      <td>0.0</td>\n      <td>337.0</td>\n      <td>970</td>\n      <td>970</td>\n      <td>1</td>\n      <td>0</td>\n      <td>0.0</td>\n      <td>80</td>\n      <td>32</td>\n      <td>132000</td>\n    </tr>\n    <tr>\n      <th>2928</th>\n      <td>5</td>\n      <td>1974</td>\n      <td>1975</td>\n      <td>0.0</td>\n      <td>1071.0</td>\n      <td>1389</td>\n      <td>1389</td>\n      <td>1</td>\n      <td>1</td>\n      <td>418.0</td>\n      <td>240</td>\n      <td>38</td>\n      <td>170000</td>\n    </tr>\n    <tr>\n      <th>2929</th>\n      <td>7</td>\n      <td>1993</td>\n      <td>1994</td>\n      <td>94.0</td>\n      <td>758.0</td>\n      <td>996</td>\n      <td>2000</td>\n      <td>2</td>\n      <td>1</td>\n      <td>650.0</td>\n      <td>190</td>\n      <td>48</td>\n      <td>188000</td>\n    </tr>\n  </tbody>\n</table>\n<p>2930 rows × 13 columns</p>\n</div>"
     },
     "metadata": {},
     "execution_count": 24
    }
   ],
   "source": [
    "data_num[num_features]"
   ]
  },
  {
   "cell_type": "code",
   "execution_count": 25,
   "metadata": {},
   "outputs": [
    {
     "output_type": "execute_result",
     "data": {
      "text/plain": [
       "Index(['Overall Qual', 'Year Built', 'Year Remod/Add', 'Mas Vnr Area',\n",
       "       'BsmtFin SF 1', '1st Flr SF', 'Gr Liv Area', 'Full Bath', 'Fireplaces',\n",
       "       'Garage Area', 'Wood Deck SF', 'Open Porch SF', 'SalePrice'],\n",
       "      dtype='object')"
      ]
     },
     "metadata": {},
     "execution_count": 25
    }
   ],
   "source": [
    "num_features"
   ]
  },
  {
   "source": [
    "### Searching for low variance variables"
   ],
   "cell_type": "markdown",
   "metadata": {}
  },
  {
   "cell_type": "code",
   "execution_count": 26,
   "metadata": {},
   "outputs": [],
   "source": [
    "data_scale = data_num[num_features].copy()"
   ]
  },
  {
   "cell_type": "code",
   "execution_count": 27,
   "metadata": {},
   "outputs": [],
   "source": [
    "scaler = MinMaxScaler()\n",
    "data_scaled = scaler.fit_transform(data_scale)"
   ]
  },
  {
   "cell_type": "code",
   "execution_count": 28,
   "metadata": {},
   "outputs": [],
   "source": [
    "data_scale = pd.DataFrame(data_scaled, columns=data_scale.columns)"
   ]
  },
  {
   "cell_type": "code",
   "execution_count": 29,
   "metadata": {},
   "outputs": [],
   "source": [
    "num_variance = data_scale.var().sort_values()"
   ]
  },
  {
   "cell_type": "code",
   "execution_count": 30,
   "metadata": {},
   "outputs": [
    {
     "output_type": "execute_result",
     "data": {
      "text/plain": [
       "BsmtFin SF 1      0.006516\n",
       "1st Flr SF        0.006775\n",
       "Wood Deck SF      0.007874\n",
       "Open Porch SF     0.008272\n",
       "Gr Liv Area       0.009070\n",
       "SalePrice         0.011585\n",
       "Mas Vnr Area      0.012465\n",
       "Full Bath         0.019109\n",
       "Garage Area       0.020914\n",
       "Overall Qual      0.024580\n",
       "Fireplaces        0.026238\n",
       "Year Built        0.048035\n",
       "Year Remod/Add    0.120875\n",
       "dtype: float64"
      ]
     },
     "metadata": {},
     "execution_count": 30
    }
   ],
   "source": [
    "num_variance"
   ]
  },
  {
   "cell_type": "code",
   "execution_count": 31,
   "metadata": {},
   "outputs": [],
   "source": [
    "#Selecting low variance ==0.0\n",
    "low_variance = num_variance.index[:5]"
   ]
  },
  {
   "cell_type": "code",
   "execution_count": 32,
   "metadata": {},
   "outputs": [
    {
     "output_type": "execute_result",
     "data": {
      "text/plain": [
       "Index(['BsmtFin SF 1', '1st Flr SF', 'Wood Deck SF', 'Open Porch SF',\n",
       "       'Gr Liv Area'],\n",
       "      dtype='object')"
      ]
     },
     "metadata": {},
     "execution_count": 32
    }
   ],
   "source": [
    "low_variance"
   ]
  },
  {
   "cell_type": "code",
   "execution_count": 33,
   "metadata": {},
   "outputs": [],
   "source": [
    "#Updating num_features\n",
    "num_features = num_features.drop(low_variance)"
   ]
  },
  {
   "source": [
    "## Categorical"
   ],
   "cell_type": "markdown",
   "metadata": {}
  },
  {
   "cell_type": "code",
   "execution_count": 34,
   "metadata": {},
   "outputs": [
    {
     "output_type": "execute_result",
     "data": {
      "text/plain": [
       "  MS Zoning Street Lot Shape Land Contour Utilities Lot Config Land Slope  \\\n",
       "0        RL   Pave       IR1          Lvl    AllPub     Corner        Gtl   \n",
       "1        RH   Pave       Reg          Lvl    AllPub     Inside        Gtl   \n",
       "2        RL   Pave       IR1          Lvl    AllPub     Corner        Gtl   \n",
       "3        RL   Pave       Reg          Lvl    AllPub     Corner        Gtl   \n",
       "4        RL   Pave       IR1          Lvl    AllPub     Inside        Gtl   \n",
       "\n",
       "  Neighborhood Condition 1 Condition 2 Bldg Type House Style Roof Style  \\\n",
       "0        NAmes        Norm        Norm      1Fam      1Story        Hip   \n",
       "1        NAmes       Feedr        Norm      1Fam      1Story      Gable   \n",
       "2        NAmes        Norm        Norm      1Fam      1Story        Hip   \n",
       "3        NAmes        Norm        Norm      1Fam      1Story        Hip   \n",
       "4      Gilbert        Norm        Norm      1Fam      2Story      Gable   \n",
       "\n",
       "  Roof Matl Exterior 1st Exterior 2nd Mas Vnr Type Exter Qual Exter Cond  \\\n",
       "0   CompShg      BrkFace      Plywood        Stone         TA         TA   \n",
       "1   CompShg      VinylSd      VinylSd         None         TA         TA   \n",
       "2   CompShg      Wd Sdng      Wd Sdng      BrkFace         TA         TA   \n",
       "3   CompShg      BrkFace      BrkFace         None         Gd         TA   \n",
       "4   CompShg      VinylSd      VinylSd         None         TA         TA   \n",
       "\n",
       "  Foundation Bsmt Qual Bsmt Cond Bsmt Exposure BsmtFin Type 1 BsmtFin Type 2  \\\n",
       "0     CBlock        TA        Gd            Gd            BLQ            Unf   \n",
       "1     CBlock        TA        TA            No            Rec            LwQ   \n",
       "2     CBlock        TA        TA            No            ALQ            Unf   \n",
       "3     CBlock        TA        TA            No            ALQ            Unf   \n",
       "4      PConc        Gd        TA            No            GLQ            Unf   \n",
       "\n",
       "  Heating Heating QC Central Air Electrical Kitchen Qual Functional  \\\n",
       "0    GasA         Fa           Y      SBrkr           TA        Typ   \n",
       "1    GasA         TA           Y      SBrkr           TA        Typ   \n",
       "2    GasA         TA           Y      SBrkr           Gd        Typ   \n",
       "3    GasA         Ex           Y      SBrkr           Ex        Typ   \n",
       "4    GasA         Gd           Y      SBrkr           TA        Typ   \n",
       "\n",
       "  Paved Drive Sale Type Sale Condition  \n",
       "0           P       WD          Normal  \n",
       "1           Y       WD          Normal  \n",
       "2           Y       WD          Normal  \n",
       "3           Y       WD          Normal  \n",
       "4           Y       WD          Normal  "
      ],
      "text/html": "<div>\n<style scoped>\n    .dataframe tbody tr th:only-of-type {\n        vertical-align: middle;\n    }\n\n    .dataframe tbody tr th {\n        vertical-align: top;\n    }\n\n    .dataframe thead th {\n        text-align: right;\n    }\n</style>\n<table border=\"1\" class=\"dataframe\">\n  <thead>\n    <tr style=\"text-align: right;\">\n      <th></th>\n      <th>MS Zoning</th>\n      <th>Street</th>\n      <th>Lot Shape</th>\n      <th>Land Contour</th>\n      <th>Utilities</th>\n      <th>Lot Config</th>\n      <th>Land Slope</th>\n      <th>Neighborhood</th>\n      <th>Condition 1</th>\n      <th>Condition 2</th>\n      <th>Bldg Type</th>\n      <th>House Style</th>\n      <th>Roof Style</th>\n      <th>Roof Matl</th>\n      <th>Exterior 1st</th>\n      <th>Exterior 2nd</th>\n      <th>Mas Vnr Type</th>\n      <th>Exter Qual</th>\n      <th>Exter Cond</th>\n      <th>Foundation</th>\n      <th>Bsmt Qual</th>\n      <th>Bsmt Cond</th>\n      <th>Bsmt Exposure</th>\n      <th>BsmtFin Type 1</th>\n      <th>BsmtFin Type 2</th>\n      <th>Heating</th>\n      <th>Heating QC</th>\n      <th>Central Air</th>\n      <th>Electrical</th>\n      <th>Kitchen Qual</th>\n      <th>Functional</th>\n      <th>Paved Drive</th>\n      <th>Sale Type</th>\n      <th>Sale Condition</th>\n    </tr>\n  </thead>\n  <tbody>\n    <tr>\n      <th>0</th>\n      <td>RL</td>\n      <td>Pave</td>\n      <td>IR1</td>\n      <td>Lvl</td>\n      <td>AllPub</td>\n      <td>Corner</td>\n      <td>Gtl</td>\n      <td>NAmes</td>\n      <td>Norm</td>\n      <td>Norm</td>\n      <td>1Fam</td>\n      <td>1Story</td>\n      <td>Hip</td>\n      <td>CompShg</td>\n      <td>BrkFace</td>\n      <td>Plywood</td>\n      <td>Stone</td>\n      <td>TA</td>\n      <td>TA</td>\n      <td>CBlock</td>\n      <td>TA</td>\n      <td>Gd</td>\n      <td>Gd</td>\n      <td>BLQ</td>\n      <td>Unf</td>\n      <td>GasA</td>\n      <td>Fa</td>\n      <td>Y</td>\n      <td>SBrkr</td>\n      <td>TA</td>\n      <td>Typ</td>\n      <td>P</td>\n      <td>WD</td>\n      <td>Normal</td>\n    </tr>\n    <tr>\n      <th>1</th>\n      <td>RH</td>\n      <td>Pave</td>\n      <td>Reg</td>\n      <td>Lvl</td>\n      <td>AllPub</td>\n      <td>Inside</td>\n      <td>Gtl</td>\n      <td>NAmes</td>\n      <td>Feedr</td>\n      <td>Norm</td>\n      <td>1Fam</td>\n      <td>1Story</td>\n      <td>Gable</td>\n      <td>CompShg</td>\n      <td>VinylSd</td>\n      <td>VinylSd</td>\n      <td>None</td>\n      <td>TA</td>\n      <td>TA</td>\n      <td>CBlock</td>\n      <td>TA</td>\n      <td>TA</td>\n      <td>No</td>\n      <td>Rec</td>\n      <td>LwQ</td>\n      <td>GasA</td>\n      <td>TA</td>\n      <td>Y</td>\n      <td>SBrkr</td>\n      <td>TA</td>\n      <td>Typ</td>\n      <td>Y</td>\n      <td>WD</td>\n      <td>Normal</td>\n    </tr>\n    <tr>\n      <th>2</th>\n      <td>RL</td>\n      <td>Pave</td>\n      <td>IR1</td>\n      <td>Lvl</td>\n      <td>AllPub</td>\n      <td>Corner</td>\n      <td>Gtl</td>\n      <td>NAmes</td>\n      <td>Norm</td>\n      <td>Norm</td>\n      <td>1Fam</td>\n      <td>1Story</td>\n      <td>Hip</td>\n      <td>CompShg</td>\n      <td>Wd Sdng</td>\n      <td>Wd Sdng</td>\n      <td>BrkFace</td>\n      <td>TA</td>\n      <td>TA</td>\n      <td>CBlock</td>\n      <td>TA</td>\n      <td>TA</td>\n      <td>No</td>\n      <td>ALQ</td>\n      <td>Unf</td>\n      <td>GasA</td>\n      <td>TA</td>\n      <td>Y</td>\n      <td>SBrkr</td>\n      <td>Gd</td>\n      <td>Typ</td>\n      <td>Y</td>\n      <td>WD</td>\n      <td>Normal</td>\n    </tr>\n    <tr>\n      <th>3</th>\n      <td>RL</td>\n      <td>Pave</td>\n      <td>Reg</td>\n      <td>Lvl</td>\n      <td>AllPub</td>\n      <td>Corner</td>\n      <td>Gtl</td>\n      <td>NAmes</td>\n      <td>Norm</td>\n      <td>Norm</td>\n      <td>1Fam</td>\n      <td>1Story</td>\n      <td>Hip</td>\n      <td>CompShg</td>\n      <td>BrkFace</td>\n      <td>BrkFace</td>\n      <td>None</td>\n      <td>Gd</td>\n      <td>TA</td>\n      <td>CBlock</td>\n      <td>TA</td>\n      <td>TA</td>\n      <td>No</td>\n      <td>ALQ</td>\n      <td>Unf</td>\n      <td>GasA</td>\n      <td>Ex</td>\n      <td>Y</td>\n      <td>SBrkr</td>\n      <td>Ex</td>\n      <td>Typ</td>\n      <td>Y</td>\n      <td>WD</td>\n      <td>Normal</td>\n    </tr>\n    <tr>\n      <th>4</th>\n      <td>RL</td>\n      <td>Pave</td>\n      <td>IR1</td>\n      <td>Lvl</td>\n      <td>AllPub</td>\n      <td>Inside</td>\n      <td>Gtl</td>\n      <td>Gilbert</td>\n      <td>Norm</td>\n      <td>Norm</td>\n      <td>1Fam</td>\n      <td>2Story</td>\n      <td>Gable</td>\n      <td>CompShg</td>\n      <td>VinylSd</td>\n      <td>VinylSd</td>\n      <td>None</td>\n      <td>TA</td>\n      <td>TA</td>\n      <td>PConc</td>\n      <td>Gd</td>\n      <td>TA</td>\n      <td>No</td>\n      <td>GLQ</td>\n      <td>Unf</td>\n      <td>GasA</td>\n      <td>Gd</td>\n      <td>Y</td>\n      <td>SBrkr</td>\n      <td>TA</td>\n      <td>Typ</td>\n      <td>Y</td>\n      <td>WD</td>\n      <td>Normal</td>\n    </tr>\n  </tbody>\n</table>\n</div>"
     },
     "metadata": {},
     "execution_count": 34
    }
   ],
   "source": [
    "data_cat.head()"
   ]
  },
  {
   "source": [
    "\n"
   ],
   "cell_type": "markdown",
   "metadata": {}
  },
  {
   "source": [],
   "cell_type": "markdown",
   "metadata": {}
  },
  {
   "cell_type": "code",
   "execution_count": 67,
   "metadata": {},
   "outputs": [],
   "source": [
    "\n",
    "cat_features = []\n",
    "cat_drop = []\n",
    "\n",
    "for col in data_cat.columns:\n",
    "    if len(data_cat[col].value_counts().index) < 10:\n",
    "        cat_features.append(col)\n",
    "    else:\n",
    "        cat_drop.append(col)"
   ]
  },
  {
   "cell_type": "code",
   "execution_count": 68,
   "metadata": {},
   "outputs": [
    {
     "output_type": "execute_result",
     "data": {
      "text/plain": [
       "['Neighborhood', 'Exterior 1st', 'Exterior 2nd', 'Sale Type']"
      ]
     },
     "metadata": {},
     "execution_count": 68
    }
   ],
   "source": [
    "cat_drop"
   ]
  },
  {
   "cell_type": "code",
   "execution_count": 69,
   "metadata": {},
   "outputs": [
    {
     "output_type": "execute_result",
     "data": {
      "text/plain": [
       "['MS Zoning',\n",
       " 'Street',\n",
       " 'Lot Shape',\n",
       " 'Land Contour',\n",
       " 'Utilities',\n",
       " 'Lot Config',\n",
       " 'Land Slope',\n",
       " 'Condition 1',\n",
       " 'Condition 2',\n",
       " 'Bldg Type',\n",
       " 'House Style',\n",
       " 'Roof Style',\n",
       " 'Roof Matl',\n",
       " 'Exter Qual',\n",
       " 'Exter Cond',\n",
       " 'Foundation',\n",
       " 'Heating',\n",
       " 'Heating QC',\n",
       " 'Central Air',\n",
       " 'Kitchen Qual',\n",
       " 'Functional',\n",
       " 'Paved Drive',\n",
       " 'Sale Condition']"
      ]
     },
     "metadata": {},
     "execution_count": 69
    }
   ],
   "source": [
    "cat_features "
   ]
  },
  {
   "cell_type": "code",
   "execution_count": 72,
   "metadata": {},
   "outputs": [],
   "source": [
    "### Searching for columns with Data Leakage about Sale/Sale Price\n",
    "\n",
    "cat_features.remove(\"Sale Condition\")"
   ]
  },
  {
   "cell_type": "code",
   "execution_count": 73,
   "metadata": {},
   "outputs": [
    {
     "output_type": "execute_result",
     "data": {
      "text/plain": [
       "['MS Zoning',\n",
       " 'Street',\n",
       " 'Lot Shape',\n",
       " 'Land Contour',\n",
       " 'Utilities',\n",
       " 'Lot Config',\n",
       " 'Land Slope',\n",
       " 'Condition 1',\n",
       " 'Condition 2',\n",
       " 'Bldg Type',\n",
       " 'House Style',\n",
       " 'Roof Style',\n",
       " 'Roof Matl',\n",
       " 'Exter Qual',\n",
       " 'Exter Cond',\n",
       " 'Foundation',\n",
       " 'Heating',\n",
       " 'Heating QC',\n",
       " 'Central Air',\n",
       " 'Kitchen Qual',\n",
       " 'Functional',\n",
       " 'Paved Drive']"
      ]
     },
     "metadata": {},
     "execution_count": 73
    }
   ],
   "source": [
    "cat_features "
   ]
  },
  {
   "source": [
    "# Final Datasets"
   ],
   "cell_type": "markdown",
   "metadata": {}
  },
  {
   "cell_type": "code",
   "execution_count": 74,
   "metadata": {},
   "outputs": [],
   "source": [
    "df_num = data_num[num_features]"
   ]
  },
  {
   "cell_type": "code",
   "execution_count": 79,
   "metadata": {},
   "outputs": [
    {
     "output_type": "execute_result",
     "data": {
      "text/plain": [
       "      Overall Qual  Year Built  Year Remod/Add  Mas Vnr Area  Full Bath  \\\n",
       "0                6        1960            1960         112.0          1   \n",
       "1                5        1961            1961           0.0          1   \n",
       "2                6        1958            1958         108.0          1   \n",
       "3                7        1968            1968           0.0          2   \n",
       "4                5        1997            1998           0.0          2   \n",
       "...            ...         ...             ...           ...        ...   \n",
       "2925             6        1984            1984           0.0          1   \n",
       "2926             5        1983            1983           0.0          1   \n",
       "2927             5        1992            1992           0.0          1   \n",
       "2928             5        1974            1975           0.0          1   \n",
       "2929             7        1993            1994          94.0          2   \n",
       "\n",
       "      Fireplaces  Garage Area  SalePrice  \n",
       "0              2        528.0     215000  \n",
       "1              0        730.0     105000  \n",
       "2              0        312.0     172000  \n",
       "3              2        522.0     244000  \n",
       "4              1        482.0     189900  \n",
       "...          ...          ...        ...  \n",
       "2925           0        588.0     142500  \n",
       "2926           0        484.0     131000  \n",
       "2927           0          0.0     132000  \n",
       "2928           1        418.0     170000  \n",
       "2929           1        650.0     188000  \n",
       "\n",
       "[2930 rows x 8 columns]"
      ],
      "text/html": "<div>\n<style scoped>\n    .dataframe tbody tr th:only-of-type {\n        vertical-align: middle;\n    }\n\n    .dataframe tbody tr th {\n        vertical-align: top;\n    }\n\n    .dataframe thead th {\n        text-align: right;\n    }\n</style>\n<table border=\"1\" class=\"dataframe\">\n  <thead>\n    <tr style=\"text-align: right;\">\n      <th></th>\n      <th>Overall Qual</th>\n      <th>Year Built</th>\n      <th>Year Remod/Add</th>\n      <th>Mas Vnr Area</th>\n      <th>Full Bath</th>\n      <th>Fireplaces</th>\n      <th>Garage Area</th>\n      <th>SalePrice</th>\n    </tr>\n  </thead>\n  <tbody>\n    <tr>\n      <th>0</th>\n      <td>6</td>\n      <td>1960</td>\n      <td>1960</td>\n      <td>112.0</td>\n      <td>1</td>\n      <td>2</td>\n      <td>528.0</td>\n      <td>215000</td>\n    </tr>\n    <tr>\n      <th>1</th>\n      <td>5</td>\n      <td>1961</td>\n      <td>1961</td>\n      <td>0.0</td>\n      <td>1</td>\n      <td>0</td>\n      <td>730.0</td>\n      <td>105000</td>\n    </tr>\n    <tr>\n      <th>2</th>\n      <td>6</td>\n      <td>1958</td>\n      <td>1958</td>\n      <td>108.0</td>\n      <td>1</td>\n      <td>0</td>\n      <td>312.0</td>\n      <td>172000</td>\n    </tr>\n    <tr>\n      <th>3</th>\n      <td>7</td>\n      <td>1968</td>\n      <td>1968</td>\n      <td>0.0</td>\n      <td>2</td>\n      <td>2</td>\n      <td>522.0</td>\n      <td>244000</td>\n    </tr>\n    <tr>\n      <th>4</th>\n      <td>5</td>\n      <td>1997</td>\n      <td>1998</td>\n      <td>0.0</td>\n      <td>2</td>\n      <td>1</td>\n      <td>482.0</td>\n      <td>189900</td>\n    </tr>\n    <tr>\n      <th>...</th>\n      <td>...</td>\n      <td>...</td>\n      <td>...</td>\n      <td>...</td>\n      <td>...</td>\n      <td>...</td>\n      <td>...</td>\n      <td>...</td>\n    </tr>\n    <tr>\n      <th>2925</th>\n      <td>6</td>\n      <td>1984</td>\n      <td>1984</td>\n      <td>0.0</td>\n      <td>1</td>\n      <td>0</td>\n      <td>588.0</td>\n      <td>142500</td>\n    </tr>\n    <tr>\n      <th>2926</th>\n      <td>5</td>\n      <td>1983</td>\n      <td>1983</td>\n      <td>0.0</td>\n      <td>1</td>\n      <td>0</td>\n      <td>484.0</td>\n      <td>131000</td>\n    </tr>\n    <tr>\n      <th>2927</th>\n      <td>5</td>\n      <td>1992</td>\n      <td>1992</td>\n      <td>0.0</td>\n      <td>1</td>\n      <td>0</td>\n      <td>0.0</td>\n      <td>132000</td>\n    </tr>\n    <tr>\n      <th>2928</th>\n      <td>5</td>\n      <td>1974</td>\n      <td>1975</td>\n      <td>0.0</td>\n      <td>1</td>\n      <td>1</td>\n      <td>418.0</td>\n      <td>170000</td>\n    </tr>\n    <tr>\n      <th>2929</th>\n      <td>7</td>\n      <td>1993</td>\n      <td>1994</td>\n      <td>94.0</td>\n      <td>2</td>\n      <td>1</td>\n      <td>650.0</td>\n      <td>188000</td>\n    </tr>\n  </tbody>\n</table>\n<p>2930 rows × 8 columns</p>\n</div>"
     },
     "metadata": {},
     "execution_count": 79
    }
   ],
   "source": [
    "df_num "
   ]
  },
  {
   "cell_type": "code",
   "execution_count": 76,
   "metadata": {},
   "outputs": [],
   "source": [
    "df_cat = data_cat[cat_features]"
   ]
  },
  {
   "cell_type": "code",
   "execution_count": 82,
   "metadata": {},
   "outputs": [],
   "source": [
    "df_num = df_num.drop('Overall Qual', axis=1)"
   ]
  },
  {
   "cell_type": "code",
   "execution_count": 80,
   "metadata": {},
   "outputs": [],
   "source": [
    "# Overall column is a categorical one, let´s change it to the categorical dataset so we can perform proper encoding\n",
    "df_cat['Overall Qual'] = data_num['Overall Qual'].copy()"
   ]
  },
  {
   "cell_type": "code",
   "execution_count": 90,
   "metadata": {},
   "outputs": [],
   "source": [
    "#Converting variables \n",
    "df_cat[\"Overall Qual\"] = df_cat[\"Overall Qual\"].astype('category')"
   ]
  },
  {
   "cell_type": "code",
   "execution_count": 91,
   "metadata": {},
   "outputs": [],
   "source": [
    "#Categoriacal Encoding\n",
    "dummy_df = pd.get_dummies(df_cat)"
   ]
  },
  {
   "cell_type": "code",
   "execution_count": 92,
   "metadata": {},
   "outputs": [
    {
     "output_type": "execute_result",
     "data": {
      "text/plain": [
       "   MS Zoning_A (agr)  MS Zoning_C (all)  MS Zoning_FV  MS Zoning_I (all)  \\\n",
       "0                  0                  0             0                  0   \n",
       "1                  0                  0             0                  0   \n",
       "2                  0                  0             0                  0   \n",
       "3                  0                  0             0                  0   \n",
       "4                  0                  0             0                  0   \n",
       "\n",
       "   MS Zoning_RH  MS Zoning_RL  MS Zoning_RM  Street_Grvl  Street_Pave  \\\n",
       "0             0             1             0            0            1   \n",
       "1             1             0             0            0            1   \n",
       "2             0             1             0            0            1   \n",
       "3             0             1             0            0            1   \n",
       "4             0             1             0            0            1   \n",
       "\n",
       "   Lot Shape_IR1  Lot Shape_IR2  Lot Shape_IR3  Lot Shape_Reg  \\\n",
       "0              1              0              0              0   \n",
       "1              0              0              0              1   \n",
       "2              1              0              0              0   \n",
       "3              0              0              0              1   \n",
       "4              1              0              0              0   \n",
       "\n",
       "   Land Contour_Bnk  Land Contour_HLS  Land Contour_Low  Land Contour_Lvl  \\\n",
       "0                 0                 0                 0                 1   \n",
       "1                 0                 0                 0                 1   \n",
       "2                 0                 0                 0                 1   \n",
       "3                 0                 0                 0                 1   \n",
       "4                 0                 0                 0                 1   \n",
       "\n",
       "   Utilities_AllPub  Utilities_NoSeWa  Utilities_NoSewr  Lot Config_Corner  \\\n",
       "0                 1                 0                 0                  1   \n",
       "1                 1                 0                 0                  0   \n",
       "2                 1                 0                 0                  1   \n",
       "3                 1                 0                 0                  1   \n",
       "4                 1                 0                 0                  0   \n",
       "\n",
       "   Lot Config_CulDSac  Lot Config_FR2  Lot Config_FR3  Lot Config_Inside  \\\n",
       "0                   0               0               0                  0   \n",
       "1                   0               0               0                  1   \n",
       "2                   0               0               0                  0   \n",
       "3                   0               0               0                  0   \n",
       "4                   0               0               0                  1   \n",
       "\n",
       "   Land Slope_Gtl  Land Slope_Mod  Land Slope_Sev  Condition 1_Artery  \\\n",
       "0               1               0               0                   0   \n",
       "1               1               0               0                   0   \n",
       "2               1               0               0                   0   \n",
       "3               1               0               0                   0   \n",
       "4               1               0               0                   0   \n",
       "\n",
       "   Condition 1_Feedr  Condition 1_Norm  Condition 1_PosA  Condition 1_PosN  \\\n",
       "0                  0                 1                 0                 0   \n",
       "1                  1                 0                 0                 0   \n",
       "2                  0                 1                 0                 0   \n",
       "3                  0                 1                 0                 0   \n",
       "4                  0                 1                 0                 0   \n",
       "\n",
       "   Condition 1_RRAe  Condition 1_RRAn  Condition 1_RRNe  Condition 1_RRNn  \\\n",
       "0                 0                 0                 0                 0   \n",
       "1                 0                 0                 0                 0   \n",
       "2                 0                 0                 0                 0   \n",
       "3                 0                 0                 0                 0   \n",
       "4                 0                 0                 0                 0   \n",
       "\n",
       "   Condition 2_Artery  Condition 2_Feedr  Condition 2_Norm  Condition 2_PosA  \\\n",
       "0                   0                  0                 1                 0   \n",
       "1                   0                  0                 1                 0   \n",
       "2                   0                  0                 1                 0   \n",
       "3                   0                  0                 1                 0   \n",
       "4                   0                  0                 1                 0   \n",
       "\n",
       "   Condition 2_PosN  Condition 2_RRAe  Condition 2_RRAn  Condition 2_RRNn  \\\n",
       "0                 0                 0                 0                 0   \n",
       "1                 0                 0                 0                 0   \n",
       "2                 0                 0                 0                 0   \n",
       "3                 0                 0                 0                 0   \n",
       "4                 0                 0                 0                 0   \n",
       "\n",
       "   Bldg Type_1Fam  Bldg Type_2fmCon  Bldg Type_Duplex  Bldg Type_Twnhs  \\\n",
       "0               1                 0                 0                0   \n",
       "1               1                 0                 0                0   \n",
       "2               1                 0                 0                0   \n",
       "3               1                 0                 0                0   \n",
       "4               1                 0                 0                0   \n",
       "\n",
       "   Bldg Type_TwnhsE  House Style_1.5Fin  House Style_1.5Unf  \\\n",
       "0                 0                   0                   0   \n",
       "1                 0                   0                   0   \n",
       "2                 0                   0                   0   \n",
       "3                 0                   0                   0   \n",
       "4                 0                   0                   0   \n",
       "\n",
       "   House Style_1Story  House Style_2.5Fin  House Style_2.5Unf  \\\n",
       "0                   1                   0                   0   \n",
       "1                   1                   0                   0   \n",
       "2                   1                   0                   0   \n",
       "3                   1                   0                   0   \n",
       "4                   0                   0                   0   \n",
       "\n",
       "   House Style_2Story  House Style_SFoyer  House Style_SLvl  Roof Style_Flat  \\\n",
       "0                   0                   0                 0                0   \n",
       "1                   0                   0                 0                0   \n",
       "2                   0                   0                 0                0   \n",
       "3                   0                   0                 0                0   \n",
       "4                   1                   0                 0                0   \n",
       "\n",
       "   Roof Style_Gable  Roof Style_Gambrel  Roof Style_Hip  Roof Style_Mansard  \\\n",
       "0                 0                   0               1                   0   \n",
       "1                 1                   0               0                   0   \n",
       "2                 0                   0               1                   0   \n",
       "3                 0                   0               1                   0   \n",
       "4                 1                   0               0                   0   \n",
       "\n",
       "   Roof Style_Shed  Roof Matl_ClyTile  Roof Matl_CompShg  Roof Matl_Membran  \\\n",
       "0                0                  0                  1                  0   \n",
       "1                0                  0                  1                  0   \n",
       "2                0                  0                  1                  0   \n",
       "3                0                  0                  1                  0   \n",
       "4                0                  0                  1                  0   \n",
       "\n",
       "   Roof Matl_Metal  Roof Matl_Roll  Roof Matl_Tar&Grv  Roof Matl_WdShake  \\\n",
       "0                0               0                  0                  0   \n",
       "1                0               0                  0                  0   \n",
       "2                0               0                  0                  0   \n",
       "3                0               0                  0                  0   \n",
       "4                0               0                  0                  0   \n",
       "\n",
       "   Roof Matl_WdShngl  Exter Qual_Ex  Exter Qual_Fa  Exter Qual_Gd  \\\n",
       "0                  0              0              0              0   \n",
       "1                  0              0              0              0   \n",
       "2                  0              0              0              0   \n",
       "3                  0              0              0              1   \n",
       "4                  0              0              0              0   \n",
       "\n",
       "   Exter Qual_TA  Exter Cond_Ex  Exter Cond_Fa  Exter Cond_Gd  Exter Cond_Po  \\\n",
       "0              1              0              0              0              0   \n",
       "1              1              0              0              0              0   \n",
       "2              1              0              0              0              0   \n",
       "3              0              0              0              0              0   \n",
       "4              1              0              0              0              0   \n",
       "\n",
       "   Exter Cond_TA  Foundation_BrkTil  Foundation_CBlock  Foundation_PConc  \\\n",
       "0              1                  0                  1                 0   \n",
       "1              1                  0                  1                 0   \n",
       "2              1                  0                  1                 0   \n",
       "3              1                  0                  1                 0   \n",
       "4              1                  0                  0                 1   \n",
       "\n",
       "   Foundation_Slab  Foundation_Stone  Foundation_Wood  Heating_Floor  \\\n",
       "0                0                 0                0              0   \n",
       "1                0                 0                0              0   \n",
       "2                0                 0                0              0   \n",
       "3                0                 0                0              0   \n",
       "4                0                 0                0              0   \n",
       "\n",
       "   Heating_GasA  Heating_GasW  Heating_Grav  Heating_OthW  Heating_Wall  \\\n",
       "0             1             0             0             0             0   \n",
       "1             1             0             0             0             0   \n",
       "2             1             0             0             0             0   \n",
       "3             1             0             0             0             0   \n",
       "4             1             0             0             0             0   \n",
       "\n",
       "   Heating QC_Ex  Heating QC_Fa  Heating QC_Gd  Heating QC_Po  Heating QC_TA  \\\n",
       "0              0              1              0              0              0   \n",
       "1              0              0              0              0              1   \n",
       "2              0              0              0              0              1   \n",
       "3              1              0              0              0              0   \n",
       "4              0              0              1              0              0   \n",
       "\n",
       "   Central Air_N  Central Air_Y  Kitchen Qual_Ex  Kitchen Qual_Fa  \\\n",
       "0              0              1                0                0   \n",
       "1              0              1                0                0   \n",
       "2              0              1                0                0   \n",
       "3              0              1                1                0   \n",
       "4              0              1                0                0   \n",
       "\n",
       "   Kitchen Qual_Gd  Kitchen Qual_Po  Kitchen Qual_TA  Functional_Maj1  \\\n",
       "0                0                0                1                0   \n",
       "1                0                0                1                0   \n",
       "2                1                0                0                0   \n",
       "3                0                0                0                0   \n",
       "4                0                0                1                0   \n",
       "\n",
       "   Functional_Maj2  Functional_Min1  Functional_Min2  Functional_Mod  \\\n",
       "0                0                0                0               0   \n",
       "1                0                0                0               0   \n",
       "2                0                0                0               0   \n",
       "3                0                0                0               0   \n",
       "4                0                0                0               0   \n",
       "\n",
       "   Functional_Sal  Functional_Sev  Functional_Typ  Paved Drive_N  \\\n",
       "0               0               0               1              0   \n",
       "1               0               0               1              0   \n",
       "2               0               0               1              0   \n",
       "3               0               0               1              0   \n",
       "4               0               0               1              0   \n",
       "\n",
       "   Paved Drive_P  Paved Drive_Y  Overall Qual_1  Overall Qual_2  \\\n",
       "0              1              0               0               0   \n",
       "1              0              1               0               0   \n",
       "2              0              1               0               0   \n",
       "3              0              1               0               0   \n",
       "4              0              1               0               0   \n",
       "\n",
       "   Overall Qual_3  Overall Qual_4  Overall Qual_5  Overall Qual_6  \\\n",
       "0               0               0               0               1   \n",
       "1               0               0               1               0   \n",
       "2               0               0               0               1   \n",
       "3               0               0               0               0   \n",
       "4               0               0               1               0   \n",
       "\n",
       "   Overall Qual_7  Overall Qual_8  Overall Qual_9  Overall Qual_10  \n",
       "0               0               0               0                0  \n",
       "1               0               0               0                0  \n",
       "2               0               0               0                0  \n",
       "3               1               0               0                0  \n",
       "4               0               0               0                0  "
      ],
      "text/html": "<div>\n<style scoped>\n    .dataframe tbody tr th:only-of-type {\n        vertical-align: middle;\n    }\n\n    .dataframe tbody tr th {\n        vertical-align: top;\n    }\n\n    .dataframe thead th {\n        text-align: right;\n    }\n</style>\n<table border=\"1\" class=\"dataframe\">\n  <thead>\n    <tr style=\"text-align: right;\">\n      <th></th>\n      <th>MS Zoning_A (agr)</th>\n      <th>MS Zoning_C (all)</th>\n      <th>MS Zoning_FV</th>\n      <th>MS Zoning_I (all)</th>\n      <th>MS Zoning_RH</th>\n      <th>MS Zoning_RL</th>\n      <th>MS Zoning_RM</th>\n      <th>Street_Grvl</th>\n      <th>Street_Pave</th>\n      <th>Lot Shape_IR1</th>\n      <th>Lot Shape_IR2</th>\n      <th>Lot Shape_IR3</th>\n      <th>Lot Shape_Reg</th>\n      <th>Land Contour_Bnk</th>\n      <th>Land Contour_HLS</th>\n      <th>Land Contour_Low</th>\n      <th>Land Contour_Lvl</th>\n      <th>Utilities_AllPub</th>\n      <th>Utilities_NoSeWa</th>\n      <th>Utilities_NoSewr</th>\n      <th>Lot Config_Corner</th>\n      <th>Lot Config_CulDSac</th>\n      <th>Lot Config_FR2</th>\n      <th>Lot Config_FR3</th>\n      <th>Lot Config_Inside</th>\n      <th>Land Slope_Gtl</th>\n      <th>Land Slope_Mod</th>\n      <th>Land Slope_Sev</th>\n      <th>Condition 1_Artery</th>\n      <th>Condition 1_Feedr</th>\n      <th>Condition 1_Norm</th>\n      <th>Condition 1_PosA</th>\n      <th>Condition 1_PosN</th>\n      <th>Condition 1_RRAe</th>\n      <th>Condition 1_RRAn</th>\n      <th>Condition 1_RRNe</th>\n      <th>Condition 1_RRNn</th>\n      <th>Condition 2_Artery</th>\n      <th>Condition 2_Feedr</th>\n      <th>Condition 2_Norm</th>\n      <th>Condition 2_PosA</th>\n      <th>Condition 2_PosN</th>\n      <th>Condition 2_RRAe</th>\n      <th>Condition 2_RRAn</th>\n      <th>Condition 2_RRNn</th>\n      <th>Bldg Type_1Fam</th>\n      <th>Bldg Type_2fmCon</th>\n      <th>Bldg Type_Duplex</th>\n      <th>Bldg Type_Twnhs</th>\n      <th>Bldg Type_TwnhsE</th>\n      <th>House Style_1.5Fin</th>\n      <th>House Style_1.5Unf</th>\n      <th>House Style_1Story</th>\n      <th>House Style_2.5Fin</th>\n      <th>House Style_2.5Unf</th>\n      <th>House Style_2Story</th>\n      <th>House Style_SFoyer</th>\n      <th>House Style_SLvl</th>\n      <th>Roof Style_Flat</th>\n      <th>Roof Style_Gable</th>\n      <th>Roof Style_Gambrel</th>\n      <th>Roof Style_Hip</th>\n      <th>Roof Style_Mansard</th>\n      <th>Roof Style_Shed</th>\n      <th>Roof Matl_ClyTile</th>\n      <th>Roof Matl_CompShg</th>\n      <th>Roof Matl_Membran</th>\n      <th>Roof Matl_Metal</th>\n      <th>Roof Matl_Roll</th>\n      <th>Roof Matl_Tar&amp;Grv</th>\n      <th>Roof Matl_WdShake</th>\n      <th>Roof Matl_WdShngl</th>\n      <th>Exter Qual_Ex</th>\n      <th>Exter Qual_Fa</th>\n      <th>Exter Qual_Gd</th>\n      <th>Exter Qual_TA</th>\n      <th>Exter Cond_Ex</th>\n      <th>Exter Cond_Fa</th>\n      <th>Exter Cond_Gd</th>\n      <th>Exter Cond_Po</th>\n      <th>Exter Cond_TA</th>\n      <th>Foundation_BrkTil</th>\n      <th>Foundation_CBlock</th>\n      <th>Foundation_PConc</th>\n      <th>Foundation_Slab</th>\n      <th>Foundation_Stone</th>\n      <th>Foundation_Wood</th>\n      <th>Heating_Floor</th>\n      <th>Heating_GasA</th>\n      <th>Heating_GasW</th>\n      <th>Heating_Grav</th>\n      <th>Heating_OthW</th>\n      <th>Heating_Wall</th>\n      <th>Heating QC_Ex</th>\n      <th>Heating QC_Fa</th>\n      <th>Heating QC_Gd</th>\n      <th>Heating QC_Po</th>\n      <th>Heating QC_TA</th>\n      <th>Central Air_N</th>\n      <th>Central Air_Y</th>\n      <th>Kitchen Qual_Ex</th>\n      <th>Kitchen Qual_Fa</th>\n      <th>Kitchen Qual_Gd</th>\n      <th>Kitchen Qual_Po</th>\n      <th>Kitchen Qual_TA</th>\n      <th>Functional_Maj1</th>\n      <th>Functional_Maj2</th>\n      <th>Functional_Min1</th>\n      <th>Functional_Min2</th>\n      <th>Functional_Mod</th>\n      <th>Functional_Sal</th>\n      <th>Functional_Sev</th>\n      <th>Functional_Typ</th>\n      <th>Paved Drive_N</th>\n      <th>Paved Drive_P</th>\n      <th>Paved Drive_Y</th>\n      <th>Overall Qual_1</th>\n      <th>Overall Qual_2</th>\n      <th>Overall Qual_3</th>\n      <th>Overall Qual_4</th>\n      <th>Overall Qual_5</th>\n      <th>Overall Qual_6</th>\n      <th>Overall Qual_7</th>\n      <th>Overall Qual_8</th>\n      <th>Overall Qual_9</th>\n      <th>Overall Qual_10</th>\n    </tr>\n  </thead>\n  <tbody>\n    <tr>\n      <th>0</th>\n      <td>0</td>\n      <td>0</td>\n      <td>0</td>\n      <td>0</td>\n      <td>0</td>\n      <td>1</td>\n      <td>0</td>\n      <td>0</td>\n      <td>1</td>\n      <td>1</td>\n      <td>0</td>\n      <td>0</td>\n      <td>0</td>\n      <td>0</td>\n      <td>0</td>\n      <td>0</td>\n      <td>1</td>\n      <td>1</td>\n      <td>0</td>\n      <td>0</td>\n      <td>1</td>\n      <td>0</td>\n      <td>0</td>\n      <td>0</td>\n      <td>0</td>\n      <td>1</td>\n      <td>0</td>\n      <td>0</td>\n      <td>0</td>\n      <td>0</td>\n      <td>1</td>\n      <td>0</td>\n      <td>0</td>\n      <td>0</td>\n      <td>0</td>\n      <td>0</td>\n      <td>0</td>\n      <td>0</td>\n      <td>0</td>\n      <td>1</td>\n      <td>0</td>\n      <td>0</td>\n      <td>0</td>\n      <td>0</td>\n      <td>0</td>\n      <td>1</td>\n      <td>0</td>\n      <td>0</td>\n      <td>0</td>\n      <td>0</td>\n      <td>0</td>\n      <td>0</td>\n      <td>1</td>\n      <td>0</td>\n      <td>0</td>\n      <td>0</td>\n      <td>0</td>\n      <td>0</td>\n      <td>0</td>\n      <td>0</td>\n      <td>0</td>\n      <td>1</td>\n      <td>0</td>\n      <td>0</td>\n      <td>0</td>\n      <td>1</td>\n      <td>0</td>\n      <td>0</td>\n      <td>0</td>\n      <td>0</td>\n      <td>0</td>\n      <td>0</td>\n      <td>0</td>\n      <td>0</td>\n      <td>0</td>\n      <td>1</td>\n      <td>0</td>\n      <td>0</td>\n      <td>0</td>\n      <td>0</td>\n      <td>1</td>\n      <td>0</td>\n      <td>1</td>\n      <td>0</td>\n      <td>0</td>\n      <td>0</td>\n      <td>0</td>\n      <td>0</td>\n      <td>1</td>\n      <td>0</td>\n      <td>0</td>\n      <td>0</td>\n      <td>0</td>\n      <td>0</td>\n      <td>1</td>\n      <td>0</td>\n      <td>0</td>\n      <td>0</td>\n      <td>0</td>\n      <td>1</td>\n      <td>0</td>\n      <td>0</td>\n      <td>0</td>\n      <td>0</td>\n      <td>1</td>\n      <td>0</td>\n      <td>0</td>\n      <td>0</td>\n      <td>0</td>\n      <td>0</td>\n      <td>0</td>\n      <td>0</td>\n      <td>1</td>\n      <td>0</td>\n      <td>1</td>\n      <td>0</td>\n      <td>0</td>\n      <td>0</td>\n      <td>0</td>\n      <td>0</td>\n      <td>0</td>\n      <td>1</td>\n      <td>0</td>\n      <td>0</td>\n      <td>0</td>\n      <td>0</td>\n    </tr>\n    <tr>\n      <th>1</th>\n      <td>0</td>\n      <td>0</td>\n      <td>0</td>\n      <td>0</td>\n      <td>1</td>\n      <td>0</td>\n      <td>0</td>\n      <td>0</td>\n      <td>1</td>\n      <td>0</td>\n      <td>0</td>\n      <td>0</td>\n      <td>1</td>\n      <td>0</td>\n      <td>0</td>\n      <td>0</td>\n      <td>1</td>\n      <td>1</td>\n      <td>0</td>\n      <td>0</td>\n      <td>0</td>\n      <td>0</td>\n      <td>0</td>\n      <td>0</td>\n      <td>1</td>\n      <td>1</td>\n      <td>0</td>\n      <td>0</td>\n      <td>0</td>\n      <td>1</td>\n      <td>0</td>\n      <td>0</td>\n      <td>0</td>\n      <td>0</td>\n      <td>0</td>\n      <td>0</td>\n      <td>0</td>\n      <td>0</td>\n      <td>0</td>\n      <td>1</td>\n      <td>0</td>\n      <td>0</td>\n      <td>0</td>\n      <td>0</td>\n      <td>0</td>\n      <td>1</td>\n      <td>0</td>\n      <td>0</td>\n      <td>0</td>\n      <td>0</td>\n      <td>0</td>\n      <td>0</td>\n      <td>1</td>\n      <td>0</td>\n      <td>0</td>\n      <td>0</td>\n      <td>0</td>\n      <td>0</td>\n      <td>0</td>\n      <td>1</td>\n      <td>0</td>\n      <td>0</td>\n      <td>0</td>\n      <td>0</td>\n      <td>0</td>\n      <td>1</td>\n      <td>0</td>\n      <td>0</td>\n      <td>0</td>\n      <td>0</td>\n      <td>0</td>\n      <td>0</td>\n      <td>0</td>\n      <td>0</td>\n      <td>0</td>\n      <td>1</td>\n      <td>0</td>\n      <td>0</td>\n      <td>0</td>\n      <td>0</td>\n      <td>1</td>\n      <td>0</td>\n      <td>1</td>\n      <td>0</td>\n      <td>0</td>\n      <td>0</td>\n      <td>0</td>\n      <td>0</td>\n      <td>1</td>\n      <td>0</td>\n      <td>0</td>\n      <td>0</td>\n      <td>0</td>\n      <td>0</td>\n      <td>0</td>\n      <td>0</td>\n      <td>0</td>\n      <td>1</td>\n      <td>0</td>\n      <td>1</td>\n      <td>0</td>\n      <td>0</td>\n      <td>0</td>\n      <td>0</td>\n      <td>1</td>\n      <td>0</td>\n      <td>0</td>\n      <td>0</td>\n      <td>0</td>\n      <td>0</td>\n      <td>0</td>\n      <td>0</td>\n      <td>1</td>\n      <td>0</td>\n      <td>0</td>\n      <td>1</td>\n      <td>0</td>\n      <td>0</td>\n      <td>0</td>\n      <td>0</td>\n      <td>1</td>\n      <td>0</td>\n      <td>0</td>\n      <td>0</td>\n      <td>0</td>\n      <td>0</td>\n    </tr>\n    <tr>\n      <th>2</th>\n      <td>0</td>\n      <td>0</td>\n      <td>0</td>\n      <td>0</td>\n      <td>0</td>\n      <td>1</td>\n      <td>0</td>\n      <td>0</td>\n      <td>1</td>\n      <td>1</td>\n      <td>0</td>\n      <td>0</td>\n      <td>0</td>\n      <td>0</td>\n      <td>0</td>\n      <td>0</td>\n      <td>1</td>\n      <td>1</td>\n      <td>0</td>\n      <td>0</td>\n      <td>1</td>\n      <td>0</td>\n      <td>0</td>\n      <td>0</td>\n      <td>0</td>\n      <td>1</td>\n      <td>0</td>\n      <td>0</td>\n      <td>0</td>\n      <td>0</td>\n      <td>1</td>\n      <td>0</td>\n      <td>0</td>\n      <td>0</td>\n      <td>0</td>\n      <td>0</td>\n      <td>0</td>\n      <td>0</td>\n      <td>0</td>\n      <td>1</td>\n      <td>0</td>\n      <td>0</td>\n      <td>0</td>\n      <td>0</td>\n      <td>0</td>\n      <td>1</td>\n      <td>0</td>\n      <td>0</td>\n      <td>0</td>\n      <td>0</td>\n      <td>0</td>\n      <td>0</td>\n      <td>1</td>\n      <td>0</td>\n      <td>0</td>\n      <td>0</td>\n      <td>0</td>\n      <td>0</td>\n      <td>0</td>\n      <td>0</td>\n      <td>0</td>\n      <td>1</td>\n      <td>0</td>\n      <td>0</td>\n      <td>0</td>\n      <td>1</td>\n      <td>0</td>\n      <td>0</td>\n      <td>0</td>\n      <td>0</td>\n      <td>0</td>\n      <td>0</td>\n      <td>0</td>\n      <td>0</td>\n      <td>0</td>\n      <td>1</td>\n      <td>0</td>\n      <td>0</td>\n      <td>0</td>\n      <td>0</td>\n      <td>1</td>\n      <td>0</td>\n      <td>1</td>\n      <td>0</td>\n      <td>0</td>\n      <td>0</td>\n      <td>0</td>\n      <td>0</td>\n      <td>1</td>\n      <td>0</td>\n      <td>0</td>\n      <td>0</td>\n      <td>0</td>\n      <td>0</td>\n      <td>0</td>\n      <td>0</td>\n      <td>0</td>\n      <td>1</td>\n      <td>0</td>\n      <td>1</td>\n      <td>0</td>\n      <td>0</td>\n      <td>1</td>\n      <td>0</td>\n      <td>0</td>\n      <td>0</td>\n      <td>0</td>\n      <td>0</td>\n      <td>0</td>\n      <td>0</td>\n      <td>0</td>\n      <td>0</td>\n      <td>1</td>\n      <td>0</td>\n      <td>0</td>\n      <td>1</td>\n      <td>0</td>\n      <td>0</td>\n      <td>0</td>\n      <td>0</td>\n      <td>0</td>\n      <td>1</td>\n      <td>0</td>\n      <td>0</td>\n      <td>0</td>\n      <td>0</td>\n    </tr>\n    <tr>\n      <th>3</th>\n      <td>0</td>\n      <td>0</td>\n      <td>0</td>\n      <td>0</td>\n      <td>0</td>\n      <td>1</td>\n      <td>0</td>\n      <td>0</td>\n      <td>1</td>\n      <td>0</td>\n      <td>0</td>\n      <td>0</td>\n      <td>1</td>\n      <td>0</td>\n      <td>0</td>\n      <td>0</td>\n      <td>1</td>\n      <td>1</td>\n      <td>0</td>\n      <td>0</td>\n      <td>1</td>\n      <td>0</td>\n      <td>0</td>\n      <td>0</td>\n      <td>0</td>\n      <td>1</td>\n      <td>0</td>\n      <td>0</td>\n      <td>0</td>\n      <td>0</td>\n      <td>1</td>\n      <td>0</td>\n      <td>0</td>\n      <td>0</td>\n      <td>0</td>\n      <td>0</td>\n      <td>0</td>\n      <td>0</td>\n      <td>0</td>\n      <td>1</td>\n      <td>0</td>\n      <td>0</td>\n      <td>0</td>\n      <td>0</td>\n      <td>0</td>\n      <td>1</td>\n      <td>0</td>\n      <td>0</td>\n      <td>0</td>\n      <td>0</td>\n      <td>0</td>\n      <td>0</td>\n      <td>1</td>\n      <td>0</td>\n      <td>0</td>\n      <td>0</td>\n      <td>0</td>\n      <td>0</td>\n      <td>0</td>\n      <td>0</td>\n      <td>0</td>\n      <td>1</td>\n      <td>0</td>\n      <td>0</td>\n      <td>0</td>\n      <td>1</td>\n      <td>0</td>\n      <td>0</td>\n      <td>0</td>\n      <td>0</td>\n      <td>0</td>\n      <td>0</td>\n      <td>0</td>\n      <td>0</td>\n      <td>1</td>\n      <td>0</td>\n      <td>0</td>\n      <td>0</td>\n      <td>0</td>\n      <td>0</td>\n      <td>1</td>\n      <td>0</td>\n      <td>1</td>\n      <td>0</td>\n      <td>0</td>\n      <td>0</td>\n      <td>0</td>\n      <td>0</td>\n      <td>1</td>\n      <td>0</td>\n      <td>0</td>\n      <td>0</td>\n      <td>0</td>\n      <td>1</td>\n      <td>0</td>\n      <td>0</td>\n      <td>0</td>\n      <td>0</td>\n      <td>0</td>\n      <td>1</td>\n      <td>1</td>\n      <td>0</td>\n      <td>0</td>\n      <td>0</td>\n      <td>0</td>\n      <td>0</td>\n      <td>0</td>\n      <td>0</td>\n      <td>0</td>\n      <td>0</td>\n      <td>0</td>\n      <td>0</td>\n      <td>1</td>\n      <td>0</td>\n      <td>0</td>\n      <td>1</td>\n      <td>0</td>\n      <td>0</td>\n      <td>0</td>\n      <td>0</td>\n      <td>0</td>\n      <td>0</td>\n      <td>1</td>\n      <td>0</td>\n      <td>0</td>\n      <td>0</td>\n    </tr>\n    <tr>\n      <th>4</th>\n      <td>0</td>\n      <td>0</td>\n      <td>0</td>\n      <td>0</td>\n      <td>0</td>\n      <td>1</td>\n      <td>0</td>\n      <td>0</td>\n      <td>1</td>\n      <td>1</td>\n      <td>0</td>\n      <td>0</td>\n      <td>0</td>\n      <td>0</td>\n      <td>0</td>\n      <td>0</td>\n      <td>1</td>\n      <td>1</td>\n      <td>0</td>\n      <td>0</td>\n      <td>0</td>\n      <td>0</td>\n      <td>0</td>\n      <td>0</td>\n      <td>1</td>\n      <td>1</td>\n      <td>0</td>\n      <td>0</td>\n      <td>0</td>\n      <td>0</td>\n      <td>1</td>\n      <td>0</td>\n      <td>0</td>\n      <td>0</td>\n      <td>0</td>\n      <td>0</td>\n      <td>0</td>\n      <td>0</td>\n      <td>0</td>\n      <td>1</td>\n      <td>0</td>\n      <td>0</td>\n      <td>0</td>\n      <td>0</td>\n      <td>0</td>\n      <td>1</td>\n      <td>0</td>\n      <td>0</td>\n      <td>0</td>\n      <td>0</td>\n      <td>0</td>\n      <td>0</td>\n      <td>0</td>\n      <td>0</td>\n      <td>0</td>\n      <td>1</td>\n      <td>0</td>\n      <td>0</td>\n      <td>0</td>\n      <td>1</td>\n      <td>0</td>\n      <td>0</td>\n      <td>0</td>\n      <td>0</td>\n      <td>0</td>\n      <td>1</td>\n      <td>0</td>\n      <td>0</td>\n      <td>0</td>\n      <td>0</td>\n      <td>0</td>\n      <td>0</td>\n      <td>0</td>\n      <td>0</td>\n      <td>0</td>\n      <td>1</td>\n      <td>0</td>\n      <td>0</td>\n      <td>0</td>\n      <td>0</td>\n      <td>1</td>\n      <td>0</td>\n      <td>0</td>\n      <td>1</td>\n      <td>0</td>\n      <td>0</td>\n      <td>0</td>\n      <td>0</td>\n      <td>1</td>\n      <td>0</td>\n      <td>0</td>\n      <td>0</td>\n      <td>0</td>\n      <td>0</td>\n      <td>0</td>\n      <td>1</td>\n      <td>0</td>\n      <td>0</td>\n      <td>0</td>\n      <td>1</td>\n      <td>0</td>\n      <td>0</td>\n      <td>0</td>\n      <td>0</td>\n      <td>1</td>\n      <td>0</td>\n      <td>0</td>\n      <td>0</td>\n      <td>0</td>\n      <td>0</td>\n      <td>0</td>\n      <td>0</td>\n      <td>1</td>\n      <td>0</td>\n      <td>0</td>\n      <td>1</td>\n      <td>0</td>\n      <td>0</td>\n      <td>0</td>\n      <td>0</td>\n      <td>1</td>\n      <td>0</td>\n      <td>0</td>\n      <td>0</td>\n      <td>0</td>\n      <td>0</td>\n    </tr>\n  </tbody>\n</table>\n</div>"
     },
     "metadata": {},
     "execution_count": 92
    }
   ],
   "source": [
    "dummy_df.head()"
   ]
  },
  {
   "cell_type": "code",
   "execution_count": 95,
   "metadata": {},
   "outputs": [],
   "source": [
    "#Concat datasets\n",
    "\n",
    "df = pd.concat([df_num, dummy_df], axis=1)"
   ]
  },
  {
   "cell_type": "code",
   "execution_count": 96,
   "metadata": {},
   "outputs": [
    {
     "output_type": "execute_result",
     "data": {
      "text/plain": [
       "   Year Built  Year Remod/Add  Mas Vnr Area  Full Bath  Fireplaces  \\\n",
       "0        1960            1960         112.0          1           2   \n",
       "1        1961            1961           0.0          1           0   \n",
       "2        1958            1958         108.0          1           0   \n",
       "3        1968            1968           0.0          2           2   \n",
       "4        1997            1998           0.0          2           1   \n",
       "\n",
       "   Garage Area  SalePrice  MS Zoning_A (agr)  MS Zoning_C (all)  MS Zoning_FV  \\\n",
       "0        528.0     215000                  0                  0             0   \n",
       "1        730.0     105000                  0                  0             0   \n",
       "2        312.0     172000                  0                  0             0   \n",
       "3        522.0     244000                  0                  0             0   \n",
       "4        482.0     189900                  0                  0             0   \n",
       "\n",
       "   MS Zoning_I (all)  MS Zoning_RH  MS Zoning_RL  MS Zoning_RM  Street_Grvl  \\\n",
       "0                  0             0             1             0            0   \n",
       "1                  0             1             0             0            0   \n",
       "2                  0             0             1             0            0   \n",
       "3                  0             0             1             0            0   \n",
       "4                  0             0             1             0            0   \n",
       "\n",
       "   Street_Pave  Lot Shape_IR1  Lot Shape_IR2  Lot Shape_IR3  Lot Shape_Reg  \\\n",
       "0            1              1              0              0              0   \n",
       "1            1              0              0              0              1   \n",
       "2            1              1              0              0              0   \n",
       "3            1              0              0              0              1   \n",
       "4            1              1              0              0              0   \n",
       "\n",
       "   Land Contour_Bnk  Land Contour_HLS  Land Contour_Low  Land Contour_Lvl  \\\n",
       "0                 0                 0                 0                 1   \n",
       "1                 0                 0                 0                 1   \n",
       "2                 0                 0                 0                 1   \n",
       "3                 0                 0                 0                 1   \n",
       "4                 0                 0                 0                 1   \n",
       "\n",
       "   Utilities_AllPub  Utilities_NoSeWa  Utilities_NoSewr  Lot Config_Corner  \\\n",
       "0                 1                 0                 0                  1   \n",
       "1                 1                 0                 0                  0   \n",
       "2                 1                 0                 0                  1   \n",
       "3                 1                 0                 0                  1   \n",
       "4                 1                 0                 0                  0   \n",
       "\n",
       "   Lot Config_CulDSac  Lot Config_FR2  Lot Config_FR3  Lot Config_Inside  \\\n",
       "0                   0               0               0                  0   \n",
       "1                   0               0               0                  1   \n",
       "2                   0               0               0                  0   \n",
       "3                   0               0               0                  0   \n",
       "4                   0               0               0                  1   \n",
       "\n",
       "   Land Slope_Gtl  Land Slope_Mod  Land Slope_Sev  Condition 1_Artery  \\\n",
       "0               1               0               0                   0   \n",
       "1               1               0               0                   0   \n",
       "2               1               0               0                   0   \n",
       "3               1               0               0                   0   \n",
       "4               1               0               0                   0   \n",
       "\n",
       "   Condition 1_Feedr  Condition 1_Norm  Condition 1_PosA  Condition 1_PosN  \\\n",
       "0                  0                 1                 0                 0   \n",
       "1                  1                 0                 0                 0   \n",
       "2                  0                 1                 0                 0   \n",
       "3                  0                 1                 0                 0   \n",
       "4                  0                 1                 0                 0   \n",
       "\n",
       "   Condition 1_RRAe  Condition 1_RRAn  Condition 1_RRNe  Condition 1_RRNn  \\\n",
       "0                 0                 0                 0                 0   \n",
       "1                 0                 0                 0                 0   \n",
       "2                 0                 0                 0                 0   \n",
       "3                 0                 0                 0                 0   \n",
       "4                 0                 0                 0                 0   \n",
       "\n",
       "   Condition 2_Artery  Condition 2_Feedr  Condition 2_Norm  Condition 2_PosA  \\\n",
       "0                   0                  0                 1                 0   \n",
       "1                   0                  0                 1                 0   \n",
       "2                   0                  0                 1                 0   \n",
       "3                   0                  0                 1                 0   \n",
       "4                   0                  0                 1                 0   \n",
       "\n",
       "   Condition 2_PosN  Condition 2_RRAe  Condition 2_RRAn  Condition 2_RRNn  \\\n",
       "0                 0                 0                 0                 0   \n",
       "1                 0                 0                 0                 0   \n",
       "2                 0                 0                 0                 0   \n",
       "3                 0                 0                 0                 0   \n",
       "4                 0                 0                 0                 0   \n",
       "\n",
       "   Bldg Type_1Fam  Bldg Type_2fmCon  Bldg Type_Duplex  Bldg Type_Twnhs  \\\n",
       "0               1                 0                 0                0   \n",
       "1               1                 0                 0                0   \n",
       "2               1                 0                 0                0   \n",
       "3               1                 0                 0                0   \n",
       "4               1                 0                 0                0   \n",
       "\n",
       "   Bldg Type_TwnhsE  House Style_1.5Fin  House Style_1.5Unf  \\\n",
       "0                 0                   0                   0   \n",
       "1                 0                   0                   0   \n",
       "2                 0                   0                   0   \n",
       "3                 0                   0                   0   \n",
       "4                 0                   0                   0   \n",
       "\n",
       "   House Style_1Story  House Style_2.5Fin  House Style_2.5Unf  \\\n",
       "0                   1                   0                   0   \n",
       "1                   1                   0                   0   \n",
       "2                   1                   0                   0   \n",
       "3                   1                   0                   0   \n",
       "4                   0                   0                   0   \n",
       "\n",
       "   House Style_2Story  House Style_SFoyer  House Style_SLvl  Roof Style_Flat  \\\n",
       "0                   0                   0                 0                0   \n",
       "1                   0                   0                 0                0   \n",
       "2                   0                   0                 0                0   \n",
       "3                   0                   0                 0                0   \n",
       "4                   1                   0                 0                0   \n",
       "\n",
       "   Roof Style_Gable  Roof Style_Gambrel  Roof Style_Hip  Roof Style_Mansard  \\\n",
       "0                 0                   0               1                   0   \n",
       "1                 1                   0               0                   0   \n",
       "2                 0                   0               1                   0   \n",
       "3                 0                   0               1                   0   \n",
       "4                 1                   0               0                   0   \n",
       "\n",
       "   Roof Style_Shed  Roof Matl_ClyTile  Roof Matl_CompShg  Roof Matl_Membran  \\\n",
       "0                0                  0                  1                  0   \n",
       "1                0                  0                  1                  0   \n",
       "2                0                  0                  1                  0   \n",
       "3                0                  0                  1                  0   \n",
       "4                0                  0                  1                  0   \n",
       "\n",
       "   Roof Matl_Metal  Roof Matl_Roll  Roof Matl_Tar&Grv  Roof Matl_WdShake  \\\n",
       "0                0               0                  0                  0   \n",
       "1                0               0                  0                  0   \n",
       "2                0               0                  0                  0   \n",
       "3                0               0                  0                  0   \n",
       "4                0               0                  0                  0   \n",
       "\n",
       "   Roof Matl_WdShngl  Exter Qual_Ex  Exter Qual_Fa  Exter Qual_Gd  \\\n",
       "0                  0              0              0              0   \n",
       "1                  0              0              0              0   \n",
       "2                  0              0              0              0   \n",
       "3                  0              0              0              1   \n",
       "4                  0              0              0              0   \n",
       "\n",
       "   Exter Qual_TA  Exter Cond_Ex  Exter Cond_Fa  Exter Cond_Gd  Exter Cond_Po  \\\n",
       "0              1              0              0              0              0   \n",
       "1              1              0              0              0              0   \n",
       "2              1              0              0              0              0   \n",
       "3              0              0              0              0              0   \n",
       "4              1              0              0              0              0   \n",
       "\n",
       "   Exter Cond_TA  Foundation_BrkTil  Foundation_CBlock  Foundation_PConc  \\\n",
       "0              1                  0                  1                 0   \n",
       "1              1                  0                  1                 0   \n",
       "2              1                  0                  1                 0   \n",
       "3              1                  0                  1                 0   \n",
       "4              1                  0                  0                 1   \n",
       "\n",
       "   Foundation_Slab  Foundation_Stone  Foundation_Wood  Heating_Floor  \\\n",
       "0                0                 0                0              0   \n",
       "1                0                 0                0              0   \n",
       "2                0                 0                0              0   \n",
       "3                0                 0                0              0   \n",
       "4                0                 0                0              0   \n",
       "\n",
       "   Heating_GasA  Heating_GasW  Heating_Grav  Heating_OthW  Heating_Wall  \\\n",
       "0             1             0             0             0             0   \n",
       "1             1             0             0             0             0   \n",
       "2             1             0             0             0             0   \n",
       "3             1             0             0             0             0   \n",
       "4             1             0             0             0             0   \n",
       "\n",
       "   Heating QC_Ex  Heating QC_Fa  Heating QC_Gd  Heating QC_Po  Heating QC_TA  \\\n",
       "0              0              1              0              0              0   \n",
       "1              0              0              0              0              1   \n",
       "2              0              0              0              0              1   \n",
       "3              1              0              0              0              0   \n",
       "4              0              0              1              0              0   \n",
       "\n",
       "   Central Air_N  Central Air_Y  Kitchen Qual_Ex  Kitchen Qual_Fa  \\\n",
       "0              0              1                0                0   \n",
       "1              0              1                0                0   \n",
       "2              0              1                0                0   \n",
       "3              0              1                1                0   \n",
       "4              0              1                0                0   \n",
       "\n",
       "   Kitchen Qual_Gd  Kitchen Qual_Po  Kitchen Qual_TA  Functional_Maj1  \\\n",
       "0                0                0                1                0   \n",
       "1                0                0                1                0   \n",
       "2                1                0                0                0   \n",
       "3                0                0                0                0   \n",
       "4                0                0                1                0   \n",
       "\n",
       "   Functional_Maj2  Functional_Min1  Functional_Min2  Functional_Mod  \\\n",
       "0                0                0                0               0   \n",
       "1                0                0                0               0   \n",
       "2                0                0                0               0   \n",
       "3                0                0                0               0   \n",
       "4                0                0                0               0   \n",
       "\n",
       "   Functional_Sal  Functional_Sev  Functional_Typ  Paved Drive_N  \\\n",
       "0               0               0               1              0   \n",
       "1               0               0               1              0   \n",
       "2               0               0               1              0   \n",
       "3               0               0               1              0   \n",
       "4               0               0               1              0   \n",
       "\n",
       "   Paved Drive_P  Paved Drive_Y  Overall Qual_1  Overall Qual_2  \\\n",
       "0              1              0               0               0   \n",
       "1              0              1               0               0   \n",
       "2              0              1               0               0   \n",
       "3              0              1               0               0   \n",
       "4              0              1               0               0   \n",
       "\n",
       "   Overall Qual_3  Overall Qual_4  Overall Qual_5  Overall Qual_6  \\\n",
       "0               0               0               0               1   \n",
       "1               0               0               1               0   \n",
       "2               0               0               0               1   \n",
       "3               0               0               0               0   \n",
       "4               0               0               1               0   \n",
       "\n",
       "   Overall Qual_7  Overall Qual_8  Overall Qual_9  Overall Qual_10  \n",
       "0               0               0               0                0  \n",
       "1               0               0               0                0  \n",
       "2               0               0               0                0  \n",
       "3               1               0               0                0  \n",
       "4               0               0               0                0  "
      ],
      "text/html": "<div>\n<style scoped>\n    .dataframe tbody tr th:only-of-type {\n        vertical-align: middle;\n    }\n\n    .dataframe tbody tr th {\n        vertical-align: top;\n    }\n\n    .dataframe thead th {\n        text-align: right;\n    }\n</style>\n<table border=\"1\" class=\"dataframe\">\n  <thead>\n    <tr style=\"text-align: right;\">\n      <th></th>\n      <th>Year Built</th>\n      <th>Year Remod/Add</th>\n      <th>Mas Vnr Area</th>\n      <th>Full Bath</th>\n      <th>Fireplaces</th>\n      <th>Garage Area</th>\n      <th>SalePrice</th>\n      <th>MS Zoning_A (agr)</th>\n      <th>MS Zoning_C (all)</th>\n      <th>MS Zoning_FV</th>\n      <th>MS Zoning_I (all)</th>\n      <th>MS Zoning_RH</th>\n      <th>MS Zoning_RL</th>\n      <th>MS Zoning_RM</th>\n      <th>Street_Grvl</th>\n      <th>Street_Pave</th>\n      <th>Lot Shape_IR1</th>\n      <th>Lot Shape_IR2</th>\n      <th>Lot Shape_IR3</th>\n      <th>Lot Shape_Reg</th>\n      <th>Land Contour_Bnk</th>\n      <th>Land Contour_HLS</th>\n      <th>Land Contour_Low</th>\n      <th>Land Contour_Lvl</th>\n      <th>Utilities_AllPub</th>\n      <th>Utilities_NoSeWa</th>\n      <th>Utilities_NoSewr</th>\n      <th>Lot Config_Corner</th>\n      <th>Lot Config_CulDSac</th>\n      <th>Lot Config_FR2</th>\n      <th>Lot Config_FR3</th>\n      <th>Lot Config_Inside</th>\n      <th>Land Slope_Gtl</th>\n      <th>Land Slope_Mod</th>\n      <th>Land Slope_Sev</th>\n      <th>Condition 1_Artery</th>\n      <th>Condition 1_Feedr</th>\n      <th>Condition 1_Norm</th>\n      <th>Condition 1_PosA</th>\n      <th>Condition 1_PosN</th>\n      <th>Condition 1_RRAe</th>\n      <th>Condition 1_RRAn</th>\n      <th>Condition 1_RRNe</th>\n      <th>Condition 1_RRNn</th>\n      <th>Condition 2_Artery</th>\n      <th>Condition 2_Feedr</th>\n      <th>Condition 2_Norm</th>\n      <th>Condition 2_PosA</th>\n      <th>Condition 2_PosN</th>\n      <th>Condition 2_RRAe</th>\n      <th>Condition 2_RRAn</th>\n      <th>Condition 2_RRNn</th>\n      <th>Bldg Type_1Fam</th>\n      <th>Bldg Type_2fmCon</th>\n      <th>Bldg Type_Duplex</th>\n      <th>Bldg Type_Twnhs</th>\n      <th>Bldg Type_TwnhsE</th>\n      <th>House Style_1.5Fin</th>\n      <th>House Style_1.5Unf</th>\n      <th>House Style_1Story</th>\n      <th>House Style_2.5Fin</th>\n      <th>House Style_2.5Unf</th>\n      <th>House Style_2Story</th>\n      <th>House Style_SFoyer</th>\n      <th>House Style_SLvl</th>\n      <th>Roof Style_Flat</th>\n      <th>Roof Style_Gable</th>\n      <th>Roof Style_Gambrel</th>\n      <th>Roof Style_Hip</th>\n      <th>Roof Style_Mansard</th>\n      <th>Roof Style_Shed</th>\n      <th>Roof Matl_ClyTile</th>\n      <th>Roof Matl_CompShg</th>\n      <th>Roof Matl_Membran</th>\n      <th>Roof Matl_Metal</th>\n      <th>Roof Matl_Roll</th>\n      <th>Roof Matl_Tar&amp;Grv</th>\n      <th>Roof Matl_WdShake</th>\n      <th>Roof Matl_WdShngl</th>\n      <th>Exter Qual_Ex</th>\n      <th>Exter Qual_Fa</th>\n      <th>Exter Qual_Gd</th>\n      <th>Exter Qual_TA</th>\n      <th>Exter Cond_Ex</th>\n      <th>Exter Cond_Fa</th>\n      <th>Exter Cond_Gd</th>\n      <th>Exter Cond_Po</th>\n      <th>Exter Cond_TA</th>\n      <th>Foundation_BrkTil</th>\n      <th>Foundation_CBlock</th>\n      <th>Foundation_PConc</th>\n      <th>Foundation_Slab</th>\n      <th>Foundation_Stone</th>\n      <th>Foundation_Wood</th>\n      <th>Heating_Floor</th>\n      <th>Heating_GasA</th>\n      <th>Heating_GasW</th>\n      <th>Heating_Grav</th>\n      <th>Heating_OthW</th>\n      <th>Heating_Wall</th>\n      <th>Heating QC_Ex</th>\n      <th>Heating QC_Fa</th>\n      <th>Heating QC_Gd</th>\n      <th>Heating QC_Po</th>\n      <th>Heating QC_TA</th>\n      <th>Central Air_N</th>\n      <th>Central Air_Y</th>\n      <th>Kitchen Qual_Ex</th>\n      <th>Kitchen Qual_Fa</th>\n      <th>Kitchen Qual_Gd</th>\n      <th>Kitchen Qual_Po</th>\n      <th>Kitchen Qual_TA</th>\n      <th>Functional_Maj1</th>\n      <th>Functional_Maj2</th>\n      <th>Functional_Min1</th>\n      <th>Functional_Min2</th>\n      <th>Functional_Mod</th>\n      <th>Functional_Sal</th>\n      <th>Functional_Sev</th>\n      <th>Functional_Typ</th>\n      <th>Paved Drive_N</th>\n      <th>Paved Drive_P</th>\n      <th>Paved Drive_Y</th>\n      <th>Overall Qual_1</th>\n      <th>Overall Qual_2</th>\n      <th>Overall Qual_3</th>\n      <th>Overall Qual_4</th>\n      <th>Overall Qual_5</th>\n      <th>Overall Qual_6</th>\n      <th>Overall Qual_7</th>\n      <th>Overall Qual_8</th>\n      <th>Overall Qual_9</th>\n      <th>Overall Qual_10</th>\n    </tr>\n  </thead>\n  <tbody>\n    <tr>\n      <th>0</th>\n      <td>1960</td>\n      <td>1960</td>\n      <td>112.0</td>\n      <td>1</td>\n      <td>2</td>\n      <td>528.0</td>\n      <td>215000</td>\n      <td>0</td>\n      <td>0</td>\n      <td>0</td>\n      <td>0</td>\n      <td>0</td>\n      <td>1</td>\n      <td>0</td>\n      <td>0</td>\n      <td>1</td>\n      <td>1</td>\n      <td>0</td>\n      <td>0</td>\n      <td>0</td>\n      <td>0</td>\n      <td>0</td>\n      <td>0</td>\n      <td>1</td>\n      <td>1</td>\n      <td>0</td>\n      <td>0</td>\n      <td>1</td>\n      <td>0</td>\n      <td>0</td>\n      <td>0</td>\n      <td>0</td>\n      <td>1</td>\n      <td>0</td>\n      <td>0</td>\n      <td>0</td>\n      <td>0</td>\n      <td>1</td>\n      <td>0</td>\n      <td>0</td>\n      <td>0</td>\n      <td>0</td>\n      <td>0</td>\n      <td>0</td>\n      <td>0</td>\n      <td>0</td>\n      <td>1</td>\n      <td>0</td>\n      <td>0</td>\n      <td>0</td>\n      <td>0</td>\n      <td>0</td>\n      <td>1</td>\n      <td>0</td>\n      <td>0</td>\n      <td>0</td>\n      <td>0</td>\n      <td>0</td>\n      <td>0</td>\n      <td>1</td>\n      <td>0</td>\n      <td>0</td>\n      <td>0</td>\n      <td>0</td>\n      <td>0</td>\n      <td>0</td>\n      <td>0</td>\n      <td>0</td>\n      <td>1</td>\n      <td>0</td>\n      <td>0</td>\n      <td>0</td>\n      <td>1</td>\n      <td>0</td>\n      <td>0</td>\n      <td>0</td>\n      <td>0</td>\n      <td>0</td>\n      <td>0</td>\n      <td>0</td>\n      <td>0</td>\n      <td>0</td>\n      <td>1</td>\n      <td>0</td>\n      <td>0</td>\n      <td>0</td>\n      <td>0</td>\n      <td>1</td>\n      <td>0</td>\n      <td>1</td>\n      <td>0</td>\n      <td>0</td>\n      <td>0</td>\n      <td>0</td>\n      <td>0</td>\n      <td>1</td>\n      <td>0</td>\n      <td>0</td>\n      <td>0</td>\n      <td>0</td>\n      <td>0</td>\n      <td>1</td>\n      <td>0</td>\n      <td>0</td>\n      <td>0</td>\n      <td>0</td>\n      <td>1</td>\n      <td>0</td>\n      <td>0</td>\n      <td>0</td>\n      <td>0</td>\n      <td>1</td>\n      <td>0</td>\n      <td>0</td>\n      <td>0</td>\n      <td>0</td>\n      <td>0</td>\n      <td>0</td>\n      <td>0</td>\n      <td>1</td>\n      <td>0</td>\n      <td>1</td>\n      <td>0</td>\n      <td>0</td>\n      <td>0</td>\n      <td>0</td>\n      <td>0</td>\n      <td>0</td>\n      <td>1</td>\n      <td>0</td>\n      <td>0</td>\n      <td>0</td>\n      <td>0</td>\n    </tr>\n    <tr>\n      <th>1</th>\n      <td>1961</td>\n      <td>1961</td>\n      <td>0.0</td>\n      <td>1</td>\n      <td>0</td>\n      <td>730.0</td>\n      <td>105000</td>\n      <td>0</td>\n      <td>0</td>\n      <td>0</td>\n      <td>0</td>\n      <td>1</td>\n      <td>0</td>\n      <td>0</td>\n      <td>0</td>\n      <td>1</td>\n      <td>0</td>\n      <td>0</td>\n      <td>0</td>\n      <td>1</td>\n      <td>0</td>\n      <td>0</td>\n      <td>0</td>\n      <td>1</td>\n      <td>1</td>\n      <td>0</td>\n      <td>0</td>\n      <td>0</td>\n      <td>0</td>\n      <td>0</td>\n      <td>0</td>\n      <td>1</td>\n      <td>1</td>\n      <td>0</td>\n      <td>0</td>\n      <td>0</td>\n      <td>1</td>\n      <td>0</td>\n      <td>0</td>\n      <td>0</td>\n      <td>0</td>\n      <td>0</td>\n      <td>0</td>\n      <td>0</td>\n      <td>0</td>\n      <td>0</td>\n      <td>1</td>\n      <td>0</td>\n      <td>0</td>\n      <td>0</td>\n      <td>0</td>\n      <td>0</td>\n      <td>1</td>\n      <td>0</td>\n      <td>0</td>\n      <td>0</td>\n      <td>0</td>\n      <td>0</td>\n      <td>0</td>\n      <td>1</td>\n      <td>0</td>\n      <td>0</td>\n      <td>0</td>\n      <td>0</td>\n      <td>0</td>\n      <td>0</td>\n      <td>1</td>\n      <td>0</td>\n      <td>0</td>\n      <td>0</td>\n      <td>0</td>\n      <td>0</td>\n      <td>1</td>\n      <td>0</td>\n      <td>0</td>\n      <td>0</td>\n      <td>0</td>\n      <td>0</td>\n      <td>0</td>\n      <td>0</td>\n      <td>0</td>\n      <td>0</td>\n      <td>1</td>\n      <td>0</td>\n      <td>0</td>\n      <td>0</td>\n      <td>0</td>\n      <td>1</td>\n      <td>0</td>\n      <td>1</td>\n      <td>0</td>\n      <td>0</td>\n      <td>0</td>\n      <td>0</td>\n      <td>0</td>\n      <td>1</td>\n      <td>0</td>\n      <td>0</td>\n      <td>0</td>\n      <td>0</td>\n      <td>0</td>\n      <td>0</td>\n      <td>0</td>\n      <td>0</td>\n      <td>1</td>\n      <td>0</td>\n      <td>1</td>\n      <td>0</td>\n      <td>0</td>\n      <td>0</td>\n      <td>0</td>\n      <td>1</td>\n      <td>0</td>\n      <td>0</td>\n      <td>0</td>\n      <td>0</td>\n      <td>0</td>\n      <td>0</td>\n      <td>0</td>\n      <td>1</td>\n      <td>0</td>\n      <td>0</td>\n      <td>1</td>\n      <td>0</td>\n      <td>0</td>\n      <td>0</td>\n      <td>0</td>\n      <td>1</td>\n      <td>0</td>\n      <td>0</td>\n      <td>0</td>\n      <td>0</td>\n      <td>0</td>\n    </tr>\n    <tr>\n      <th>2</th>\n      <td>1958</td>\n      <td>1958</td>\n      <td>108.0</td>\n      <td>1</td>\n      <td>0</td>\n      <td>312.0</td>\n      <td>172000</td>\n      <td>0</td>\n      <td>0</td>\n      <td>0</td>\n      <td>0</td>\n      <td>0</td>\n      <td>1</td>\n      <td>0</td>\n      <td>0</td>\n      <td>1</td>\n      <td>1</td>\n      <td>0</td>\n      <td>0</td>\n      <td>0</td>\n      <td>0</td>\n      <td>0</td>\n      <td>0</td>\n      <td>1</td>\n      <td>1</td>\n      <td>0</td>\n      <td>0</td>\n      <td>1</td>\n      <td>0</td>\n      <td>0</td>\n      <td>0</td>\n      <td>0</td>\n      <td>1</td>\n      <td>0</td>\n      <td>0</td>\n      <td>0</td>\n      <td>0</td>\n      <td>1</td>\n      <td>0</td>\n      <td>0</td>\n      <td>0</td>\n      <td>0</td>\n      <td>0</td>\n      <td>0</td>\n      <td>0</td>\n      <td>0</td>\n      <td>1</td>\n      <td>0</td>\n      <td>0</td>\n      <td>0</td>\n      <td>0</td>\n      <td>0</td>\n      <td>1</td>\n      <td>0</td>\n      <td>0</td>\n      <td>0</td>\n      <td>0</td>\n      <td>0</td>\n      <td>0</td>\n      <td>1</td>\n      <td>0</td>\n      <td>0</td>\n      <td>0</td>\n      <td>0</td>\n      <td>0</td>\n      <td>0</td>\n      <td>0</td>\n      <td>0</td>\n      <td>1</td>\n      <td>0</td>\n      <td>0</td>\n      <td>0</td>\n      <td>1</td>\n      <td>0</td>\n      <td>0</td>\n      <td>0</td>\n      <td>0</td>\n      <td>0</td>\n      <td>0</td>\n      <td>0</td>\n      <td>0</td>\n      <td>0</td>\n      <td>1</td>\n      <td>0</td>\n      <td>0</td>\n      <td>0</td>\n      <td>0</td>\n      <td>1</td>\n      <td>0</td>\n      <td>1</td>\n      <td>0</td>\n      <td>0</td>\n      <td>0</td>\n      <td>0</td>\n      <td>0</td>\n      <td>1</td>\n      <td>0</td>\n      <td>0</td>\n      <td>0</td>\n      <td>0</td>\n      <td>0</td>\n      <td>0</td>\n      <td>0</td>\n      <td>0</td>\n      <td>1</td>\n      <td>0</td>\n      <td>1</td>\n      <td>0</td>\n      <td>0</td>\n      <td>1</td>\n      <td>0</td>\n      <td>0</td>\n      <td>0</td>\n      <td>0</td>\n      <td>0</td>\n      <td>0</td>\n      <td>0</td>\n      <td>0</td>\n      <td>0</td>\n      <td>1</td>\n      <td>0</td>\n      <td>0</td>\n      <td>1</td>\n      <td>0</td>\n      <td>0</td>\n      <td>0</td>\n      <td>0</td>\n      <td>0</td>\n      <td>1</td>\n      <td>0</td>\n      <td>0</td>\n      <td>0</td>\n      <td>0</td>\n    </tr>\n    <tr>\n      <th>3</th>\n      <td>1968</td>\n      <td>1968</td>\n      <td>0.0</td>\n      <td>2</td>\n      <td>2</td>\n      <td>522.0</td>\n      <td>244000</td>\n      <td>0</td>\n      <td>0</td>\n      <td>0</td>\n      <td>0</td>\n      <td>0</td>\n      <td>1</td>\n      <td>0</td>\n      <td>0</td>\n      <td>1</td>\n      <td>0</td>\n      <td>0</td>\n      <td>0</td>\n      <td>1</td>\n      <td>0</td>\n      <td>0</td>\n      <td>0</td>\n      <td>1</td>\n      <td>1</td>\n      <td>0</td>\n      <td>0</td>\n      <td>1</td>\n      <td>0</td>\n      <td>0</td>\n      <td>0</td>\n      <td>0</td>\n      <td>1</td>\n      <td>0</td>\n      <td>0</td>\n      <td>0</td>\n      <td>0</td>\n      <td>1</td>\n      <td>0</td>\n      <td>0</td>\n      <td>0</td>\n      <td>0</td>\n      <td>0</td>\n      <td>0</td>\n      <td>0</td>\n      <td>0</td>\n      <td>1</td>\n      <td>0</td>\n      <td>0</td>\n      <td>0</td>\n      <td>0</td>\n      <td>0</td>\n      <td>1</td>\n      <td>0</td>\n      <td>0</td>\n      <td>0</td>\n      <td>0</td>\n      <td>0</td>\n      <td>0</td>\n      <td>1</td>\n      <td>0</td>\n      <td>0</td>\n      <td>0</td>\n      <td>0</td>\n      <td>0</td>\n      <td>0</td>\n      <td>0</td>\n      <td>0</td>\n      <td>1</td>\n      <td>0</td>\n      <td>0</td>\n      <td>0</td>\n      <td>1</td>\n      <td>0</td>\n      <td>0</td>\n      <td>0</td>\n      <td>0</td>\n      <td>0</td>\n      <td>0</td>\n      <td>0</td>\n      <td>0</td>\n      <td>1</td>\n      <td>0</td>\n      <td>0</td>\n      <td>0</td>\n      <td>0</td>\n      <td>0</td>\n      <td>1</td>\n      <td>0</td>\n      <td>1</td>\n      <td>0</td>\n      <td>0</td>\n      <td>0</td>\n      <td>0</td>\n      <td>0</td>\n      <td>1</td>\n      <td>0</td>\n      <td>0</td>\n      <td>0</td>\n      <td>0</td>\n      <td>1</td>\n      <td>0</td>\n      <td>0</td>\n      <td>0</td>\n      <td>0</td>\n      <td>0</td>\n      <td>1</td>\n      <td>1</td>\n      <td>0</td>\n      <td>0</td>\n      <td>0</td>\n      <td>0</td>\n      <td>0</td>\n      <td>0</td>\n      <td>0</td>\n      <td>0</td>\n      <td>0</td>\n      <td>0</td>\n      <td>0</td>\n      <td>1</td>\n      <td>0</td>\n      <td>0</td>\n      <td>1</td>\n      <td>0</td>\n      <td>0</td>\n      <td>0</td>\n      <td>0</td>\n      <td>0</td>\n      <td>0</td>\n      <td>1</td>\n      <td>0</td>\n      <td>0</td>\n      <td>0</td>\n    </tr>\n    <tr>\n      <th>4</th>\n      <td>1997</td>\n      <td>1998</td>\n      <td>0.0</td>\n      <td>2</td>\n      <td>1</td>\n      <td>482.0</td>\n      <td>189900</td>\n      <td>0</td>\n      <td>0</td>\n      <td>0</td>\n      <td>0</td>\n      <td>0</td>\n      <td>1</td>\n      <td>0</td>\n      <td>0</td>\n      <td>1</td>\n      <td>1</td>\n      <td>0</td>\n      <td>0</td>\n      <td>0</td>\n      <td>0</td>\n      <td>0</td>\n      <td>0</td>\n      <td>1</td>\n      <td>1</td>\n      <td>0</td>\n      <td>0</td>\n      <td>0</td>\n      <td>0</td>\n      <td>0</td>\n      <td>0</td>\n      <td>1</td>\n      <td>1</td>\n      <td>0</td>\n      <td>0</td>\n      <td>0</td>\n      <td>0</td>\n      <td>1</td>\n      <td>0</td>\n      <td>0</td>\n      <td>0</td>\n      <td>0</td>\n      <td>0</td>\n      <td>0</td>\n      <td>0</td>\n      <td>0</td>\n      <td>1</td>\n      <td>0</td>\n      <td>0</td>\n      <td>0</td>\n      <td>0</td>\n      <td>0</td>\n      <td>1</td>\n      <td>0</td>\n      <td>0</td>\n      <td>0</td>\n      <td>0</td>\n      <td>0</td>\n      <td>0</td>\n      <td>0</td>\n      <td>0</td>\n      <td>0</td>\n      <td>1</td>\n      <td>0</td>\n      <td>0</td>\n      <td>0</td>\n      <td>1</td>\n      <td>0</td>\n      <td>0</td>\n      <td>0</td>\n      <td>0</td>\n      <td>0</td>\n      <td>1</td>\n      <td>0</td>\n      <td>0</td>\n      <td>0</td>\n      <td>0</td>\n      <td>0</td>\n      <td>0</td>\n      <td>0</td>\n      <td>0</td>\n      <td>0</td>\n      <td>1</td>\n      <td>0</td>\n      <td>0</td>\n      <td>0</td>\n      <td>0</td>\n      <td>1</td>\n      <td>0</td>\n      <td>0</td>\n      <td>1</td>\n      <td>0</td>\n      <td>0</td>\n      <td>0</td>\n      <td>0</td>\n      <td>1</td>\n      <td>0</td>\n      <td>0</td>\n      <td>0</td>\n      <td>0</td>\n      <td>0</td>\n      <td>0</td>\n      <td>1</td>\n      <td>0</td>\n      <td>0</td>\n      <td>0</td>\n      <td>1</td>\n      <td>0</td>\n      <td>0</td>\n      <td>0</td>\n      <td>0</td>\n      <td>1</td>\n      <td>0</td>\n      <td>0</td>\n      <td>0</td>\n      <td>0</td>\n      <td>0</td>\n      <td>0</td>\n      <td>0</td>\n      <td>1</td>\n      <td>0</td>\n      <td>0</td>\n      <td>1</td>\n      <td>0</td>\n      <td>0</td>\n      <td>0</td>\n      <td>0</td>\n      <td>1</td>\n      <td>0</td>\n      <td>0</td>\n      <td>0</td>\n      <td>0</td>\n      <td>0</td>\n    </tr>\n  </tbody>\n</table>\n</div>"
     },
     "metadata": {},
     "execution_count": 96
    }
   ],
   "source": [
    "df.head()"
   ]
  },
  {
   "source": [
    "# Predictions"
   ],
   "cell_type": "markdown",
   "metadata": {}
  },
  {
   "cell_type": "code",
   "execution_count": 38,
   "metadata": {},
   "outputs": [],
   "source": [
    "def train_and_test(df):\n",
    "    train = df.iloc[:1460]\n",
    "    test = df.iloc[1460:]\n",
    "\n",
    "    train_x = train.select_dtypes(include=['integer', 'float']).drop(\"SalePrice\", axis=1)\n",
    "    train_y = train['SalePrice']\n",
    "\n",
    "    test_x = test.select_dtypes(include=['integer', 'float']).drop(\"SalePrice\", axis=1)\n",
    "    test_y = test['SalePrice']\n",
    "\n",
    "    lr = LinearRegression()\n",
    "    lr.fit(train_x, train_y)\n",
    "\n",
    "    predictions = lr.predict(test_x)\n",
    "\n",
    "    rmse = np.sqrt(mean_squared_error(test_y, predictions))\n",
    "\n",
    "    return rmse"
   ]
  },
  {
   "cell_type": "code",
   "execution_count": 97,
   "metadata": {},
   "outputs": [
    {
     "output_type": "execute_result",
     "data": {
      "text/plain": [
       "37062.19185166644"
      ]
     },
     "metadata": {},
     "execution_count": 97
    }
   ],
   "source": [
    "train_and_test(df)"
   ]
  },
  {
   "source": [
    "## K_fold"
   ],
   "cell_type": "markdown",
   "metadata": {}
  },
  {
   "cell_type": "code",
   "execution_count": 99,
   "metadata": {},
   "outputs": [],
   "source": [
    "x = df.drop(\"SalePrice\", axis=1)\n",
    "y = df['SalePrice']"
   ]
  },
  {
   "cell_type": "code",
   "execution_count": 100,
   "metadata": {},
   "outputs": [],
   "source": [
    "#Using K-fold to split data\n",
    "kf = KFold(n_splits = 5, shuffle = True, random_state = 1)\n",
    "lr = LinearRegression()\n",
    "\n",
    "#Calculating the average of the means squared errors\n",
    "mses = cross_val_score(lr, x, y, scoring='neg_mean_squared_error', cv=kf)\n",
    "rmses = np.sqrt(np.absolute(mses))\n",
    "avg_rmse = np.mean(rmses)"
   ]
  },
  {
   "cell_type": "code",
   "execution_count": 101,
   "metadata": {},
   "outputs": [
    {
     "output_type": "execute_result",
     "data": {
      "text/plain": [
       "34235.66567752325"
      ]
     },
     "metadata": {},
     "execution_count": 101
    }
   ],
   "source": [
    "avg_rmse"
   ]
  },
  {
   "cell_type": "code",
   "execution_count": null,
   "metadata": {},
   "outputs": [],
   "source": []
  }
 ],
 "metadata": {
  "anaconda-cloud": {},
  "kernelspec": {
   "name": "python3",
   "display_name": "Python 3.8.3 64-bit (conda)",
   "metadata": {
    "interpreter": {
     "hash": "b5dffa170b6140cba068478fdcd78d1e33100eeee1ca2b5b4d7b551e323a719e"
    }
   }
  },
  "language_info": {
   "codemirror_mode": {
    "name": "ipython",
    "version": 3
   },
   "file_extension": ".py",
   "mimetype": "text/x-python",
   "name": "python",
   "nbconvert_exporter": "python",
   "pygments_lexer": "ipython3",
   "version": "3.8.3-final"
  }
 },
 "nbformat": 4,
 "nbformat_minor": 2
}